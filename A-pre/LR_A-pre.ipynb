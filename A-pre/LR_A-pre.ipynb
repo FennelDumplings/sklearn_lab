{
 "cells": [
  {
   "cell_type": "code",
   "execution_count": 1,
   "metadata": {},
   "outputs": [],
   "source": [
    "%matplotlib inline\n",
    "\n",
    "import numpy as np\n",
    "import pandas as pd\n",
    "from sklearn.linear_model import LogisticRegression as LR"
   ]
  },
  {
   "cell_type": "code",
   "execution_count": 2,
   "metadata": {},
   "outputs": [
    {
     "name": "stdout",
     "output_type": "stream",
     "text": [
      "(150000, 11)\n"
     ]
    }
   ],
   "source": [
    "data = pd.read_csv(\"rankingcard.csv\", index_col=0)\n",
    "print(data.shape)"
   ]
  },
  {
   "cell_type": "code",
   "execution_count": 3,
   "metadata": {},
   "outputs": [
    {
     "data": {
      "text/html": [
       "<div>\n",
       "<style scoped>\n",
       "    .dataframe tbody tr th:only-of-type {\n",
       "        vertical-align: middle;\n",
       "    }\n",
       "\n",
       "    .dataframe tbody tr th {\n",
       "        vertical-align: top;\n",
       "    }\n",
       "\n",
       "    .dataframe thead th {\n",
       "        text-align: right;\n",
       "    }\n",
       "</style>\n",
       "<table border=\"1\" class=\"dataframe\">\n",
       "  <thead>\n",
       "    <tr style=\"text-align: right;\">\n",
       "      <th></th>\n",
       "      <th>SeriousDlqin2yrs</th>\n",
       "      <th>RevolvingUtilizationOfUnsecuredLines</th>\n",
       "      <th>age</th>\n",
       "      <th>NumberOfTime30-59DaysPastDueNotWorse</th>\n",
       "      <th>DebtRatio</th>\n",
       "      <th>MonthlyIncome</th>\n",
       "      <th>NumberOfOpenCreditLinesAndLoans</th>\n",
       "      <th>NumberOfTimes90DaysLate</th>\n",
       "      <th>NumberRealEstateLoansOrLines</th>\n",
       "      <th>NumberOfTime60-89DaysPastDueNotWorse</th>\n",
       "      <th>NumberOfDependents</th>\n",
       "    </tr>\n",
       "  </thead>\n",
       "  <tbody>\n",
       "    <tr>\n",
       "      <th>1</th>\n",
       "      <td>1</td>\n",
       "      <td>0.766127</td>\n",
       "      <td>45</td>\n",
       "      <td>2</td>\n",
       "      <td>0.802982</td>\n",
       "      <td>9120.0</td>\n",
       "      <td>13</td>\n",
       "      <td>0</td>\n",
       "      <td>6</td>\n",
       "      <td>0</td>\n",
       "      <td>2.0</td>\n",
       "    </tr>\n",
       "    <tr>\n",
       "      <th>2</th>\n",
       "      <td>0</td>\n",
       "      <td>0.957151</td>\n",
       "      <td>40</td>\n",
       "      <td>0</td>\n",
       "      <td>0.121876</td>\n",
       "      <td>2600.0</td>\n",
       "      <td>4</td>\n",
       "      <td>0</td>\n",
       "      <td>0</td>\n",
       "      <td>0</td>\n",
       "      <td>1.0</td>\n",
       "    </tr>\n",
       "    <tr>\n",
       "      <th>3</th>\n",
       "      <td>0</td>\n",
       "      <td>0.658180</td>\n",
       "      <td>38</td>\n",
       "      <td>1</td>\n",
       "      <td>0.085113</td>\n",
       "      <td>3042.0</td>\n",
       "      <td>2</td>\n",
       "      <td>1</td>\n",
       "      <td>0</td>\n",
       "      <td>0</td>\n",
       "      <td>0.0</td>\n",
       "    </tr>\n",
       "    <tr>\n",
       "      <th>4</th>\n",
       "      <td>0</td>\n",
       "      <td>0.233810</td>\n",
       "      <td>30</td>\n",
       "      <td>0</td>\n",
       "      <td>0.036050</td>\n",
       "      <td>3300.0</td>\n",
       "      <td>5</td>\n",
       "      <td>0</td>\n",
       "      <td>0</td>\n",
       "      <td>0</td>\n",
       "      <td>0.0</td>\n",
       "    </tr>\n",
       "    <tr>\n",
       "      <th>5</th>\n",
       "      <td>0</td>\n",
       "      <td>0.907239</td>\n",
       "      <td>49</td>\n",
       "      <td>1</td>\n",
       "      <td>0.024926</td>\n",
       "      <td>63588.0</td>\n",
       "      <td>7</td>\n",
       "      <td>0</td>\n",
       "      <td>1</td>\n",
       "      <td>0</td>\n",
       "      <td>0.0</td>\n",
       "    </tr>\n",
       "  </tbody>\n",
       "</table>\n",
       "</div>"
      ],
      "text/plain": [
       "   SeriousDlqin2yrs  RevolvingUtilizationOfUnsecuredLines  age  \\\n",
       "1                 1                              0.766127   45   \n",
       "2                 0                              0.957151   40   \n",
       "3                 0                              0.658180   38   \n",
       "4                 0                              0.233810   30   \n",
       "5                 0                              0.907239   49   \n",
       "\n",
       "   NumberOfTime30-59DaysPastDueNotWorse  DebtRatio  MonthlyIncome  \\\n",
       "1                                     2   0.802982         9120.0   \n",
       "2                                     0   0.121876         2600.0   \n",
       "3                                     1   0.085113         3042.0   \n",
       "4                                     0   0.036050         3300.0   \n",
       "5                                     1   0.024926        63588.0   \n",
       "\n",
       "   NumberOfOpenCreditLinesAndLoans  NumberOfTimes90DaysLate  \\\n",
       "1                               13                        0   \n",
       "2                                4                        0   \n",
       "3                                2                        1   \n",
       "4                                5                        0   \n",
       "5                                7                        0   \n",
       "\n",
       "   NumberRealEstateLoansOrLines  NumberOfTime60-89DaysPastDueNotWorse  \\\n",
       "1                             6                                     0   \n",
       "2                             0                                     0   \n",
       "3                             0                                     0   \n",
       "4                             0                                     0   \n",
       "5                             1                                     0   \n",
       "\n",
       "   NumberOfDependents  \n",
       "1                 2.0  \n",
       "2                 1.0  \n",
       "3                 0.0  \n",
       "4                 0.0  \n",
       "5                 0.0  "
      ]
     },
     "execution_count": 3,
     "metadata": {},
     "output_type": "execute_result"
    }
   ],
   "source": [
    "data.head()"
   ]
  },
  {
   "cell_type": "markdown",
   "metadata": {},
   "source": [
    "# 探索数据以及数据预处理\n",
    "缺失值，量纲是否统一，是否需要做哑变量"
   ]
  },
  {
   "cell_type": "code",
   "execution_count": 4,
   "metadata": {},
   "outputs": [
    {
     "name": "stdout",
     "output_type": "stream",
     "text": [
      "<class 'pandas.core.frame.DataFrame'>\n",
      "Int64Index: 150000 entries, 1 to 150000\n",
      "Data columns (total 11 columns):\n",
      " #   Column                                Non-Null Count   Dtype  \n",
      "---  ------                                --------------   -----  \n",
      " 0   SeriousDlqin2yrs                      150000 non-null  int64  \n",
      " 1   RevolvingUtilizationOfUnsecuredLines  150000 non-null  float64\n",
      " 2   age                                   150000 non-null  int64  \n",
      " 3   NumberOfTime30-59DaysPastDueNotWorse  150000 non-null  int64  \n",
      " 4   DebtRatio                             150000 non-null  float64\n",
      " 5   MonthlyIncome                         120269 non-null  float64\n",
      " 6   NumberOfOpenCreditLinesAndLoans       150000 non-null  int64  \n",
      " 7   NumberOfTimes90DaysLate               150000 non-null  int64  \n",
      " 8   NumberRealEstateLoansOrLines          150000 non-null  int64  \n",
      " 9   NumberOfTime60-89DaysPastDueNotWorse  150000 non-null  int64  \n",
      " 10  NumberOfDependents                    146076 non-null  float64\n",
      "dtypes: float64(4), int64(7)\n",
      "memory usage: 13.7 MB\n"
     ]
    }
   ],
   "source": [
    "data.info()"
   ]
  },
  {
   "cell_type": "markdown",
   "metadata": {},
   "source": [
    "# 去除重复值"
   ]
  },
  {
   "cell_type": "code",
   "execution_count": 5,
   "metadata": {},
   "outputs": [
    {
     "name": "stdout",
     "output_type": "stream",
     "text": [
      "<class 'pandas.core.frame.DataFrame'>\n",
      "Int64Index: 149391 entries, 1 to 150000\n",
      "Data columns (total 11 columns):\n",
      " #   Column                                Non-Null Count   Dtype  \n",
      "---  ------                                --------------   -----  \n",
      " 0   SeriousDlqin2yrs                      149391 non-null  int64  \n",
      " 1   RevolvingUtilizationOfUnsecuredLines  149391 non-null  float64\n",
      " 2   age                                   149391 non-null  int64  \n",
      " 3   NumberOfTime30-59DaysPastDueNotWorse  149391 non-null  int64  \n",
      " 4   DebtRatio                             149391 non-null  float64\n",
      " 5   MonthlyIncome                         120170 non-null  float64\n",
      " 6   NumberOfOpenCreditLinesAndLoans       149391 non-null  int64  \n",
      " 7   NumberOfTimes90DaysLate               149391 non-null  int64  \n",
      " 8   NumberRealEstateLoansOrLines          149391 non-null  int64  \n",
      " 9   NumberOfTime60-89DaysPastDueNotWorse  149391 non-null  int64  \n",
      " 10  NumberOfDependents                    145563 non-null  float64\n",
      "dtypes: float64(4), int64(7)\n",
      "memory usage: 13.7 MB\n"
     ]
    }
   ],
   "source": [
    "data.drop_duplicates(inplace=True)\n",
    "data.info()"
   ]
  },
  {
   "cell_type": "code",
   "execution_count": 6,
   "metadata": {},
   "outputs": [
    {
     "name": "stdout",
     "output_type": "stream",
     "text": [
      "<class 'pandas.core.frame.DataFrame'>\n",
      "RangeIndex: 149391 entries, 0 to 149390\n",
      "Data columns (total 11 columns):\n",
      " #   Column                                Non-Null Count   Dtype  \n",
      "---  ------                                --------------   -----  \n",
      " 0   SeriousDlqin2yrs                      149391 non-null  int64  \n",
      " 1   RevolvingUtilizationOfUnsecuredLines  149391 non-null  float64\n",
      " 2   age                                   149391 non-null  int64  \n",
      " 3   NumberOfTime30-59DaysPastDueNotWorse  149391 non-null  int64  \n",
      " 4   DebtRatio                             149391 non-null  float64\n",
      " 5   MonthlyIncome                         120170 non-null  float64\n",
      " 6   NumberOfOpenCreditLinesAndLoans       149391 non-null  int64  \n",
      " 7   NumberOfTimes90DaysLate               149391 non-null  int64  \n",
      " 8   NumberRealEstateLoansOrLines          149391 non-null  int64  \n",
      " 9   NumberOfTime60-89DaysPastDueNotWorse  149391 non-null  int64  \n",
      " 10  NumberOfDependents                    145563 non-null  float64\n",
      "dtypes: float64(4), int64(7)\n",
      "memory usage: 12.5 MB\n"
     ]
    }
   ],
   "source": [
    "data.index = range(data.shape[0])\n",
    "data.info()"
   ]
  },
  {
   "cell_type": "markdown",
   "metadata": {},
   "source": [
    "# 填补缺失值\n",
    "- 空值比例\n",
    "  - 2% 的可以直接删，或者用均值填补\n",
    "  - 缺失 20% 的需要填补"
   ]
  },
  {
   "cell_type": "code",
   "execution_count": 7,
   "metadata": {},
   "outputs": [
    {
     "data": {
      "text/plain": [
       "SeriousDlqin2yrs                        0.000000\n",
       "RevolvingUtilizationOfUnsecuredLines    0.000000\n",
       "age                                     0.000000\n",
       "NumberOfTime30-59DaysPastDueNotWorse    0.000000\n",
       "DebtRatio                               0.000000\n",
       "MonthlyIncome                           0.195601\n",
       "NumberOfOpenCreditLinesAndLoans         0.000000\n",
       "NumberOfTimes90DaysLate                 0.000000\n",
       "NumberRealEstateLoansOrLines            0.000000\n",
       "NumberOfTime60-89DaysPastDueNotWorse    0.000000\n",
       "NumberOfDependents                      0.025624\n",
       "dtype: float64"
      ]
     },
     "execution_count": 7,
     "metadata": {},
     "output_type": "execute_result"
    }
   ],
   "source": [
    "data.isnull().sum() / data.shape[0]"
   ]
  },
  {
   "cell_type": "markdown",
   "metadata": {},
   "source": [
    "# 使用均值填补家属人数(缺2%)"
   ]
  },
  {
   "cell_type": "code",
   "execution_count": 8,
   "metadata": {},
   "outputs": [
    {
     "data": {
      "text/plain": [
       "0         2.0\n",
       "1         1.0\n",
       "2         0.0\n",
       "3         0.0\n",
       "4         0.0\n",
       "         ... \n",
       "149386    0.0\n",
       "149387    2.0\n",
       "149388    0.0\n",
       "149389    0.0\n",
       "149390    0.0\n",
       "Name: NumberOfDependents, Length: 149391, dtype: float64"
      ]
     },
     "execution_count": 8,
     "metadata": {},
     "output_type": "execute_result"
    }
   ],
   "source": [
    "data[\"NumberOfDependents\"].fillna(int(data[\"NumberOfDependents\"].mean()), inplace=True)\n",
    "data[\"NumberOfDependents\"]"
   ]
  },
  {
   "cell_type": "code",
   "execution_count": 9,
   "metadata": {},
   "outputs": [
    {
     "data": {
      "text/plain": [
       "SeriousDlqin2yrs                        0.000000\n",
       "RevolvingUtilizationOfUnsecuredLines    0.000000\n",
       "age                                     0.000000\n",
       "NumberOfTime30-59DaysPastDueNotWorse    0.000000\n",
       "DebtRatio                               0.000000\n",
       "MonthlyIncome                           0.195601\n",
       "NumberOfOpenCreditLinesAndLoans         0.000000\n",
       "NumberOfTimes90DaysLate                 0.000000\n",
       "NumberRealEstateLoansOrLines            0.000000\n",
       "NumberOfTime60-89DaysPastDueNotWorse    0.000000\n",
       "NumberOfDependents                      0.000000\n",
       "dtype: float64"
      ]
     },
     "execution_count": 9,
     "metadata": {},
     "output_type": "execute_result"
    }
   ],
   "source": [
    "data.isnull().mean()"
   ]
  },
  {
   "cell_type": "markdown",
   "metadata": {},
   "source": [
    "# 用随机森林填充收入(缺20%)"
   ]
  },
  {
   "cell_type": "code",
   "execution_count": 10,
   "metadata": {},
   "outputs": [],
   "source": [
    "from sklearn.ensemble import RandomForestRegressor as RFR\n",
    "\n",
    "def fill_missing_rf(X, y, to_fill):\n",
    "    \"\"\"\n",
    "    随机森林填补一个特征的缺失值\n",
    "    X: 要填补的特征矩阵\n",
    "    y: 完整的没有缺失值的标签\n",
    "    to_fill: 要填补的列名\n",
    "    \"\"\"\n",
    "    \n",
    "    df = X.copy()\n",
    "    fill = df.loc[:, to_fill]\n",
    "    df = pd.concat([df.loc[:, df.columns != to_fill], pd.DataFrame(y)], axis=1)\n",
    "    \n",
    "    # 分训练集测试集\n",
    "    YTrain = fill[fill.notnull()] # 要填的那一列非空的部分\n",
    "    YTest = fill[fill.isnull()] \n",
    "    XTrain = df.iloc[YTrain.index, :]\n",
    "    XTest = df.iloc[YTest.index, :]\n",
    "    \n",
    "    rfr = RFR(n_estimators=100)\n",
    "    rfr = rfr.fit(XTrain, YTrain)\n",
    "    Ypredict = rfr.predict(XTest)\n",
    "    \n",
    "    return Ypredict"
   ]
  },
  {
   "cell_type": "code",
   "execution_count": 11,
   "metadata": {},
   "outputs": [
    {
     "data": {
      "text/plain": [
       "(149391, 10)"
      ]
     },
     "execution_count": 11,
     "metadata": {},
     "output_type": "execute_result"
    }
   ],
   "source": [
    "X = data.iloc[:, 1:]\n",
    "y = data.iloc[:, 0]\n",
    "X.shape"
   ]
  },
  {
   "cell_type": "code",
   "execution_count": 12,
   "metadata": {},
   "outputs": [],
   "source": [
    "y_pred = fill_missing_rf(X, y, \"MonthlyIncome\")"
   ]
  },
  {
   "cell_type": "code",
   "execution_count": 13,
   "metadata": {},
   "outputs": [],
   "source": [
    "# 确认结果合理后，将数据覆盖\n",
    "data.loc[data.loc[:, \"MonthlyIncome\"].isnull(), \"MonthlyIncome\"] = y_pred"
   ]
  },
  {
   "cell_type": "markdown",
   "metadata": {},
   "source": [
    "# 异常值\n",
    "\n",
    "- 箱线图\n",
    "- 3sigma 法则"
   ]
  },
  {
   "cell_type": "code",
   "execution_count": 14,
   "metadata": {},
   "outputs": [
    {
     "data": {
      "text/html": [
       "<div>\n",
       "<style scoped>\n",
       "    .dataframe tbody tr th:only-of-type {\n",
       "        vertical-align: middle;\n",
       "    }\n",
       "\n",
       "    .dataframe tbody tr th {\n",
       "        vertical-align: top;\n",
       "    }\n",
       "\n",
       "    .dataframe thead th {\n",
       "        text-align: right;\n",
       "    }\n",
       "</style>\n",
       "<table border=\"1\" class=\"dataframe\">\n",
       "  <thead>\n",
       "    <tr style=\"text-align: right;\">\n",
       "      <th></th>\n",
       "      <th>SeriousDlqin2yrs</th>\n",
       "      <th>RevolvingUtilizationOfUnsecuredLines</th>\n",
       "      <th>age</th>\n",
       "      <th>NumberOfTime30-59DaysPastDueNotWorse</th>\n",
       "      <th>DebtRatio</th>\n",
       "      <th>MonthlyIncome</th>\n",
       "      <th>NumberOfOpenCreditLinesAndLoans</th>\n",
       "      <th>NumberOfTimes90DaysLate</th>\n",
       "      <th>NumberRealEstateLoansOrLines</th>\n",
       "      <th>NumberOfTime60-89DaysPastDueNotWorse</th>\n",
       "      <th>NumberOfDependents</th>\n",
       "    </tr>\n",
       "  </thead>\n",
       "  <tbody>\n",
       "    <tr>\n",
       "      <th>count</th>\n",
       "      <td>149391.000000</td>\n",
       "      <td>149391.000000</td>\n",
       "      <td>149391.000000</td>\n",
       "      <td>149391.000000</td>\n",
       "      <td>149391.000000</td>\n",
       "      <td>1.493910e+05</td>\n",
       "      <td>149391.000000</td>\n",
       "      <td>149391.000000</td>\n",
       "      <td>149391.000000</td>\n",
       "      <td>149391.000000</td>\n",
       "      <td>149391.000000</td>\n",
       "    </tr>\n",
       "    <tr>\n",
       "      <th>mean</th>\n",
       "      <td>0.066999</td>\n",
       "      <td>6.071087</td>\n",
       "      <td>52.306237</td>\n",
       "      <td>0.393886</td>\n",
       "      <td>354.436740</td>\n",
       "      <td>5.423329e+03</td>\n",
       "      <td>8.480892</td>\n",
       "      <td>0.238120</td>\n",
       "      <td>1.022391</td>\n",
       "      <td>0.212503</td>\n",
       "      <td>0.740393</td>\n",
       "    </tr>\n",
       "    <tr>\n",
       "      <th>std</th>\n",
       "      <td>0.250021</td>\n",
       "      <td>250.263672</td>\n",
       "      <td>14.725962</td>\n",
       "      <td>3.852953</td>\n",
       "      <td>2041.843455</td>\n",
       "      <td>1.323651e+04</td>\n",
       "      <td>5.136515</td>\n",
       "      <td>3.826165</td>\n",
       "      <td>1.130196</td>\n",
       "      <td>3.810523</td>\n",
       "      <td>1.108272</td>\n",
       "    </tr>\n",
       "    <tr>\n",
       "      <th>min</th>\n",
       "      <td>0.000000</td>\n",
       "      <td>0.000000</td>\n",
       "      <td>0.000000</td>\n",
       "      <td>0.000000</td>\n",
       "      <td>0.000000</td>\n",
       "      <td>0.000000e+00</td>\n",
       "      <td>0.000000</td>\n",
       "      <td>0.000000</td>\n",
       "      <td>0.000000</td>\n",
       "      <td>0.000000</td>\n",
       "      <td>0.000000</td>\n",
       "    </tr>\n",
       "    <tr>\n",
       "      <th>1%</th>\n",
       "      <td>0.000000</td>\n",
       "      <td>0.000000</td>\n",
       "      <td>24.000000</td>\n",
       "      <td>0.000000</td>\n",
       "      <td>0.000000</td>\n",
       "      <td>0.000000e+00</td>\n",
       "      <td>0.000000</td>\n",
       "      <td>0.000000</td>\n",
       "      <td>0.000000</td>\n",
       "      <td>0.000000</td>\n",
       "      <td>0.000000</td>\n",
       "    </tr>\n",
       "    <tr>\n",
       "      <th>10%</th>\n",
       "      <td>0.000000</td>\n",
       "      <td>0.003199</td>\n",
       "      <td>33.000000</td>\n",
       "      <td>0.000000</td>\n",
       "      <td>0.034991</td>\n",
       "      <td>1.800000e-01</td>\n",
       "      <td>3.000000</td>\n",
       "      <td>0.000000</td>\n",
       "      <td>0.000000</td>\n",
       "      <td>0.000000</td>\n",
       "      <td>0.000000</td>\n",
       "    </tr>\n",
       "    <tr>\n",
       "      <th>25%</th>\n",
       "      <td>0.000000</td>\n",
       "      <td>0.030132</td>\n",
       "      <td>41.000000</td>\n",
       "      <td>0.000000</td>\n",
       "      <td>0.177441</td>\n",
       "      <td>1.800000e+03</td>\n",
       "      <td>5.000000</td>\n",
       "      <td>0.000000</td>\n",
       "      <td>0.000000</td>\n",
       "      <td>0.000000</td>\n",
       "      <td>0.000000</td>\n",
       "    </tr>\n",
       "    <tr>\n",
       "      <th>50%</th>\n",
       "      <td>0.000000</td>\n",
       "      <td>0.154235</td>\n",
       "      <td>52.000000</td>\n",
       "      <td>0.000000</td>\n",
       "      <td>0.368234</td>\n",
       "      <td>4.418000e+03</td>\n",
       "      <td>8.000000</td>\n",
       "      <td>0.000000</td>\n",
       "      <td>1.000000</td>\n",
       "      <td>0.000000</td>\n",
       "      <td>0.000000</td>\n",
       "    </tr>\n",
       "    <tr>\n",
       "      <th>75%</th>\n",
       "      <td>0.000000</td>\n",
       "      <td>0.556494</td>\n",
       "      <td>63.000000</td>\n",
       "      <td>0.000000</td>\n",
       "      <td>0.875279</td>\n",
       "      <td>7.416000e+03</td>\n",
       "      <td>11.000000</td>\n",
       "      <td>0.000000</td>\n",
       "      <td>2.000000</td>\n",
       "      <td>0.000000</td>\n",
       "      <td>1.000000</td>\n",
       "    </tr>\n",
       "    <tr>\n",
       "      <th>90%</th>\n",
       "      <td>0.000000</td>\n",
       "      <td>0.978007</td>\n",
       "      <td>72.000000</td>\n",
       "      <td>1.000000</td>\n",
       "      <td>1275.000000</td>\n",
       "      <td>1.080000e+04</td>\n",
       "      <td>15.000000</td>\n",
       "      <td>0.000000</td>\n",
       "      <td>2.000000</td>\n",
       "      <td>0.000000</td>\n",
       "      <td>2.000000</td>\n",
       "    </tr>\n",
       "    <tr>\n",
       "      <th>99%</th>\n",
       "      <td>1.000000</td>\n",
       "      <td>1.093922</td>\n",
       "      <td>87.000000</td>\n",
       "      <td>4.000000</td>\n",
       "      <td>4985.100000</td>\n",
       "      <td>2.325000e+04</td>\n",
       "      <td>24.000000</td>\n",
       "      <td>3.000000</td>\n",
       "      <td>4.000000</td>\n",
       "      <td>2.000000</td>\n",
       "      <td>4.000000</td>\n",
       "    </tr>\n",
       "    <tr>\n",
       "      <th>max</th>\n",
       "      <td>1.000000</td>\n",
       "      <td>50708.000000</td>\n",
       "      <td>109.000000</td>\n",
       "      <td>98.000000</td>\n",
       "      <td>329664.000000</td>\n",
       "      <td>3.008750e+06</td>\n",
       "      <td>58.000000</td>\n",
       "      <td>98.000000</td>\n",
       "      <td>54.000000</td>\n",
       "      <td>98.000000</td>\n",
       "      <td>20.000000</td>\n",
       "    </tr>\n",
       "  </tbody>\n",
       "</table>\n",
       "</div>"
      ],
      "text/plain": [
       "       SeriousDlqin2yrs  RevolvingUtilizationOfUnsecuredLines            age  \\\n",
       "count     149391.000000                         149391.000000  149391.000000   \n",
       "mean           0.066999                              6.071087      52.306237   \n",
       "std            0.250021                            250.263672      14.725962   \n",
       "min            0.000000                              0.000000       0.000000   \n",
       "1%             0.000000                              0.000000      24.000000   \n",
       "10%            0.000000                              0.003199      33.000000   \n",
       "25%            0.000000                              0.030132      41.000000   \n",
       "50%            0.000000                              0.154235      52.000000   \n",
       "75%            0.000000                              0.556494      63.000000   \n",
       "90%            0.000000                              0.978007      72.000000   \n",
       "99%            1.000000                              1.093922      87.000000   \n",
       "max            1.000000                          50708.000000     109.000000   \n",
       "\n",
       "       NumberOfTime30-59DaysPastDueNotWorse      DebtRatio  MonthlyIncome  \\\n",
       "count                         149391.000000  149391.000000   1.493910e+05   \n",
       "mean                               0.393886     354.436740   5.423329e+03   \n",
       "std                                3.852953    2041.843455   1.323651e+04   \n",
       "min                                0.000000       0.000000   0.000000e+00   \n",
       "1%                                 0.000000       0.000000   0.000000e+00   \n",
       "10%                                0.000000       0.034991   1.800000e-01   \n",
       "25%                                0.000000       0.177441   1.800000e+03   \n",
       "50%                                0.000000       0.368234   4.418000e+03   \n",
       "75%                                0.000000       0.875279   7.416000e+03   \n",
       "90%                                1.000000    1275.000000   1.080000e+04   \n",
       "99%                                4.000000    4985.100000   2.325000e+04   \n",
       "max                               98.000000  329664.000000   3.008750e+06   \n",
       "\n",
       "       NumberOfOpenCreditLinesAndLoans  NumberOfTimes90DaysLate  \\\n",
       "count                    149391.000000            149391.000000   \n",
       "mean                          8.480892                 0.238120   \n",
       "std                           5.136515                 3.826165   \n",
       "min                           0.000000                 0.000000   \n",
       "1%                            0.000000                 0.000000   \n",
       "10%                           3.000000                 0.000000   \n",
       "25%                           5.000000                 0.000000   \n",
       "50%                           8.000000                 0.000000   \n",
       "75%                          11.000000                 0.000000   \n",
       "90%                          15.000000                 0.000000   \n",
       "99%                          24.000000                 3.000000   \n",
       "max                          58.000000                98.000000   \n",
       "\n",
       "       NumberRealEstateLoansOrLines  NumberOfTime60-89DaysPastDueNotWorse  \\\n",
       "count                 149391.000000                         149391.000000   \n",
       "mean                       1.022391                              0.212503   \n",
       "std                        1.130196                              3.810523   \n",
       "min                        0.000000                              0.000000   \n",
       "1%                         0.000000                              0.000000   \n",
       "10%                        0.000000                              0.000000   \n",
       "25%                        0.000000                              0.000000   \n",
       "50%                        1.000000                              0.000000   \n",
       "75%                        2.000000                              0.000000   \n",
       "90%                        2.000000                              0.000000   \n",
       "99%                        4.000000                              2.000000   \n",
       "max                       54.000000                             98.000000   \n",
       "\n",
       "       NumberOfDependents  \n",
       "count       149391.000000  \n",
       "mean             0.740393  \n",
       "std              1.108272  \n",
       "min              0.000000  \n",
       "1%               0.000000  \n",
       "10%              0.000000  \n",
       "25%              0.000000  \n",
       "50%              0.000000  \n",
       "75%              1.000000  \n",
       "90%              2.000000  \n",
       "99%              4.000000  \n",
       "max             20.000000  "
      ]
     },
     "execution_count": 14,
     "metadata": {},
     "output_type": "execute_result"
    }
   ],
   "source": [
    "# 描述性统计\n",
    "# 参数为分位数\n",
    "data.describe([0.01, 0.1, 0.25, 0.5, 0.75, 0.9, 0.99])"
   ]
  },
  {
   "cell_type": "code",
   "execution_count": 15,
   "metadata": {},
   "outputs": [
    {
     "data": {
      "text/plain": [
       "0         2.0\n",
       "1         1.0\n",
       "2         0.0\n",
       "3         0.0\n",
       "4         0.0\n",
       "         ... \n",
       "149386    0.0\n",
       "149387    2.0\n",
       "149388    0.0\n",
       "149389    0.0\n",
       "149390    0.0\n",
       "Name: NumberOfDependents, Length: 149391, dtype: float64"
      ]
     },
     "execution_count": 15,
     "metadata": {},
     "output_type": "execute_result"
    }
   ],
   "source": [
    "# 异常值也被我们观察到,年龄的最小值居然有0,这不符合银行的业务需求,即便是儿童账户也要至少8岁,我们可以查看一下年龄为0的人有多少\n",
    "(data[\"age\"] == 0).sum()\n",
    "data[\"NumberOfDependents\"]"
   ]
  },
  {
   "cell_type": "code",
   "execution_count": 16,
   "metadata": {},
   "outputs": [],
   "source": [
    "# 发现只有一个人年龄为0,可以判断这肯定是录入失误造成的,可以当成是缺失值来处理,直接删除掉这个样本\n",
    "data = data[data[\"age\"] != 0]"
   ]
  },
  {
   "cell_type": "markdown",
   "metadata": {},
   "source": [
    "另外,有三个指标看起来很奇怪:\n",
    "\n",
    "- \"NumberOfTime30-59DaysPastDueNotWorse\"\n",
    "- \"NumberOfTime60-89DaysPastDueNotWorse\"\n",
    "- \"NumberOfTimes90DaysLate\"\n",
    "\n",
    "这三个指标分别是\n",
    "\n",
    "- “过去两年内出现35-59天逾期但是没有发展的更坏的次数”\n",
    "- “过去两年内出现60-89天逾期但是没有发展的更坏的次数”\n",
    "- “过去两年内出现90天逾期的次数”\n",
    "\n",
    "这三个指标,在99%的分布的时候依然是2,最大值却是98,看起来非常奇怪。一个人在过去两年内逾期35~59天98次,一年6个60天,两年内逾期98次这是怎么算出来的?我们可以去咨询业务人员,请教他们这个逾期次数是如何计算的。如果这个指标是正常的,那这些两年内逾期了98次的客户,应该都是坏客户。在我们无法询问他们情况下,我们查看一下有多少个样本存在这种异常:"
   ]
  },
  {
   "cell_type": "code",
   "execution_count": 17,
   "metadata": {},
   "outputs": [
    {
     "data": {
      "text/plain": [
       "SeriousDlqin2yrs                        225\n",
       "RevolvingUtilizationOfUnsecuredLines    225\n",
       "age                                     225\n",
       "NumberOfTime30-59DaysPastDueNotWorse    225\n",
       "DebtRatio                               225\n",
       "MonthlyIncome                           225\n",
       "NumberOfOpenCreditLinesAndLoans         225\n",
       "NumberOfTimes90DaysLate                 225\n",
       "NumberRealEstateLoansOrLines            225\n",
       "NumberOfTime60-89DaysPastDueNotWorse    225\n",
       "NumberOfDependents                      225\n",
       "dtype: int64"
      ]
     },
     "execution_count": 17,
     "metadata": {},
     "output_type": "execute_result"
    }
   ],
   "source": [
    "data[data.loc[:,\"NumberOfTimes90DaysLate\"] > 90].count()"
   ]
  },
  {
   "cell_type": "markdown",
   "metadata": {},
   "source": [
    "## 有225个样本存在这样的情况，洞察这些疑似异常的样本。"
   ]
  },
  {
   "cell_type": "code",
   "execution_count": 18,
   "metadata": {},
   "outputs": [
    {
     "data": {
      "text/html": [
       "<div>\n",
       "<style scoped>\n",
       "    .dataframe tbody tr th:only-of-type {\n",
       "        vertical-align: middle;\n",
       "    }\n",
       "\n",
       "    .dataframe tbody tr th {\n",
       "        vertical-align: top;\n",
       "    }\n",
       "\n",
       "    .dataframe thead th {\n",
       "        text-align: right;\n",
       "    }\n",
       "</style>\n",
       "<table border=\"1\" class=\"dataframe\">\n",
       "  <thead>\n",
       "    <tr style=\"text-align: right;\">\n",
       "      <th></th>\n",
       "      <th>SeriousDlqin2yrs</th>\n",
       "      <th>RevolvingUtilizationOfUnsecuredLines</th>\n",
       "      <th>age</th>\n",
       "      <th>NumberOfTime30-59DaysPastDueNotWorse</th>\n",
       "      <th>DebtRatio</th>\n",
       "      <th>MonthlyIncome</th>\n",
       "      <th>NumberOfOpenCreditLinesAndLoans</th>\n",
       "      <th>NumberOfTimes90DaysLate</th>\n",
       "      <th>NumberRealEstateLoansOrLines</th>\n",
       "      <th>NumberOfTime60-89DaysPastDueNotWorse</th>\n",
       "      <th>NumberOfDependents</th>\n",
       "    </tr>\n",
       "  </thead>\n",
       "  <tbody>\n",
       "    <tr>\n",
       "      <th>1732</th>\n",
       "      <td>1</td>\n",
       "      <td>1.0</td>\n",
       "      <td>27</td>\n",
       "      <td>98</td>\n",
       "      <td>0.0</td>\n",
       "      <td>2700.000000</td>\n",
       "      <td>0</td>\n",
       "      <td>98</td>\n",
       "      <td>0</td>\n",
       "      <td>98</td>\n",
       "      <td>0.0</td>\n",
       "    </tr>\n",
       "    <tr>\n",
       "      <th>2285</th>\n",
       "      <td>0</td>\n",
       "      <td>1.0</td>\n",
       "      <td>22</td>\n",
       "      <td>98</td>\n",
       "      <td>0.0</td>\n",
       "      <td>1257.725135</td>\n",
       "      <td>0</td>\n",
       "      <td>98</td>\n",
       "      <td>0</td>\n",
       "      <td>98</td>\n",
       "      <td>0.0</td>\n",
       "    </tr>\n",
       "    <tr>\n",
       "      <th>3883</th>\n",
       "      <td>0</td>\n",
       "      <td>1.0</td>\n",
       "      <td>38</td>\n",
       "      <td>98</td>\n",
       "      <td>12.0</td>\n",
       "      <td>2962.860000</td>\n",
       "      <td>0</td>\n",
       "      <td>98</td>\n",
       "      <td>0</td>\n",
       "      <td>98</td>\n",
       "      <td>0.0</td>\n",
       "    </tr>\n",
       "    <tr>\n",
       "      <th>4416</th>\n",
       "      <td>0</td>\n",
       "      <td>1.0</td>\n",
       "      <td>21</td>\n",
       "      <td>98</td>\n",
       "      <td>0.0</td>\n",
       "      <td>0.000000</td>\n",
       "      <td>0</td>\n",
       "      <td>98</td>\n",
       "      <td>0</td>\n",
       "      <td>98</td>\n",
       "      <td>0.0</td>\n",
       "    </tr>\n",
       "    <tr>\n",
       "      <th>4704</th>\n",
       "      <td>0</td>\n",
       "      <td>1.0</td>\n",
       "      <td>21</td>\n",
       "      <td>98</td>\n",
       "      <td>0.0</td>\n",
       "      <td>2000.000000</td>\n",
       "      <td>0</td>\n",
       "      <td>98</td>\n",
       "      <td>0</td>\n",
       "      <td>98</td>\n",
       "      <td>0.0</td>\n",
       "    </tr>\n",
       "    <tr>\n",
       "      <th>...</th>\n",
       "      <td>...</td>\n",
       "      <td>...</td>\n",
       "      <td>...</td>\n",
       "      <td>...</td>\n",
       "      <td>...</td>\n",
       "      <td>...</td>\n",
       "      <td>...</td>\n",
       "      <td>...</td>\n",
       "      <td>...</td>\n",
       "      <td>...</td>\n",
       "      <td>...</td>\n",
       "    </tr>\n",
       "    <tr>\n",
       "      <th>146667</th>\n",
       "      <td>1</td>\n",
       "      <td>1.0</td>\n",
       "      <td>25</td>\n",
       "      <td>98</td>\n",
       "      <td>0.0</td>\n",
       "      <td>2032.548286</td>\n",
       "      <td>0</td>\n",
       "      <td>98</td>\n",
       "      <td>0</td>\n",
       "      <td>98</td>\n",
       "      <td>0.0</td>\n",
       "    </tr>\n",
       "    <tr>\n",
       "      <th>147180</th>\n",
       "      <td>1</td>\n",
       "      <td>1.0</td>\n",
       "      <td>68</td>\n",
       "      <td>98</td>\n",
       "      <td>255.0</td>\n",
       "      <td>4.170000</td>\n",
       "      <td>0</td>\n",
       "      <td>98</td>\n",
       "      <td>0</td>\n",
       "      <td>98</td>\n",
       "      <td>0.0</td>\n",
       "    </tr>\n",
       "    <tr>\n",
       "      <th>148548</th>\n",
       "      <td>1</td>\n",
       "      <td>1.0</td>\n",
       "      <td>24</td>\n",
       "      <td>98</td>\n",
       "      <td>54.0</td>\n",
       "      <td>664.970000</td>\n",
       "      <td>0</td>\n",
       "      <td>98</td>\n",
       "      <td>0</td>\n",
       "      <td>98</td>\n",
       "      <td>0.0</td>\n",
       "    </tr>\n",
       "    <tr>\n",
       "      <th>148634</th>\n",
       "      <td>0</td>\n",
       "      <td>1.0</td>\n",
       "      <td>26</td>\n",
       "      <td>98</td>\n",
       "      <td>0.0</td>\n",
       "      <td>2000.000000</td>\n",
       "      <td>0</td>\n",
       "      <td>98</td>\n",
       "      <td>0</td>\n",
       "      <td>98</td>\n",
       "      <td>0.0</td>\n",
       "    </tr>\n",
       "    <tr>\n",
       "      <th>148833</th>\n",
       "      <td>1</td>\n",
       "      <td>1.0</td>\n",
       "      <td>34</td>\n",
       "      <td>98</td>\n",
       "      <td>9.0</td>\n",
       "      <td>2742.660000</td>\n",
       "      <td>0</td>\n",
       "      <td>98</td>\n",
       "      <td>0</td>\n",
       "      <td>98</td>\n",
       "      <td>0.0</td>\n",
       "    </tr>\n",
       "  </tbody>\n",
       "</table>\n",
       "<p>225 rows × 11 columns</p>\n",
       "</div>"
      ],
      "text/plain": [
       "        SeriousDlqin2yrs  RevolvingUtilizationOfUnsecuredLines  age  \\\n",
       "1732                   1                                   1.0   27   \n",
       "2285                   0                                   1.0   22   \n",
       "3883                   0                                   1.0   38   \n",
       "4416                   0                                   1.0   21   \n",
       "4704                   0                                   1.0   21   \n",
       "...                  ...                                   ...  ...   \n",
       "146667                 1                                   1.0   25   \n",
       "147180                 1                                   1.0   68   \n",
       "148548                 1                                   1.0   24   \n",
       "148634                 0                                   1.0   26   \n",
       "148833                 1                                   1.0   34   \n",
       "\n",
       "        NumberOfTime30-59DaysPastDueNotWorse  DebtRatio  MonthlyIncome  \\\n",
       "1732                                      98        0.0    2700.000000   \n",
       "2285                                      98        0.0    1257.725135   \n",
       "3883                                      98       12.0    2962.860000   \n",
       "4416                                      98        0.0       0.000000   \n",
       "4704                                      98        0.0    2000.000000   \n",
       "...                                      ...        ...            ...   \n",
       "146667                                    98        0.0    2032.548286   \n",
       "147180                                    98      255.0       4.170000   \n",
       "148548                                    98       54.0     664.970000   \n",
       "148634                                    98        0.0    2000.000000   \n",
       "148833                                    98        9.0    2742.660000   \n",
       "\n",
       "        NumberOfOpenCreditLinesAndLoans  NumberOfTimes90DaysLate  \\\n",
       "1732                                  0                       98   \n",
       "2285                                  0                       98   \n",
       "3883                                  0                       98   \n",
       "4416                                  0                       98   \n",
       "4704                                  0                       98   \n",
       "...                                 ...                      ...   \n",
       "146667                                0                       98   \n",
       "147180                                0                       98   \n",
       "148548                                0                       98   \n",
       "148634                                0                       98   \n",
       "148833                                0                       98   \n",
       "\n",
       "        NumberRealEstateLoansOrLines  NumberOfTime60-89DaysPastDueNotWorse  \\\n",
       "1732                               0                                    98   \n",
       "2285                               0                                    98   \n",
       "3883                               0                                    98   \n",
       "4416                               0                                    98   \n",
       "4704                               0                                    98   \n",
       "...                              ...                                   ...   \n",
       "146667                             0                                    98   \n",
       "147180                             0                                    98   \n",
       "148548                             0                                    98   \n",
       "148634                             0                                    98   \n",
       "148833                             0                                    98   \n",
       "\n",
       "        NumberOfDependents  \n",
       "1732                   0.0  \n",
       "2285                   0.0  \n",
       "3883                   0.0  \n",
       "4416                   0.0  \n",
       "4704                   0.0  \n",
       "...                    ...  \n",
       "146667                 0.0  \n",
       "147180                 0.0  \n",
       "148548                 0.0  \n",
       "148634                 0.0  \n",
       "148833                 0.0  \n",
       "\n",
       "[225 rows x 11 columns]"
      ]
     },
     "execution_count": 18,
     "metadata": {},
     "output_type": "execute_result"
    }
   ],
   "source": [
    "# 这些标签并不都是 1\n",
    "data[data.loc[:,\"NumberOfTimes90DaysLate\"] > 90]"
   ]
  },
  {
   "cell_type": "markdown",
   "metadata": {},
   "source": [
    "### 可以发现这些样本标签并不都是1,他们并不都是坏客户。因此,我们基本可以判断,这些样本是某种异常,应该把它们删除。"
   ]
  },
  {
   "cell_type": "code",
   "execution_count": 19,
   "metadata": {},
   "outputs": [
    {
     "data": {
      "text/plain": [
       "0     141107\n",
       "1       5232\n",
       "2       1555\n",
       "3        667\n",
       "4        291\n",
       "98       220\n",
       "5        131\n",
       "6         80\n",
       "7         38\n",
       "8         21\n",
       "9         19\n",
       "10         8\n",
       "11         5\n",
       "96         5\n",
       "13         4\n",
       "12         2\n",
       "14         2\n",
       "15         2\n",
       "17         1\n",
       "Name: NumberOfTimes90DaysLate, dtype: int64"
      ]
     },
     "execution_count": 19,
     "metadata": {},
     "output_type": "execute_result"
    }
   ],
   "source": [
    "data.loc[:,\"NumberOfTimes90DaysLate\"].value_counts()"
   ]
  },
  {
   "cell_type": "code",
   "execution_count": 20,
   "metadata": {},
   "outputs": [
    {
     "name": "stdout",
     "output_type": "stream",
     "text": [
      "<class 'pandas.core.frame.DataFrame'>\n",
      "RangeIndex: 149165 entries, 0 to 149164\n",
      "Data columns (total 11 columns):\n",
      " #   Column                                Non-Null Count   Dtype  \n",
      "---  ------                                --------------   -----  \n",
      " 0   SeriousDlqin2yrs                      149165 non-null  int64  \n",
      " 1   RevolvingUtilizationOfUnsecuredLines  149165 non-null  float64\n",
      " 2   age                                   149165 non-null  int64  \n",
      " 3   NumberOfTime30-59DaysPastDueNotWorse  149165 non-null  int64  \n",
      " 4   DebtRatio                             149165 non-null  float64\n",
      " 5   MonthlyIncome                         149165 non-null  float64\n",
      " 6   NumberOfOpenCreditLinesAndLoans       149165 non-null  int64  \n",
      " 7   NumberOfTimes90DaysLate               149165 non-null  int64  \n",
      " 8   NumberRealEstateLoansOrLines          149165 non-null  int64  \n",
      " 9   NumberOfTime60-89DaysPastDueNotWorse  149165 non-null  int64  \n",
      " 10  NumberOfDependents                    149165 non-null  float64\n",
      "dtypes: float64(4), int64(7)\n",
      "memory usage: 12.5 MB\n"
     ]
    }
   ],
   "source": [
    "# 直接删掉\n",
    "data = data[data.loc[:,\"NumberOfTimes90DaysLate\"] < 90]\n",
    "data.index = range(data.shape[0])\n",
    "data.info()"
   ]
  },
  {
   "cell_type": "markdown",
   "metadata": {},
   "source": [
    "# 样本不均衡问题"
   ]
  },
  {
   "cell_type": "code",
   "execution_count": 21,
   "metadata": {},
   "outputs": [
    {
     "name": "stdout",
     "output_type": "stream",
     "text": [
      "20.0\n",
      "13.0\n",
      "(149165, 10)\n"
     ]
    }
   ],
   "source": [
    "# 探索标签的分布\n",
    "\n",
    "X = data.iloc[:, 1:]\n",
    "y = data.iloc[:, 0]\n",
    "setting = set([0, 1, 2, 3, 4, 5, 6, 7, 8, 9, 10])\n",
    "for i in X.loc[:,\"NumberOfDependents\"]:\n",
    "    if not i in setting:\n",
    "        print(i)\n",
    "print(X.shape)"
   ]
  },
  {
   "cell_type": "code",
   "execution_count": 22,
   "metadata": {},
   "outputs": [
    {
     "data": {
      "text/plain": [
       "0         1\n",
       "1         0\n",
       "2         0\n",
       "3         0\n",
       "4         0\n",
       "         ..\n",
       "149160    0\n",
       "149161    0\n",
       "149162    0\n",
       "149163    0\n",
       "149164    0\n",
       "Name: SeriousDlqin2yrs, Length: 149165, dtype: int64"
      ]
     },
     "execution_count": 22,
     "metadata": {},
     "output_type": "execute_result"
    }
   ],
   "source": [
    "y.value_counts()\n",
    "y"
   ]
  },
  {
   "cell_type": "code",
   "execution_count": 23,
   "metadata": {},
   "outputs": [
    {
     "name": "stdout",
     "output_type": "stream",
     "text": [
      "样本个数: 149165; 1 占 6.62%; 0 占 93.38%\n"
     ]
    }
   ],
   "source": [
    "n_sample = X.shape[0]\n",
    "n_1_sample = y.value_counts()[1]\n",
    "n_0_sample = y.value_counts()[0]\n",
    "\n",
    "print(\"样本个数: {}; 1 占 {:.2%}; 0 占 {:.2%}\".format(n_sample, n_1_sample / n_sample, n_0_sample / n_sample))"
   ]
  },
  {
   "cell_type": "code",
   "execution_count": 24,
   "metadata": {},
   "outputs": [],
   "source": [
    "import imblearn\n",
    "from imblearn.over_sampling import SMOTE\n",
    "\n",
    "sm = SMOTE(random_state=42)"
   ]
  },
  {
   "cell_type": "code",
   "execution_count": 25,
   "metadata": {},
   "outputs": [
    {
     "name": "stdout",
     "output_type": "stream",
     "text": [
      "20.0\n",
      "13.0\n"
     ]
    }
   ],
   "source": [
    "setting = set([0, 1, 2, 3, 4, 5, 6, 7, 8, 9, 10])\n",
    "for i in X.loc[:,\"NumberOfDependents\"]:\n",
    "    if not i in setting:\n",
    "        print(i)\n",
    "\n",
    "X, y = sm.fit_sample(X, y)\n",
    "\n",
    "# SMOTE 是有插值的"
   ]
  },
  {
   "cell_type": "code",
   "execution_count": 26,
   "metadata": {},
   "outputs": [
    {
     "data": {
      "text/plain": [
       "278584"
      ]
     },
     "execution_count": 26,
     "metadata": {},
     "output_type": "execute_result"
    }
   ],
   "source": [
    "n_sample_ = X.shape[0]\n",
    "n_sample_"
   ]
  },
  {
   "cell_type": "code",
   "execution_count": 27,
   "metadata": {},
   "outputs": [
    {
     "data": {
      "text/plain": [
       "1    139292\n",
       "0    139292\n",
       "Name: SeriousDlqin2yrs, dtype: int64"
      ]
     },
     "execution_count": 27,
     "metadata": {},
     "output_type": "execute_result"
    }
   ],
   "source": [
    "pd.Series(y).value_counts()"
   ]
  },
  {
   "cell_type": "markdown",
   "metadata": {},
   "source": [
    "# 分训练集和测试集"
   ]
  },
  {
   "cell_type": "code",
   "execution_count": 28,
   "metadata": {},
   "outputs": [],
   "source": [
    "from sklearn.model_selection import train_test_split\n",
    "\n",
    "X = pd.DataFrame(X)\n",
    "y = pd.DataFrame(y)\n",
    "\n",
    "XTrain, XTest, YTrain, YTest = train_test_split(X, y, test_size=0.3, random_state=420)"
   ]
  },
  {
   "cell_type": "code",
   "execution_count": 29,
   "metadata": {},
   "outputs": [],
   "source": [
    "model_data = pd.concat([YTrain, XTrain], axis=1)\n",
    "model_data.index = range(model_data.shape[0])\n",
    "model_data.columns = data.columns"
   ]
  },
  {
   "cell_type": "code",
   "execution_count": 30,
   "metadata": {},
   "outputs": [],
   "source": [
    "test_data = pd.concat([YTest, XTest], axis=1)\n",
    "test_data.index = range(test_data.shape[0])\n",
    "test_data.columns = data.columns"
   ]
  },
  {
   "cell_type": "code",
   "execution_count": 31,
   "metadata": {},
   "outputs": [
    {
     "data": {
      "text/html": [
       "<div>\n",
       "<style scoped>\n",
       "    .dataframe tbody tr th:only-of-type {\n",
       "        vertical-align: middle;\n",
       "    }\n",
       "\n",
       "    .dataframe tbody tr th {\n",
       "        vertical-align: top;\n",
       "    }\n",
       "\n",
       "    .dataframe thead th {\n",
       "        text-align: right;\n",
       "    }\n",
       "</style>\n",
       "<table border=\"1\" class=\"dataframe\">\n",
       "  <thead>\n",
       "    <tr style=\"text-align: right;\">\n",
       "      <th></th>\n",
       "      <th>SeriousDlqin2yrs</th>\n",
       "      <th>RevolvingUtilizationOfUnsecuredLines</th>\n",
       "      <th>age</th>\n",
       "      <th>NumberOfTime30-59DaysPastDueNotWorse</th>\n",
       "      <th>DebtRatio</th>\n",
       "      <th>MonthlyIncome</th>\n",
       "      <th>NumberOfOpenCreditLinesAndLoans</th>\n",
       "      <th>NumberOfTimes90DaysLate</th>\n",
       "      <th>NumberRealEstateLoansOrLines</th>\n",
       "      <th>NumberOfTime60-89DaysPastDueNotWorse</th>\n",
       "      <th>NumberOfDependents</th>\n",
       "    </tr>\n",
       "  </thead>\n",
       "  <tbody>\n",
       "    <tr>\n",
       "      <th>0</th>\n",
       "      <td>0</td>\n",
       "      <td>0.015404</td>\n",
       "      <td>53</td>\n",
       "      <td>0</td>\n",
       "      <td>0.121802</td>\n",
       "      <td>4728.00000</td>\n",
       "      <td>5</td>\n",
       "      <td>0</td>\n",
       "      <td>0</td>\n",
       "      <td>0</td>\n",
       "      <td>0.000000</td>\n",
       "    </tr>\n",
       "    <tr>\n",
       "      <th>1</th>\n",
       "      <td>0</td>\n",
       "      <td>0.168311</td>\n",
       "      <td>63</td>\n",
       "      <td>0</td>\n",
       "      <td>0.141964</td>\n",
       "      <td>1119.00000</td>\n",
       "      <td>5</td>\n",
       "      <td>0</td>\n",
       "      <td>0</td>\n",
       "      <td>0</td>\n",
       "      <td>0.000000</td>\n",
       "    </tr>\n",
       "    <tr>\n",
       "      <th>2</th>\n",
       "      <td>1</td>\n",
       "      <td>1.063570</td>\n",
       "      <td>39</td>\n",
       "      <td>1</td>\n",
       "      <td>0.417663</td>\n",
       "      <td>3500.00000</td>\n",
       "      <td>5</td>\n",
       "      <td>1</td>\n",
       "      <td>0</td>\n",
       "      <td>2</td>\n",
       "      <td>3.716057</td>\n",
       "    </tr>\n",
       "    <tr>\n",
       "      <th>3</th>\n",
       "      <td>0</td>\n",
       "      <td>0.088684</td>\n",
       "      <td>73</td>\n",
       "      <td>0</td>\n",
       "      <td>0.522822</td>\n",
       "      <td>5301.00000</td>\n",
       "      <td>11</td>\n",
       "      <td>0</td>\n",
       "      <td>2</td>\n",
       "      <td>0</td>\n",
       "      <td>0.000000</td>\n",
       "    </tr>\n",
       "    <tr>\n",
       "      <th>4</th>\n",
       "      <td>1</td>\n",
       "      <td>0.622999</td>\n",
       "      <td>53</td>\n",
       "      <td>0</td>\n",
       "      <td>0.423650</td>\n",
       "      <td>13000.00000</td>\n",
       "      <td>9</td>\n",
       "      <td>0</td>\n",
       "      <td>2</td>\n",
       "      <td>0</td>\n",
       "      <td>0.181999</td>\n",
       "    </tr>\n",
       "    <tr>\n",
       "      <th>...</th>\n",
       "      <td>...</td>\n",
       "      <td>...</td>\n",
       "      <td>...</td>\n",
       "      <td>...</td>\n",
       "      <td>...</td>\n",
       "      <td>...</td>\n",
       "      <td>...</td>\n",
       "      <td>...</td>\n",
       "      <td>...</td>\n",
       "      <td>...</td>\n",
       "      <td>...</td>\n",
       "    </tr>\n",
       "    <tr>\n",
       "      <th>195003</th>\n",
       "      <td>1</td>\n",
       "      <td>0.916269</td>\n",
       "      <td>32</td>\n",
       "      <td>2</td>\n",
       "      <td>0.548132</td>\n",
       "      <td>6000.00000</td>\n",
       "      <td>10</td>\n",
       "      <td>0</td>\n",
       "      <td>1</td>\n",
       "      <td>0</td>\n",
       "      <td>3.966830</td>\n",
       "    </tr>\n",
       "    <tr>\n",
       "      <th>195004</th>\n",
       "      <td>1</td>\n",
       "      <td>0.484728</td>\n",
       "      <td>50</td>\n",
       "      <td>1</td>\n",
       "      <td>0.370603</td>\n",
       "      <td>5258.00000</td>\n",
       "      <td>12</td>\n",
       "      <td>0</td>\n",
       "      <td>1</td>\n",
       "      <td>0</td>\n",
       "      <td>2.000000</td>\n",
       "    </tr>\n",
       "    <tr>\n",
       "      <th>195005</th>\n",
       "      <td>1</td>\n",
       "      <td>0.850447</td>\n",
       "      <td>46</td>\n",
       "      <td>0</td>\n",
       "      <td>0.562610</td>\n",
       "      <td>8000.00000</td>\n",
       "      <td>9</td>\n",
       "      <td>0</td>\n",
       "      <td>1</td>\n",
       "      <td>0</td>\n",
       "      <td>2.768793</td>\n",
       "    </tr>\n",
       "    <tr>\n",
       "      <th>195006</th>\n",
       "      <td>0</td>\n",
       "      <td>1.000000</td>\n",
       "      <td>64</td>\n",
       "      <td>0</td>\n",
       "      <td>0.364694</td>\n",
       "      <td>10309.00000</td>\n",
       "      <td>7</td>\n",
       "      <td>0</td>\n",
       "      <td>3</td>\n",
       "      <td>0</td>\n",
       "      <td>0.000000</td>\n",
       "    </tr>\n",
       "    <tr>\n",
       "      <th>195007</th>\n",
       "      <td>1</td>\n",
       "      <td>0.512881</td>\n",
       "      <td>53</td>\n",
       "      <td>0</td>\n",
       "      <td>1968.401488</td>\n",
       "      <td>0.17771</td>\n",
       "      <td>12</td>\n",
       "      <td>0</td>\n",
       "      <td>1</td>\n",
       "      <td>0</td>\n",
       "      <td>0.000000</td>\n",
       "    </tr>\n",
       "  </tbody>\n",
       "</table>\n",
       "<p>195008 rows × 11 columns</p>\n",
       "</div>"
      ],
      "text/plain": [
       "        SeriousDlqin2yrs  RevolvingUtilizationOfUnsecuredLines  age  \\\n",
       "0                      0                              0.015404   53   \n",
       "1                      0                              0.168311   63   \n",
       "2                      1                              1.063570   39   \n",
       "3                      0                              0.088684   73   \n",
       "4                      1                              0.622999   53   \n",
       "...                  ...                                   ...  ...   \n",
       "195003                 1                              0.916269   32   \n",
       "195004                 1                              0.484728   50   \n",
       "195005                 1                              0.850447   46   \n",
       "195006                 0                              1.000000   64   \n",
       "195007                 1                              0.512881   53   \n",
       "\n",
       "        NumberOfTime30-59DaysPastDueNotWorse    DebtRatio  MonthlyIncome  \\\n",
       "0                                          0     0.121802     4728.00000   \n",
       "1                                          0     0.141964     1119.00000   \n",
       "2                                          1     0.417663     3500.00000   \n",
       "3                                          0     0.522822     5301.00000   \n",
       "4                                          0     0.423650    13000.00000   \n",
       "...                                      ...          ...            ...   \n",
       "195003                                     2     0.548132     6000.00000   \n",
       "195004                                     1     0.370603     5258.00000   \n",
       "195005                                     0     0.562610     8000.00000   \n",
       "195006                                     0     0.364694    10309.00000   \n",
       "195007                                     0  1968.401488        0.17771   \n",
       "\n",
       "        NumberOfOpenCreditLinesAndLoans  NumberOfTimes90DaysLate  \\\n",
       "0                                     5                        0   \n",
       "1                                     5                        0   \n",
       "2                                     5                        1   \n",
       "3                                    11                        0   \n",
       "4                                     9                        0   \n",
       "...                                 ...                      ...   \n",
       "195003                               10                        0   \n",
       "195004                               12                        0   \n",
       "195005                                9                        0   \n",
       "195006                                7                        0   \n",
       "195007                               12                        0   \n",
       "\n",
       "        NumberRealEstateLoansOrLines  NumberOfTime60-89DaysPastDueNotWorse  \\\n",
       "0                                  0                                     0   \n",
       "1                                  0                                     0   \n",
       "2                                  0                                     2   \n",
       "3                                  2                                     0   \n",
       "4                                  2                                     0   \n",
       "...                              ...                                   ...   \n",
       "195003                             1                                     0   \n",
       "195004                             1                                     0   \n",
       "195005                             1                                     0   \n",
       "195006                             3                                     0   \n",
       "195007                             1                                     0   \n",
       "\n",
       "        NumberOfDependents  \n",
       "0                 0.000000  \n",
       "1                 0.000000  \n",
       "2                 3.716057  \n",
       "3                 0.000000  \n",
       "4                 0.181999  \n",
       "...                    ...  \n",
       "195003            3.966830  \n",
       "195004            2.000000  \n",
       "195005            2.768793  \n",
       "195006            0.000000  \n",
       "195007            0.000000  \n",
       "\n",
       "[195008 rows x 11 columns]"
      ]
     },
     "execution_count": 31,
     "metadata": {},
     "output_type": "execute_result"
    }
   ],
   "source": [
    "model_data.to_csv(\"model_data.csv\")\n",
    "model_data[\"NumberOfDependents\"]\n",
    "model_data"
   ]
  },
  {
   "cell_type": "code",
   "execution_count": 32,
   "metadata": {},
   "outputs": [],
   "source": [
    "test_data.to_csv(\"test_data.csv\")"
   ]
  },
  {
   "cell_type": "markdown",
   "metadata": {},
   "source": [
    "# 分箱：离散化连续变量"
   ]
  },
  {
   "cell_type": "code",
   "execution_count": 33,
   "metadata": {},
   "outputs": [
    {
     "data": {
      "text/plain": [
       "0         53\n",
       "1         63\n",
       "2         39\n",
       "3         73\n",
       "4         53\n",
       "          ..\n",
       "195003    32\n",
       "195004    50\n",
       "195005    46\n",
       "195006    64\n",
       "195007    53\n",
       "Name: age, Length: 195008, dtype: int64"
      ]
     },
     "execution_count": 33,
     "metadata": {},
     "output_type": "execute_result"
    }
   ],
   "source": [
    "model_data[\"age\"]"
   ]
  },
  {
   "cell_type": "markdown",
   "metadata": {},
   "source": [
    "# 等频分箱"
   ]
  },
  {
   "cell_type": "markdown",
   "metadata": {},
   "source": [
    "pd.qcut,基于分位数的分箱函数,本质是将连续型变量离散化\n",
    "只能够处理一维数据。返回箱子的上限和下限\n",
    "参数q:要分箱的个数\n",
    "参数retbins=True来要求同时返回结构为索引为样本索引,元素为分到的箱子的Series\n",
    "现在返回两个值:每个样本属于哪个箱子,以及所有箱子的上限和下限"
   ]
  },
  {
   "cell_type": "code",
   "execution_count": 34,
   "metadata": {},
   "outputs": [],
   "source": [
    "model_data[\"qcut\"], updown = pd.qcut(model_data[\"age\"], retbins=True, q=20)"
   ]
  },
  {
   "cell_type": "code",
   "execution_count": 35,
   "metadata": {},
   "outputs": [
    {
     "data": {
      "text/plain": [
       "array([ 21.,  28.,  31.,  34.,  36.,  39.,  41.,  43.,  45.,  46.,  48.,\n",
       "        50.,  52.,  54.,  56.,  58.,  61.,  64.,  68.,  74., 107.])"
      ]
     },
     "execution_count": 35,
     "metadata": {},
     "output_type": "execute_result"
    }
   ],
   "source": [
    "updown"
   ]
  },
  {
   "cell_type": "code",
   "execution_count": 36,
   "metadata": {},
   "outputs": [
    {
     "data": {
      "text/plain": [
       "(36.0, 39.0]      12644\n",
       "(20.999, 28.0]    11741\n",
       "(58.0, 61.0]      11409\n",
       "(48.0, 50.0]      11118\n",
       "(46.0, 48.0]      10996\n",
       "(31.0, 34.0]      10851\n",
       "(50.0, 52.0]      10510\n",
       "(43.0, 45.0]      10375\n",
       "(61.0, 64.0]      10139\n",
       "(39.0, 41.0]       9790\n",
       "(41.0, 43.0]       9703\n",
       "(52.0, 54.0]       9696\n",
       "(28.0, 31.0]       9497\n",
       "(74.0, 107.0]      9124\n",
       "(64.0, 68.0]       8927\n",
       "(54.0, 56.0]       8685\n",
       "(68.0, 74.0]       8678\n",
       "(56.0, 58.0]       7886\n",
       "(34.0, 36.0]       7558\n",
       "(45.0, 46.0]       5681\n",
       "Name: qcut, dtype: int64"
      ]
     },
     "execution_count": 36,
     "metadata": {},
     "output_type": "execute_result"
    }
   ],
   "source": [
    "model_data[\"qcut\"].value_counts()"
   ]
  },
  {
   "cell_type": "code",
   "execution_count": 37,
   "metadata": {},
   "outputs": [
    {
     "data": {
      "text/html": [
       "<div>\n",
       "<style scoped>\n",
       "    .dataframe tbody tr th:only-of-type {\n",
       "        vertical-align: middle;\n",
       "    }\n",
       "\n",
       "    .dataframe tbody tr th {\n",
       "        vertical-align: top;\n",
       "    }\n",
       "\n",
       "    .dataframe thead th {\n",
       "        text-align: right;\n",
       "    }\n",
       "</style>\n",
       "<table border=\"1\" class=\"dataframe\">\n",
       "  <thead>\n",
       "    <tr style=\"text-align: right;\">\n",
       "      <th></th>\n",
       "      <th>SeriousDlqin2yrs</th>\n",
       "      <th>RevolvingUtilizationOfUnsecuredLines</th>\n",
       "      <th>age</th>\n",
       "      <th>NumberOfTime30-59DaysPastDueNotWorse</th>\n",
       "      <th>DebtRatio</th>\n",
       "      <th>MonthlyIncome</th>\n",
       "      <th>NumberOfOpenCreditLinesAndLoans</th>\n",
       "      <th>NumberOfTimes90DaysLate</th>\n",
       "      <th>NumberRealEstateLoansOrLines</th>\n",
       "      <th>NumberOfTime60-89DaysPastDueNotWorse</th>\n",
       "      <th>NumberOfDependents</th>\n",
       "    </tr>\n",
       "    <tr>\n",
       "      <th>qcut</th>\n",
       "      <th></th>\n",
       "      <th></th>\n",
       "      <th></th>\n",
       "      <th></th>\n",
       "      <th></th>\n",
       "      <th></th>\n",
       "      <th></th>\n",
       "      <th></th>\n",
       "      <th></th>\n",
       "      <th></th>\n",
       "      <th></th>\n",
       "    </tr>\n",
       "  </thead>\n",
       "  <tbody>\n",
       "    <tr>\n",
       "      <th>(20.999, 28.0]</th>\n",
       "      <td>4243</td>\n",
       "      <td>4243</td>\n",
       "      <td>4243</td>\n",
       "      <td>4243</td>\n",
       "      <td>4243</td>\n",
       "      <td>4243</td>\n",
       "      <td>4243</td>\n",
       "      <td>4243</td>\n",
       "      <td>4243</td>\n",
       "      <td>4243</td>\n",
       "      <td>4243</td>\n",
       "    </tr>\n",
       "    <tr>\n",
       "      <th>(28.0, 31.0]</th>\n",
       "      <td>3571</td>\n",
       "      <td>3571</td>\n",
       "      <td>3571</td>\n",
       "      <td>3571</td>\n",
       "      <td>3571</td>\n",
       "      <td>3571</td>\n",
       "      <td>3571</td>\n",
       "      <td>3571</td>\n",
       "      <td>3571</td>\n",
       "      <td>3571</td>\n",
       "      <td>3571</td>\n",
       "    </tr>\n",
       "    <tr>\n",
       "      <th>(31.0, 34.0]</th>\n",
       "      <td>4075</td>\n",
       "      <td>4075</td>\n",
       "      <td>4075</td>\n",
       "      <td>4075</td>\n",
       "      <td>4075</td>\n",
       "      <td>4075</td>\n",
       "      <td>4075</td>\n",
       "      <td>4075</td>\n",
       "      <td>4075</td>\n",
       "      <td>4075</td>\n",
       "      <td>4075</td>\n",
       "    </tr>\n",
       "    <tr>\n",
       "      <th>(34.0, 36.0]</th>\n",
       "      <td>2908</td>\n",
       "      <td>2908</td>\n",
       "      <td>2908</td>\n",
       "      <td>2908</td>\n",
       "      <td>2908</td>\n",
       "      <td>2908</td>\n",
       "      <td>2908</td>\n",
       "      <td>2908</td>\n",
       "      <td>2908</td>\n",
       "      <td>2908</td>\n",
       "      <td>2908</td>\n",
       "    </tr>\n",
       "    <tr>\n",
       "      <th>(36.0, 39.0]</th>\n",
       "      <td>5182</td>\n",
       "      <td>5182</td>\n",
       "      <td>5182</td>\n",
       "      <td>5182</td>\n",
       "      <td>5182</td>\n",
       "      <td>5182</td>\n",
       "      <td>5182</td>\n",
       "      <td>5182</td>\n",
       "      <td>5182</td>\n",
       "      <td>5182</td>\n",
       "      <td>5182</td>\n",
       "    </tr>\n",
       "    <tr>\n",
       "      <th>(39.0, 41.0]</th>\n",
       "      <td>3956</td>\n",
       "      <td>3956</td>\n",
       "      <td>3956</td>\n",
       "      <td>3956</td>\n",
       "      <td>3956</td>\n",
       "      <td>3956</td>\n",
       "      <td>3956</td>\n",
       "      <td>3956</td>\n",
       "      <td>3956</td>\n",
       "      <td>3956</td>\n",
       "      <td>3956</td>\n",
       "    </tr>\n",
       "    <tr>\n",
       "      <th>(41.0, 43.0]</th>\n",
       "      <td>4002</td>\n",
       "      <td>4002</td>\n",
       "      <td>4002</td>\n",
       "      <td>4002</td>\n",
       "      <td>4002</td>\n",
       "      <td>4002</td>\n",
       "      <td>4002</td>\n",
       "      <td>4002</td>\n",
       "      <td>4002</td>\n",
       "      <td>4002</td>\n",
       "      <td>4002</td>\n",
       "    </tr>\n",
       "    <tr>\n",
       "      <th>(43.0, 45.0]</th>\n",
       "      <td>4389</td>\n",
       "      <td>4389</td>\n",
       "      <td>4389</td>\n",
       "      <td>4389</td>\n",
       "      <td>4389</td>\n",
       "      <td>4389</td>\n",
       "      <td>4389</td>\n",
       "      <td>4389</td>\n",
       "      <td>4389</td>\n",
       "      <td>4389</td>\n",
       "      <td>4389</td>\n",
       "    </tr>\n",
       "    <tr>\n",
       "      <th>(45.0, 46.0]</th>\n",
       "      <td>2419</td>\n",
       "      <td>2419</td>\n",
       "      <td>2419</td>\n",
       "      <td>2419</td>\n",
       "      <td>2419</td>\n",
       "      <td>2419</td>\n",
       "      <td>2419</td>\n",
       "      <td>2419</td>\n",
       "      <td>2419</td>\n",
       "      <td>2419</td>\n",
       "      <td>2419</td>\n",
       "    </tr>\n",
       "    <tr>\n",
       "      <th>(46.0, 48.0]</th>\n",
       "      <td>4813</td>\n",
       "      <td>4813</td>\n",
       "      <td>4813</td>\n",
       "      <td>4813</td>\n",
       "      <td>4813</td>\n",
       "      <td>4813</td>\n",
       "      <td>4813</td>\n",
       "      <td>4813</td>\n",
       "      <td>4813</td>\n",
       "      <td>4813</td>\n",
       "      <td>4813</td>\n",
       "    </tr>\n",
       "    <tr>\n",
       "      <th>(48.0, 50.0]</th>\n",
       "      <td>4900</td>\n",
       "      <td>4900</td>\n",
       "      <td>4900</td>\n",
       "      <td>4900</td>\n",
       "      <td>4900</td>\n",
       "      <td>4900</td>\n",
       "      <td>4900</td>\n",
       "      <td>4900</td>\n",
       "      <td>4900</td>\n",
       "      <td>4900</td>\n",
       "      <td>4900</td>\n",
       "    </tr>\n",
       "    <tr>\n",
       "      <th>(50.0, 52.0]</th>\n",
       "      <td>4728</td>\n",
       "      <td>4728</td>\n",
       "      <td>4728</td>\n",
       "      <td>4728</td>\n",
       "      <td>4728</td>\n",
       "      <td>4728</td>\n",
       "      <td>4728</td>\n",
       "      <td>4728</td>\n",
       "      <td>4728</td>\n",
       "      <td>4728</td>\n",
       "      <td>4728</td>\n",
       "    </tr>\n",
       "    <tr>\n",
       "      <th>(52.0, 54.0]</th>\n",
       "      <td>4681</td>\n",
       "      <td>4681</td>\n",
       "      <td>4681</td>\n",
       "      <td>4681</td>\n",
       "      <td>4681</td>\n",
       "      <td>4681</td>\n",
       "      <td>4681</td>\n",
       "      <td>4681</td>\n",
       "      <td>4681</td>\n",
       "      <td>4681</td>\n",
       "      <td>4681</td>\n",
       "    </tr>\n",
       "    <tr>\n",
       "      <th>(54.0, 56.0]</th>\n",
       "      <td>4677</td>\n",
       "      <td>4677</td>\n",
       "      <td>4677</td>\n",
       "      <td>4677</td>\n",
       "      <td>4677</td>\n",
       "      <td>4677</td>\n",
       "      <td>4677</td>\n",
       "      <td>4677</td>\n",
       "      <td>4677</td>\n",
       "      <td>4677</td>\n",
       "      <td>4677</td>\n",
       "    </tr>\n",
       "    <tr>\n",
       "      <th>(56.0, 58.0]</th>\n",
       "      <td>4483</td>\n",
       "      <td>4483</td>\n",
       "      <td>4483</td>\n",
       "      <td>4483</td>\n",
       "      <td>4483</td>\n",
       "      <td>4483</td>\n",
       "      <td>4483</td>\n",
       "      <td>4483</td>\n",
       "      <td>4483</td>\n",
       "      <td>4483</td>\n",
       "      <td>4483</td>\n",
       "    </tr>\n",
       "    <tr>\n",
       "      <th>(58.0, 61.0]</th>\n",
       "      <td>6583</td>\n",
       "      <td>6583</td>\n",
       "      <td>6583</td>\n",
       "      <td>6583</td>\n",
       "      <td>6583</td>\n",
       "      <td>6583</td>\n",
       "      <td>6583</td>\n",
       "      <td>6583</td>\n",
       "      <td>6583</td>\n",
       "      <td>6583</td>\n",
       "      <td>6583</td>\n",
       "    </tr>\n",
       "    <tr>\n",
       "      <th>(61.0, 64.0]</th>\n",
       "      <td>6968</td>\n",
       "      <td>6968</td>\n",
       "      <td>6968</td>\n",
       "      <td>6968</td>\n",
       "      <td>6968</td>\n",
       "      <td>6968</td>\n",
       "      <td>6968</td>\n",
       "      <td>6968</td>\n",
       "      <td>6968</td>\n",
       "      <td>6968</td>\n",
       "      <td>6968</td>\n",
       "    </tr>\n",
       "    <tr>\n",
       "      <th>(64.0, 68.0]</th>\n",
       "      <td>6623</td>\n",
       "      <td>6623</td>\n",
       "      <td>6623</td>\n",
       "      <td>6623</td>\n",
       "      <td>6623</td>\n",
       "      <td>6623</td>\n",
       "      <td>6623</td>\n",
       "      <td>6623</td>\n",
       "      <td>6623</td>\n",
       "      <td>6623</td>\n",
       "      <td>6623</td>\n",
       "    </tr>\n",
       "    <tr>\n",
       "      <th>(68.0, 74.0]</th>\n",
       "      <td>6753</td>\n",
       "      <td>6753</td>\n",
       "      <td>6753</td>\n",
       "      <td>6753</td>\n",
       "      <td>6753</td>\n",
       "      <td>6753</td>\n",
       "      <td>6753</td>\n",
       "      <td>6753</td>\n",
       "      <td>6753</td>\n",
       "      <td>6753</td>\n",
       "      <td>6753</td>\n",
       "    </tr>\n",
       "    <tr>\n",
       "      <th>(74.0, 107.0]</th>\n",
       "      <td>7737</td>\n",
       "      <td>7737</td>\n",
       "      <td>7737</td>\n",
       "      <td>7737</td>\n",
       "      <td>7737</td>\n",
       "      <td>7737</td>\n",
       "      <td>7737</td>\n",
       "      <td>7737</td>\n",
       "      <td>7737</td>\n",
       "      <td>7737</td>\n",
       "      <td>7737</td>\n",
       "    </tr>\n",
       "  </tbody>\n",
       "</table>\n",
       "</div>"
      ],
      "text/plain": [
       "                SeriousDlqin2yrs  RevolvingUtilizationOfUnsecuredLines   age  \\\n",
       "qcut                                                                           \n",
       "(20.999, 28.0]              4243                                  4243  4243   \n",
       "(28.0, 31.0]                3571                                  3571  3571   \n",
       "(31.0, 34.0]                4075                                  4075  4075   \n",
       "(34.0, 36.0]                2908                                  2908  2908   \n",
       "(36.0, 39.0]                5182                                  5182  5182   \n",
       "(39.0, 41.0]                3956                                  3956  3956   \n",
       "(41.0, 43.0]                4002                                  4002  4002   \n",
       "(43.0, 45.0]                4389                                  4389  4389   \n",
       "(45.0, 46.0]                2419                                  2419  2419   \n",
       "(46.0, 48.0]                4813                                  4813  4813   \n",
       "(48.0, 50.0]                4900                                  4900  4900   \n",
       "(50.0, 52.0]                4728                                  4728  4728   \n",
       "(52.0, 54.0]                4681                                  4681  4681   \n",
       "(54.0, 56.0]                4677                                  4677  4677   \n",
       "(56.0, 58.0]                4483                                  4483  4483   \n",
       "(58.0, 61.0]                6583                                  6583  6583   \n",
       "(61.0, 64.0]                6968                                  6968  6968   \n",
       "(64.0, 68.0]                6623                                  6623  6623   \n",
       "(68.0, 74.0]                6753                                  6753  6753   \n",
       "(74.0, 107.0]               7737                                  7737  7737   \n",
       "\n",
       "                NumberOfTime30-59DaysPastDueNotWorse  DebtRatio  \\\n",
       "qcut                                                              \n",
       "(20.999, 28.0]                                  4243       4243   \n",
       "(28.0, 31.0]                                    3571       3571   \n",
       "(31.0, 34.0]                                    4075       4075   \n",
       "(34.0, 36.0]                                    2908       2908   \n",
       "(36.0, 39.0]                                    5182       5182   \n",
       "(39.0, 41.0]                                    3956       3956   \n",
       "(41.0, 43.0]                                    4002       4002   \n",
       "(43.0, 45.0]                                    4389       4389   \n",
       "(45.0, 46.0]                                    2419       2419   \n",
       "(46.0, 48.0]                                    4813       4813   \n",
       "(48.0, 50.0]                                    4900       4900   \n",
       "(50.0, 52.0]                                    4728       4728   \n",
       "(52.0, 54.0]                                    4681       4681   \n",
       "(54.0, 56.0]                                    4677       4677   \n",
       "(56.0, 58.0]                                    4483       4483   \n",
       "(58.0, 61.0]                                    6583       6583   \n",
       "(61.0, 64.0]                                    6968       6968   \n",
       "(64.0, 68.0]                                    6623       6623   \n",
       "(68.0, 74.0]                                    6753       6753   \n",
       "(74.0, 107.0]                                   7737       7737   \n",
       "\n",
       "                MonthlyIncome  NumberOfOpenCreditLinesAndLoans  \\\n",
       "qcut                                                             \n",
       "(20.999, 28.0]           4243                             4243   \n",
       "(28.0, 31.0]             3571                             3571   \n",
       "(31.0, 34.0]             4075                             4075   \n",
       "(34.0, 36.0]             2908                             2908   \n",
       "(36.0, 39.0]             5182                             5182   \n",
       "(39.0, 41.0]             3956                             3956   \n",
       "(41.0, 43.0]             4002                             4002   \n",
       "(43.0, 45.0]             4389                             4389   \n",
       "(45.0, 46.0]             2419                             2419   \n",
       "(46.0, 48.0]             4813                             4813   \n",
       "(48.0, 50.0]             4900                             4900   \n",
       "(50.0, 52.0]             4728                             4728   \n",
       "(52.0, 54.0]             4681                             4681   \n",
       "(54.0, 56.0]             4677                             4677   \n",
       "(56.0, 58.0]             4483                             4483   \n",
       "(58.0, 61.0]             6583                             6583   \n",
       "(61.0, 64.0]             6968                             6968   \n",
       "(64.0, 68.0]             6623                             6623   \n",
       "(68.0, 74.0]             6753                             6753   \n",
       "(74.0, 107.0]            7737                             7737   \n",
       "\n",
       "                NumberOfTimes90DaysLate  NumberRealEstateLoansOrLines  \\\n",
       "qcut                                                                    \n",
       "(20.999, 28.0]                     4243                          4243   \n",
       "(28.0, 31.0]                       3571                          3571   \n",
       "(31.0, 34.0]                       4075                          4075   \n",
       "(34.0, 36.0]                       2908                          2908   \n",
       "(36.0, 39.0]                       5182                          5182   \n",
       "(39.0, 41.0]                       3956                          3956   \n",
       "(41.0, 43.0]                       4002                          4002   \n",
       "(43.0, 45.0]                       4389                          4389   \n",
       "(45.0, 46.0]                       2419                          2419   \n",
       "(46.0, 48.0]                       4813                          4813   \n",
       "(48.0, 50.0]                       4900                          4900   \n",
       "(50.0, 52.0]                       4728                          4728   \n",
       "(52.0, 54.0]                       4681                          4681   \n",
       "(54.0, 56.0]                       4677                          4677   \n",
       "(56.0, 58.0]                       4483                          4483   \n",
       "(58.0, 61.0]                       6583                          6583   \n",
       "(61.0, 64.0]                       6968                          6968   \n",
       "(64.0, 68.0]                       6623                          6623   \n",
       "(68.0, 74.0]                       6753                          6753   \n",
       "(74.0, 107.0]                      7737                          7737   \n",
       "\n",
       "                NumberOfTime60-89DaysPastDueNotWorse  NumberOfDependents  \n",
       "qcut                                                                      \n",
       "(20.999, 28.0]                                  4243                4243  \n",
       "(28.0, 31.0]                                    3571                3571  \n",
       "(31.0, 34.0]                                    4075                4075  \n",
       "(34.0, 36.0]                                    2908                2908  \n",
       "(36.0, 39.0]                                    5182                5182  \n",
       "(39.0, 41.0]                                    3956                3956  \n",
       "(41.0, 43.0]                                    4002                4002  \n",
       "(43.0, 45.0]                                    4389                4389  \n",
       "(45.0, 46.0]                                    2419                2419  \n",
       "(46.0, 48.0]                                    4813                4813  \n",
       "(48.0, 50.0]                                    4900                4900  \n",
       "(50.0, 52.0]                                    4728                4728  \n",
       "(52.0, 54.0]                                    4681                4681  \n",
       "(54.0, 56.0]                                    4677                4677  \n",
       "(56.0, 58.0]                                    4483                4483  \n",
       "(58.0, 61.0]                                    6583                6583  \n",
       "(61.0, 64.0]                                    6968                6968  \n",
       "(64.0, 68.0]                                    6623                6623  \n",
       "(68.0, 74.0]                                    6753                6753  \n",
       "(74.0, 107.0]                                   7737                7737  "
      ]
     },
     "execution_count": 37,
     "metadata": {},
     "output_type": "execute_result"
    }
   ],
   "source": [
    "model_data[model_data[\"SeriousDlqin2yrs\"] == 0].groupby(by=\"qcut\").count()"
   ]
  },
  {
   "cell_type": "markdown",
   "metadata": {},
   "source": [
    "# 统计每个分箱中 0 和 1 的数量\n",
    "- 数据透视表功能 groupby"
   ]
  },
  {
   "cell_type": "code",
   "execution_count": 38,
   "metadata": {},
   "outputs": [],
   "source": [
    "count_y0 = model_data[model_data[\"SeriousDlqin2yrs\"] == 0].groupby(by=\"qcut\").count()[\"SeriousDlqin2yrs\"]\n",
    "count_y1 = model_data[model_data[\"SeriousDlqin2yrs\"] == 1].groupby(by=\"qcut\").count()[\"SeriousDlqin2yrs\"]"
   ]
  },
  {
   "cell_type": "code",
   "execution_count": 39,
   "metadata": {},
   "outputs": [],
   "source": [
    "# zip 按照最短的列结合\n",
    "num_bins = [*zip(updown, updown[1:], count_y0, count_y1)]"
   ]
  },
  {
   "cell_type": "code",
   "execution_count": 40,
   "metadata": {},
   "outputs": [
    {
     "data": {
      "text/plain": [
       "[(21.0, 28.0, 4243, 7498),\n",
       " (28.0, 31.0, 3571, 5926),\n",
       " (31.0, 34.0, 4075, 6776),\n",
       " (34.0, 36.0, 2908, 4650),\n",
       " (36.0, 39.0, 5182, 7462),\n",
       " (39.0, 41.0, 3956, 5834),\n",
       " (41.0, 43.0, 4002, 5701),\n",
       " (43.0, 45.0, 4389, 5986),\n",
       " (45.0, 46.0, 2419, 3262),\n",
       " (46.0, 48.0, 4813, 6183),\n",
       " (48.0, 50.0, 4900, 6218),\n",
       " (50.0, 52.0, 4728, 5782),\n",
       " (52.0, 54.0, 4681, 5015),\n",
       " (54.0, 56.0, 4677, 4008),\n",
       " (56.0, 58.0, 4483, 3403),\n",
       " (58.0, 61.0, 6583, 4826),\n",
       " (61.0, 64.0, 6968, 3171),\n",
       " (64.0, 68.0, 6623, 2304),\n",
       " (68.0, 74.0, 6753, 1925),\n",
       " (74.0, 107.0, 7737, 1387)]"
      ]
     },
     "execution_count": 40,
     "metadata": {},
     "output_type": "execute_result"
    }
   ],
   "source": [
    "# 每个箱的上界，下界，0 出现的次数， 1 出现的次数\n",
    "num_bins"
   ]
  },
  {
   "cell_type": "markdown",
   "metadata": {},
   "source": [
    "# 确保每个箱中都有 0 和 1"
   ]
  },
  {
   "cell_type": "code",
   "execution_count": 41,
   "metadata": {},
   "outputs": [
    {
     "name": "stdout",
     "output_type": "stream",
     "text": [
      "20\n",
      "20\n",
      "20\n",
      "20\n",
      "20\n",
      "20\n",
      "20\n",
      "20\n",
      "20\n",
      "20\n",
      "20\n",
      "20\n",
      "20\n",
      "20\n",
      "20\n",
      "20\n",
      "20\n",
      "20\n",
      "20\n",
      "20\n"
     ]
    }
   ],
   "source": [
    "for i in range(20):\n",
    "    # 如果第一个组没有包含正样本或负样本，向后合并\n",
    "    if 0 in num_bins[0][2:]:\n",
    "        num_bins[0:2] = [(num_bins[0][0]\n",
    "                          ,num_bins[1][1]\n",
    "                          ,num_bins[0][2] + num_bins[1][2]\n",
    "                          ,num_bins[0][3] + num_bins[1][3]\n",
    "                         )]\n",
    "        continue\n",
    "    for i in range(len(num_bins)):\n",
    "        if 0 in num_bins[i][2:]:\n",
    "            num_bins[i - 1 : i + 1] = [(num_bins[i - 1][0]\n",
    "                                       ,num_bins[i][1]\n",
    "                                       ,num_bins[i - 1][2] + num_bins[i][2]\n",
    "                                       ,num_bins[i - 1][3] + num_bins[i][3]\n",
    "                                      )]\n",
    "            break\n",
    "        else:\n",
    "            break\n",
    "    \n",
    "    print(len(num_bins))"
   ]
  },
  {
   "cell_type": "code",
   "execution_count": 42,
   "metadata": {},
   "outputs": [
    {
     "data": {
      "text/plain": [
       "[(21.0, 28.0, 4243, 7498),\n",
       " (28.0, 31.0, 3571, 5926),\n",
       " (31.0, 34.0, 4075, 6776),\n",
       " (34.0, 36.0, 2908, 4650),\n",
       " (36.0, 39.0, 5182, 7462),\n",
       " (39.0, 41.0, 3956, 5834),\n",
       " (41.0, 43.0, 4002, 5701),\n",
       " (43.0, 45.0, 4389, 5986),\n",
       " (45.0, 46.0, 2419, 3262),\n",
       " (46.0, 48.0, 4813, 6183),\n",
       " (48.0, 50.0, 4900, 6218),\n",
       " (50.0, 52.0, 4728, 5782),\n",
       " (52.0, 54.0, 4681, 5015),\n",
       " (54.0, 56.0, 4677, 4008),\n",
       " (56.0, 58.0, 4483, 3403),\n",
       " (58.0, 61.0, 6583, 4826),\n",
       " (61.0, 64.0, 6968, 3171),\n",
       " (64.0, 68.0, 6623, 2304),\n",
       " (68.0, 74.0, 6753, 1925),\n",
       " (74.0, 107.0, 7737, 1387)]"
      ]
     },
     "execution_count": 42,
     "metadata": {},
     "output_type": "execute_result"
    }
   ],
   "source": [
    "num_bins"
   ]
  },
  {
   "cell_type": "markdown",
   "metadata": {},
   "source": [
    "# 定义 WOE 和 IV 函数"
   ]
  },
  {
   "cell_type": "code",
   "execution_count": 43,
   "metadata": {},
   "outputs": [],
   "source": [
    "def get_woe(num_bins):\n",
    "    columns = [\"min\", \"max\", \"count_0\", \"count_1\"]\n",
    "    df = pd.DataFrame(num_bins, columns=columns)\n",
    "    \n",
    "    df[\"total\"] = df.count_0 + df.count_1 # 一个箱中所有的样本数\n",
    "    df[\"percentage\"] = df.total / df.total.sum() # 一个箱子里所有的样本数，占所有样本数的比例\n",
    "    df[\"bad_rate\"] = df.count_1 / df.total  \n",
    "    df[\"good%\"] = df.count_0 / df.count_0.sum()\n",
    "    df[\"bad%\"] = df.count_1 / df.count_1.sum()\n",
    "    df[\"woe\"] = np.log(df[\"good%\"] / df[\"bad%\"])\n",
    "    return df\n",
    "\n",
    "def get_iv(df):\n",
    "    rate = df[\"good%\"] - df[\"bad%\"]\n",
    "    iv = np.sum(rate * df.woe)\n",
    "    return iv"
   ]
  },
  {
   "cell_type": "code",
   "execution_count": 44,
   "metadata": {},
   "outputs": [
    {
     "data": {
      "text/html": [
       "<div>\n",
       "<style scoped>\n",
       "    .dataframe tbody tr th:only-of-type {\n",
       "        vertical-align: middle;\n",
       "    }\n",
       "\n",
       "    .dataframe tbody tr th {\n",
       "        vertical-align: top;\n",
       "    }\n",
       "\n",
       "    .dataframe thead th {\n",
       "        text-align: right;\n",
       "    }\n",
       "</style>\n",
       "<table border=\"1\" class=\"dataframe\">\n",
       "  <thead>\n",
       "    <tr style=\"text-align: right;\">\n",
       "      <th></th>\n",
       "      <th>min</th>\n",
       "      <th>max</th>\n",
       "      <th>count_0</th>\n",
       "      <th>count_1</th>\n",
       "      <th>total</th>\n",
       "      <th>percentage</th>\n",
       "      <th>bad_rate</th>\n",
       "      <th>good%</th>\n",
       "      <th>bad%</th>\n",
       "      <th>woe</th>\n",
       "    </tr>\n",
       "  </thead>\n",
       "  <tbody>\n",
       "    <tr>\n",
       "      <th>0</th>\n",
       "      <td>21.0</td>\n",
       "      <td>28.0</td>\n",
       "      <td>4243</td>\n",
       "      <td>7498</td>\n",
       "      <td>11741</td>\n",
       "      <td>0.060208</td>\n",
       "      <td>0.638617</td>\n",
       "      <td>0.043433</td>\n",
       "      <td>0.077047</td>\n",
       "      <td>-0.573201</td>\n",
       "    </tr>\n",
       "    <tr>\n",
       "      <th>1</th>\n",
       "      <td>28.0</td>\n",
       "      <td>31.0</td>\n",
       "      <td>3571</td>\n",
       "      <td>5926</td>\n",
       "      <td>9497</td>\n",
       "      <td>0.048701</td>\n",
       "      <td>0.623987</td>\n",
       "      <td>0.036554</td>\n",
       "      <td>0.060894</td>\n",
       "      <td>-0.510340</td>\n",
       "    </tr>\n",
       "    <tr>\n",
       "      <th>2</th>\n",
       "      <td>31.0</td>\n",
       "      <td>34.0</td>\n",
       "      <td>4075</td>\n",
       "      <td>6776</td>\n",
       "      <td>10851</td>\n",
       "      <td>0.055644</td>\n",
       "      <td>0.624459</td>\n",
       "      <td>0.041713</td>\n",
       "      <td>0.069628</td>\n",
       "      <td>-0.512352</td>\n",
       "    </tr>\n",
       "    <tr>\n",
       "      <th>3</th>\n",
       "      <td>34.0</td>\n",
       "      <td>36.0</td>\n",
       "      <td>2908</td>\n",
       "      <td>4650</td>\n",
       "      <td>7558</td>\n",
       "      <td>0.038757</td>\n",
       "      <td>0.615242</td>\n",
       "      <td>0.029767</td>\n",
       "      <td>0.047782</td>\n",
       "      <td>-0.473237</td>\n",
       "    </tr>\n",
       "    <tr>\n",
       "      <th>4</th>\n",
       "      <td>36.0</td>\n",
       "      <td>39.0</td>\n",
       "      <td>5182</td>\n",
       "      <td>7462</td>\n",
       "      <td>12644</td>\n",
       "      <td>0.064838</td>\n",
       "      <td>0.590161</td>\n",
       "      <td>0.053045</td>\n",
       "      <td>0.076677</td>\n",
       "      <td>-0.368468</td>\n",
       "    </tr>\n",
       "    <tr>\n",
       "      <th>5</th>\n",
       "      <td>39.0</td>\n",
       "      <td>41.0</td>\n",
       "      <td>3956</td>\n",
       "      <td>5834</td>\n",
       "      <td>9790</td>\n",
       "      <td>0.050203</td>\n",
       "      <td>0.595914</td>\n",
       "      <td>0.040495</td>\n",
       "      <td>0.059948</td>\n",
       "      <td>-0.392305</td>\n",
       "    </tr>\n",
       "    <tr>\n",
       "      <th>6</th>\n",
       "      <td>41.0</td>\n",
       "      <td>43.0</td>\n",
       "      <td>4002</td>\n",
       "      <td>5701</td>\n",
       "      <td>9703</td>\n",
       "      <td>0.049757</td>\n",
       "      <td>0.587550</td>\n",
       "      <td>0.040966</td>\n",
       "      <td>0.058582</td>\n",
       "      <td>-0.357683</td>\n",
       "    </tr>\n",
       "    <tr>\n",
       "      <th>7</th>\n",
       "      <td>43.0</td>\n",
       "      <td>45.0</td>\n",
       "      <td>4389</td>\n",
       "      <td>5986</td>\n",
       "      <td>10375</td>\n",
       "      <td>0.053203</td>\n",
       "      <td>0.576964</td>\n",
       "      <td>0.044927</td>\n",
       "      <td>0.061510</td>\n",
       "      <td>-0.314158</td>\n",
       "    </tr>\n",
       "    <tr>\n",
       "      <th>8</th>\n",
       "      <td>45.0</td>\n",
       "      <td>46.0</td>\n",
       "      <td>2419</td>\n",
       "      <td>3262</td>\n",
       "      <td>5681</td>\n",
       "      <td>0.029132</td>\n",
       "      <td>0.574195</td>\n",
       "      <td>0.024762</td>\n",
       "      <td>0.033519</td>\n",
       "      <td>-0.302822</td>\n",
       "    </tr>\n",
       "    <tr>\n",
       "      <th>9</th>\n",
       "      <td>46.0</td>\n",
       "      <td>48.0</td>\n",
       "      <td>4813</td>\n",
       "      <td>6183</td>\n",
       "      <td>10996</td>\n",
       "      <td>0.056387</td>\n",
       "      <td>0.562295</td>\n",
       "      <td>0.049268</td>\n",
       "      <td>0.063535</td>\n",
       "      <td>-0.254319</td>\n",
       "    </tr>\n",
       "    <tr>\n",
       "      <th>10</th>\n",
       "      <td>48.0</td>\n",
       "      <td>50.0</td>\n",
       "      <td>4900</td>\n",
       "      <td>6218</td>\n",
       "      <td>11118</td>\n",
       "      <td>0.057013</td>\n",
       "      <td>0.559273</td>\n",
       "      <td>0.050158</td>\n",
       "      <td>0.063894</td>\n",
       "      <td>-0.242049</td>\n",
       "    </tr>\n",
       "    <tr>\n",
       "      <th>11</th>\n",
       "      <td>50.0</td>\n",
       "      <td>52.0</td>\n",
       "      <td>4728</td>\n",
       "      <td>5782</td>\n",
       "      <td>10510</td>\n",
       "      <td>0.053895</td>\n",
       "      <td>0.550143</td>\n",
       "      <td>0.048397</td>\n",
       "      <td>0.059414</td>\n",
       "      <td>-0.205083</td>\n",
       "    </tr>\n",
       "    <tr>\n",
       "      <th>12</th>\n",
       "      <td>52.0</td>\n",
       "      <td>54.0</td>\n",
       "      <td>4681</td>\n",
       "      <td>5015</td>\n",
       "      <td>9696</td>\n",
       "      <td>0.049721</td>\n",
       "      <td>0.517224</td>\n",
       "      <td>0.047916</td>\n",
       "      <td>0.051533</td>\n",
       "      <td>-0.072757</td>\n",
       "    </tr>\n",
       "    <tr>\n",
       "      <th>13</th>\n",
       "      <td>54.0</td>\n",
       "      <td>56.0</td>\n",
       "      <td>4677</td>\n",
       "      <td>4008</td>\n",
       "      <td>8685</td>\n",
       "      <td>0.044537</td>\n",
       "      <td>0.461485</td>\n",
       "      <td>0.047875</td>\n",
       "      <td>0.041185</td>\n",
       "      <td>0.150529</td>\n",
       "    </tr>\n",
       "    <tr>\n",
       "      <th>14</th>\n",
       "      <td>56.0</td>\n",
       "      <td>58.0</td>\n",
       "      <td>4483</td>\n",
       "      <td>3403</td>\n",
       "      <td>7886</td>\n",
       "      <td>0.040439</td>\n",
       "      <td>0.431524</td>\n",
       "      <td>0.045890</td>\n",
       "      <td>0.034968</td>\n",
       "      <td>0.271799</td>\n",
       "    </tr>\n",
       "    <tr>\n",
       "      <th>15</th>\n",
       "      <td>58.0</td>\n",
       "      <td>61.0</td>\n",
       "      <td>6583</td>\n",
       "      <td>4826</td>\n",
       "      <td>11409</td>\n",
       "      <td>0.058505</td>\n",
       "      <td>0.422999</td>\n",
       "      <td>0.067386</td>\n",
       "      <td>0.049591</td>\n",
       "      <td>0.306637</td>\n",
       "    </tr>\n",
       "    <tr>\n",
       "      <th>16</th>\n",
       "      <td>61.0</td>\n",
       "      <td>64.0</td>\n",
       "      <td>6968</td>\n",
       "      <td>3171</td>\n",
       "      <td>10139</td>\n",
       "      <td>0.051993</td>\n",
       "      <td>0.312753</td>\n",
       "      <td>0.071327</td>\n",
       "      <td>0.032584</td>\n",
       "      <td>0.783445</td>\n",
       "    </tr>\n",
       "    <tr>\n",
       "      <th>17</th>\n",
       "      <td>64.0</td>\n",
       "      <td>68.0</td>\n",
       "      <td>6623</td>\n",
       "      <td>2304</td>\n",
       "      <td>8927</td>\n",
       "      <td>0.045778</td>\n",
       "      <td>0.258093</td>\n",
       "      <td>0.067795</td>\n",
       "      <td>0.023675</td>\n",
       "      <td>1.052066</td>\n",
       "    </tr>\n",
       "    <tr>\n",
       "      <th>18</th>\n",
       "      <td>68.0</td>\n",
       "      <td>74.0</td>\n",
       "      <td>6753</td>\n",
       "      <td>1925</td>\n",
       "      <td>8678</td>\n",
       "      <td>0.044501</td>\n",
       "      <td>0.221825</td>\n",
       "      <td>0.069126</td>\n",
       "      <td>0.019781</td>\n",
       "      <td>1.251225</td>\n",
       "    </tr>\n",
       "    <tr>\n",
       "      <th>19</th>\n",
       "      <td>74.0</td>\n",
       "      <td>107.0</td>\n",
       "      <td>7737</td>\n",
       "      <td>1387</td>\n",
       "      <td>9124</td>\n",
       "      <td>0.046788</td>\n",
       "      <td>0.152017</td>\n",
       "      <td>0.079199</td>\n",
       "      <td>0.014252</td>\n",
       "      <td>1.715035</td>\n",
       "    </tr>\n",
       "  </tbody>\n",
       "</table>\n",
       "</div>"
      ],
      "text/plain": [
       "     min    max  count_0  count_1  total  percentage  bad_rate     good%  \\\n",
       "0   21.0   28.0     4243     7498  11741    0.060208  0.638617  0.043433   \n",
       "1   28.0   31.0     3571     5926   9497    0.048701  0.623987  0.036554   \n",
       "2   31.0   34.0     4075     6776  10851    0.055644  0.624459  0.041713   \n",
       "3   34.0   36.0     2908     4650   7558    0.038757  0.615242  0.029767   \n",
       "4   36.0   39.0     5182     7462  12644    0.064838  0.590161  0.053045   \n",
       "5   39.0   41.0     3956     5834   9790    0.050203  0.595914  0.040495   \n",
       "6   41.0   43.0     4002     5701   9703    0.049757  0.587550  0.040966   \n",
       "7   43.0   45.0     4389     5986  10375    0.053203  0.576964  0.044927   \n",
       "8   45.0   46.0     2419     3262   5681    0.029132  0.574195  0.024762   \n",
       "9   46.0   48.0     4813     6183  10996    0.056387  0.562295  0.049268   \n",
       "10  48.0   50.0     4900     6218  11118    0.057013  0.559273  0.050158   \n",
       "11  50.0   52.0     4728     5782  10510    0.053895  0.550143  0.048397   \n",
       "12  52.0   54.0     4681     5015   9696    0.049721  0.517224  0.047916   \n",
       "13  54.0   56.0     4677     4008   8685    0.044537  0.461485  0.047875   \n",
       "14  56.0   58.0     4483     3403   7886    0.040439  0.431524  0.045890   \n",
       "15  58.0   61.0     6583     4826  11409    0.058505  0.422999  0.067386   \n",
       "16  61.0   64.0     6968     3171  10139    0.051993  0.312753  0.071327   \n",
       "17  64.0   68.0     6623     2304   8927    0.045778  0.258093  0.067795   \n",
       "18  68.0   74.0     6753     1925   8678    0.044501  0.221825  0.069126   \n",
       "19  74.0  107.0     7737     1387   9124    0.046788  0.152017  0.079199   \n",
       "\n",
       "        bad%       woe  \n",
       "0   0.077047 -0.573201  \n",
       "1   0.060894 -0.510340  \n",
       "2   0.069628 -0.512352  \n",
       "3   0.047782 -0.473237  \n",
       "4   0.076677 -0.368468  \n",
       "5   0.059948 -0.392305  \n",
       "6   0.058582 -0.357683  \n",
       "7   0.061510 -0.314158  \n",
       "8   0.033519 -0.302822  \n",
       "9   0.063535 -0.254319  \n",
       "10  0.063894 -0.242049  \n",
       "11  0.059414 -0.205083  \n",
       "12  0.051533 -0.072757  \n",
       "13  0.041185  0.150529  \n",
       "14  0.034968  0.271799  \n",
       "15  0.049591  0.306637  \n",
       "16  0.032584  0.783445  \n",
       "17  0.023675  1.052066  \n",
       "18  0.019781  1.251225  \n",
       "19  0.014252  1.715035  "
      ]
     },
     "execution_count": 44,
     "metadata": {},
     "output_type": "execute_result"
    }
   ],
   "source": [
    "a = get_woe(num_bins)\n",
    "a"
   ]
  },
  {
   "cell_type": "code",
   "execution_count": 45,
   "metadata": {},
   "outputs": [
    {
     "data": {
      "text/plain": [
       "0.3538242513107408"
      ]
     },
     "execution_count": 45,
     "metadata": {},
     "output_type": "execute_result"
    }
   ],
   "source": [
    "i = get_iv(a)\n",
    "i"
   ]
  },
  {
   "cell_type": "markdown",
   "metadata": {},
   "source": [
    "# 卡方检验，合并箱体，画出 IV 曲线"
   ]
  },
  {
   "cell_type": "code",
   "execution_count": 46,
   "metadata": {},
   "outputs": [],
   "source": [
    "num_bins_ = num_bins.copy()"
   ]
  },
  {
   "cell_type": "code",
   "execution_count": 47,
   "metadata": {},
   "outputs": [],
   "source": [
    "import matplotlib.pyplot as plt\n",
    "import scipy"
   ]
  },
  {
   "cell_type": "code",
   "execution_count": 48,
   "metadata": {},
   "outputs": [],
   "source": [
    "IV = []\n",
    "axisx = []"
   ]
  },
  {
   "cell_type": "code",
   "execution_count": 49,
   "metadata": {},
   "outputs": [
    {
     "data": {
      "text/plain": [
       "(4.769614278676034,\n",
       " 0.02896631476917573,\n",
       " 1,\n",
       " array([[4319.81231754, 7421.18768246],\n",
       "        [3494.18768246, 6002.81231754]]))"
      ]
     },
     "execution_count": 49,
     "metadata": {},
     "output_type": "execute_result"
    }
   ],
   "source": [
    "num_bins_\n",
    "x1 = num_bins_[0][2:]\n",
    "x2 = num_bins_[1][2:]\n",
    "scipy.stats.chi2_contingency([x1, x2])"
   ]
  },
  {
   "cell_type": "code",
   "execution_count": 50,
   "metadata": {
    "scrolled": true
   },
   "outputs": [
    {
     "name": "stdout",
     "output_type": "stream",
     "text": [
      "20\n",
      "19\n",
      "18\n",
      "17\n",
      "16\n",
      "15\n",
      "14\n",
      "13\n",
      "12\n",
      "11\n",
      "10\n",
      "9\n",
      "8\n",
      "7\n",
      "6\n",
      "5\n",
      "4\n",
      "3\n"
     ]
    }
   ],
   "source": [
    "while len(num_bins_) > 2:\n",
    "    print(len(num_bins_))\n",
    "    pvs = []\n",
    "    # 获取 bum_bin_ 两两之间卡方检验的置信度\n",
    "    for i in range(len(num_bins_) - 1):\n",
    "        x1 = num_bins_[i][2:]\n",
    "        x2 = num_bins_[i + 1][2:]\n",
    "        pv = scipy.stats.chi2_contingency([x1, x2])[1] # 1 是 p 值, 0 是 chi 值\n",
    "        pvs.append(pv)\n",
    "    \n",
    "    # 通过 p 值处理，合并 p 值最大的两组\n",
    "    i = pvs.index(max(pvs))\n",
    "    num_bins_[i:i+2] = [(num_bins_[i][0]\n",
    "                        ,num_bins_[i][1]\n",
    "                        ,num_bins_[i][2] + num_bins_[i + 1][2]\n",
    "                        ,num_bins_[i][3] + num_bins_[i + 1][3]\n",
    "                       )]\n",
    "    \n",
    "    bins_df = get_woe(num_bins_)\n",
    "    axisx.append(len(num_bins_))\n",
    "    IV.append(get_iv(bins_df))\n",
    "        "
   ]
  },
  {
   "cell_type": "code",
   "execution_count": 51,
   "metadata": {},
   "outputs": [
    {
     "data": {
      "text/plain": [
       "[19, 18, 17, 16, 15, 14, 13, 12, 11, 10, 9, 8, 7, 6, 5, 4, 3, 2]"
      ]
     },
     "execution_count": 51,
     "metadata": {},
     "output_type": "execute_result"
    }
   ],
   "source": [
    "axisx"
   ]
  },
  {
   "cell_type": "code",
   "execution_count": 52,
   "metadata": {},
   "outputs": [
    {
     "data": {
      "text/plain": [
       "[0.35382414608138046,\n",
       " 0.3538217260503175,\n",
       " 0.35381745707606443,\n",
       " 0.35380137718739885,\n",
       " 0.35378579092228846,\n",
       " 0.35375677041513764,\n",
       " 0.3537155095395168,\n",
       " 0.3536477069096787,\n",
       " 0.35342749840301857,\n",
       " 0.3532140214773526,\n",
       " 0.35259517523808914,\n",
       " 0.3517024094445062,\n",
       " 0.3507008131832033,\n",
       " 0.34793987815464067,\n",
       " 0.3435162182962633,\n",
       " 0.3352037966213173,\n",
       " 0.31892456360975335,\n",
       " 0.276460652502376]"
      ]
     },
     "execution_count": 52,
     "metadata": {},
     "output_type": "execute_result"
    }
   ],
   "source": [
    "IV"
   ]
  },
  {
   "cell_type": "code",
   "execution_count": 53,
   "metadata": {},
   "outputs": [
    {
     "data": {
      "image/png": "[encoded data removed]",
      "text/plain": [
       "<Figure size 432x288 with 1 Axes>"
      ]
     },
     "metadata": {
      "needs_background": "light"
     },
     "output_type": "display_data"
    }
   ],
   "source": [
    "plt.figure()\n",
    "plt.plot(axisx,IV)\n",
    "plt.xticks(axisx)\n",
    "plt.xlabel(\"number of box\")\n",
    "plt.ylabel(\"IV\")\n",
    "plt.show()"
   ]
  },
  {
   "cell_type": "markdown",
   "metadata": {},
   "source": [
    "# 用最佳分箱个数分箱，验证分箱结果"
   ]
  },
  {
   "cell_type": "code",
   "execution_count": 54,
   "metadata": {},
   "outputs": [],
   "source": [
    "def get_bin(my_num_bins, n):\n",
    "    \"\"\"\n",
    "    my_num_bins: 待分箱\n",
    "    n: 分箱个数 \n",
    "    \"\"\"\n",
    "    while len(my_num_bins) > n:\n",
    "        print(len(my_num_bins))\n",
    "        pvs = []\n",
    "        for i in range(len(my_num_bins) - 1):\n",
    "            x1 = my_num_bins[i][2:]\n",
    "            x2 = my_num_bins[i + 1][2:]\n",
    "            pv = scipy.stats.chi2_contingency([x1, x2])[1]\n",
    "            pvs.append(pv)\n",
    "        \n",
    "        i = pvs.index(max(pvs))\n",
    "        my_num_bins[i: i+2] = [(my_num_bins[i][0]\n",
    "                            ,my_num_bins[i][1]\n",
    "                            ,my_num_bins[i][2] + my_num_bins[i + 1][2]\n",
    "                            ,my_num_bins[i][3] + my_num_bins[i + 1][3]\n",
    "                           )]\n",
    "        \n",
    "    return my_num_bins"
   ]
  },
  {
   "cell_type": "code",
   "execution_count": 55,
   "metadata": {},
   "outputs": [
    {
     "data": {
      "text/plain": [
       "[(21.0, 28.0, 4243, 7498),\n",
       " (28.0, 31.0, 3571, 5926),\n",
       " (31.0, 34.0, 4075, 6776),\n",
       " (34.0, 36.0, 2908, 4650),\n",
       " (36.0, 39.0, 5182, 7462),\n",
       " (39.0, 41.0, 3956, 5834),\n",
       " (41.0, 43.0, 4002, 5701),\n",
       " (43.0, 45.0, 4389, 5986),\n",
       " (45.0, 46.0, 2419, 3262),\n",
       " (46.0, 48.0, 4813, 6183),\n",
       " (48.0, 50.0, 4900, 6218),\n",
       " (50.0, 52.0, 4728, 5782),\n",
       " (52.0, 54.0, 4681, 5015),\n",
       " (54.0, 56.0, 4677, 4008),\n",
       " (56.0, 58.0, 4483, 3403),\n",
       " (58.0, 61.0, 6583, 4826),\n",
       " (61.0, 64.0, 6968, 3171),\n",
       " (64.0, 68.0, 6623, 2304),\n",
       " (68.0, 74.0, 6753, 1925),\n",
       " (74.0, 107.0, 7737, 1387)]"
      ]
     },
     "execution_count": 55,
     "metadata": {},
     "output_type": "execute_result"
    }
   ],
   "source": [
    "aa = num_bins.copy()\n",
    "aa"
   ]
  },
  {
   "cell_type": "code",
   "execution_count": 56,
   "metadata": {},
   "outputs": [
    {
     "name": "stdout",
     "output_type": "stream",
     "text": [
      "20\n",
      "19\n",
      "18\n",
      "17\n",
      "16\n",
      "15\n",
      "14\n",
      "13\n",
      "12\n",
      "11\n",
      "10\n",
      "9\n",
      "8\n",
      "7\n",
      "6\n",
      "5\n"
     ]
    }
   ],
   "source": [
    "afterbins = get_bin(aa, 4)"
   ]
  },
  {
   "cell_type": "code",
   "execution_count": 57,
   "metadata": {},
   "outputs": [
    {
     "data": {
      "text/plain": [
       "[(21.0, 28.0, 53867, 76293),\n",
       " (54.0, 56.0, 15743, 12237),\n",
       " (61.0, 64.0, 20344, 7400),\n",
       " (74.0, 107.0, 7737, 1387)]"
      ]
     },
     "execution_count": 57,
     "metadata": {},
     "output_type": "execute_result"
    }
   ],
   "source": [
    "afterbins"
   ]
  },
  {
   "cell_type": "code",
   "execution_count": 58,
   "metadata": {},
   "outputs": [],
   "source": [
    "bins_df = get_woe(aa)"
   ]
  },
  {
   "cell_type": "code",
   "execution_count": 59,
   "metadata": {},
   "outputs": [
    {
     "data": {
      "text/html": [
       "<div>\n",
       "<style scoped>\n",
       "    .dataframe tbody tr th:only-of-type {\n",
       "        vertical-align: middle;\n",
       "    }\n",
       "\n",
       "    .dataframe tbody tr th {\n",
       "        vertical-align: top;\n",
       "    }\n",
       "\n",
       "    .dataframe thead th {\n",
       "        text-align: right;\n",
       "    }\n",
       "</style>\n",
       "<table border=\"1\" class=\"dataframe\">\n",
       "  <thead>\n",
       "    <tr style=\"text-align: right;\">\n",
       "      <th></th>\n",
       "      <th>min</th>\n",
       "      <th>max</th>\n",
       "      <th>count_0</th>\n",
       "      <th>count_1</th>\n",
       "      <th>total</th>\n",
       "      <th>percentage</th>\n",
       "      <th>bad_rate</th>\n",
       "      <th>good%</th>\n",
       "      <th>bad%</th>\n",
       "      <th>woe</th>\n",
       "    </tr>\n",
       "  </thead>\n",
       "  <tbody>\n",
       "    <tr>\n",
       "      <th>0</th>\n",
       "      <td>21.0</td>\n",
       "      <td>28.0</td>\n",
       "      <td>53867</td>\n",
       "      <td>76293</td>\n",
       "      <td>130160</td>\n",
       "      <td>0.667460</td>\n",
       "      <td>0.586148</td>\n",
       "      <td>0.551402</td>\n",
       "      <td>0.783964</td>\n",
       "      <td>-0.351899</td>\n",
       "    </tr>\n",
       "    <tr>\n",
       "      <th>1</th>\n",
       "      <td>54.0</td>\n",
       "      <td>56.0</td>\n",
       "      <td>15743</td>\n",
       "      <td>12237</td>\n",
       "      <td>27980</td>\n",
       "      <td>0.143481</td>\n",
       "      <td>0.437348</td>\n",
       "      <td>0.161151</td>\n",
       "      <td>0.125744</td>\n",
       "      <td>0.248096</td>\n",
       "    </tr>\n",
       "    <tr>\n",
       "      <th>2</th>\n",
       "      <td>61.0</td>\n",
       "      <td>64.0</td>\n",
       "      <td>20344</td>\n",
       "      <td>7400</td>\n",
       "      <td>27744</td>\n",
       "      <td>0.142271</td>\n",
       "      <td>0.266724</td>\n",
       "      <td>0.208248</td>\n",
       "      <td>0.076040</td>\n",
       "      <td>1.007470</td>\n",
       "    </tr>\n",
       "    <tr>\n",
       "      <th>3</th>\n",
       "      <td>74.0</td>\n",
       "      <td>107.0</td>\n",
       "      <td>7737</td>\n",
       "      <td>1387</td>\n",
       "      <td>9124</td>\n",
       "      <td>0.046788</td>\n",
       "      <td>0.152017</td>\n",
       "      <td>0.079199</td>\n",
       "      <td>0.014252</td>\n",
       "      <td>1.715035</td>\n",
       "    </tr>\n",
       "  </tbody>\n",
       "</table>\n",
       "</div>"
      ],
      "text/plain": [
       "    min    max  count_0  count_1   total  percentage  bad_rate     good%  \\\n",
       "0  21.0   28.0    53867    76293  130160    0.667460  0.586148  0.551402   \n",
       "1  54.0   56.0    15743    12237   27980    0.143481  0.437348  0.161151   \n",
       "2  61.0   64.0    20344     7400   27744    0.142271  0.266724  0.208248   \n",
       "3  74.0  107.0     7737     1387    9124    0.046788  0.152017  0.079199   \n",
       "\n",
       "       bad%       woe  \n",
       "0  0.783964 -0.351899  \n",
       "1  0.125744  0.248096  \n",
       "2  0.076040  1.007470  \n",
       "3  0.014252  1.715035  "
      ]
     },
     "execution_count": 59,
     "metadata": {},
     "output_type": "execute_result"
    }
   ],
   "source": [
    "bins_df"
   ]
  },
  {
   "cell_type": "markdown",
   "metadata": {},
   "source": [
    "# 选取最佳分箱的过程"
   ]
  },
  {
   "cell_type": "code",
   "execution_count": 60,
   "metadata": {},
   "outputs": [],
   "source": [
    "def graphforbestbin(DF, X, Y, n=5,q=20,graph=True):\n",
    "    \"\"\"\n",
    "    自动最优分箱函数,基于卡方检验的分箱\n",
    "    参数:\n",
    "    DF: 需要输入的数据\n",
    "    X: 需要分箱的列名\n",
    "    Y: 分箱数据对应的标签 Y 列名\n",
    "    n: 保留分箱个数\n",
    "    q: 初始分箱的个数\n",
    "    graph: 是否要画出IV图像\n",
    "    区间为前开后闭 (]\n",
    "    \"\"\"\n",
    "    DF = DF[[X,Y]].copy()\n",
    "\n",
    "    DF[\"qcut\"],bins = pd.qcut(DF[X], retbins=True, q=q,duplicates=\"drop\")\n",
    "    coount_y0 = DF.loc[DF[Y]==0].groupby(by=\"qcut\").count()[Y]\n",
    "    coount_y1 = DF.loc[DF[Y]==1].groupby(by=\"qcut\").count()[Y]\n",
    "    num_bins = [*zip(bins,bins[1:],coount_y0,coount_y1)]\n",
    "\n",
    "    for i in range(q):\n",
    "        if 0 in num_bins[0][2:]:\n",
    "            num_bins[0:2] = [(num_bins[0][0]\n",
    "                              ,num_bins[1][1]\n",
    "                              ,num_bins[0][2]+num_bins[1][2]\n",
    "                              ,num_bins[0][3]+num_bins[1][3]\n",
    "                              )]\n",
    "            continue\n",
    "\n",
    "        for i in range(len(num_bins)):\n",
    "            if 0 in num_bins[i][2:]:\n",
    "                num_bins[i-1:i+1] = [(num_bins[i-1][0]\n",
    "                                      ,num_bins[i][1]\n",
    "                                      ,num_bins[i-1][2]+num_bins[i][2]\n",
    "                                      ,num_bins[i-1][3]+num_bins[i][3]\n",
    "                                      )]\n",
    "                break\n",
    "            else:\n",
    "                break\n",
    "\n",
    "    def get_woe(num_bins):\n",
    "        columns = [\"min\",\"max\",\"count_0\",\"count_1\"]\n",
    "        df = pd.DataFrame(num_bins,columns=columns)\n",
    "        df[\"total\"] = df.count_0 + df.count_1\n",
    "        df[\"percentage\"] = df.total / df.total.sum()\n",
    "        df[\"bad_rate\"] = df.count_1 / df.total\n",
    "        df[\"good%\"] = df.count_0/df.count_0.sum()\n",
    "        df[\"bad%\"] = df.count_1/df.count_1.sum()\n",
    "        df[\"woe\"] = np.log(df[\"good%\"] / df[\"bad%\"])\n",
    "        return df\n",
    "\n",
    "    def get_iv(df):\n",
    "        rate = df[\"good%\"] - df[\"bad%\"]\n",
    "        iv = np.sum(rate * df.woe)\n",
    "        return iv\n",
    "\n",
    "    IV = []\n",
    "    axisx = []\n",
    "\n",
    "    while len(num_bins) > n:\n",
    "        pvs = []\n",
    "        for i in range(len(num_bins) -1):\n",
    "            x1 = num_bins[i][2:]\n",
    "            x2 = num_bins[i+1][2:]\n",
    "            pv = scipy.stats.chi2_contingency([x1,x2])[1]\n",
    "            pvs.append(pv)\n",
    "\n",
    "        i = pvs.index(max(pvs))\n",
    "        num_bins[i:i+2] = [(num_bins[i][0]\n",
    "                            ,num_bins[i+1][1]\n",
    "                            ,num_bins[i][2]+num_bins[i+1][2]\n",
    "                            ,num_bins[i][3]+num_bins[i+1][3]\n",
    "                            )]\n",
    "\n",
    "        bins_df = pd.DataFrame(get_woe(num_bins))\n",
    "        axisx.append(len(num_bins))\n",
    "        IV.append(get_iv(bins_df))\n",
    "\n",
    "    if graph:\n",
    "        plt.figure()\n",
    "        plt.plot(axisx,IV)\n",
    "        plt.xticks(axisx)\n",
    "        plt.xlabel(\"number of box\")\n",
    "        plt.ylabel(\"IV\")\n",
    "        plt.show()\n",
    "\n",
    "    return bins_df\n"
   ]
  },
  {
   "cell_type": "code",
   "execution_count": 61,
   "metadata": {},
   "outputs": [
    {
     "data": {
      "text/plain": [
       "Index(['SeriousDlqin2yrs', 'RevolvingUtilizationOfUnsecuredLines', 'age',\n",
       "       'NumberOfTime30-59DaysPastDueNotWorse', 'DebtRatio', 'MonthlyIncome',\n",
       "       'NumberOfOpenCreditLinesAndLoans', 'NumberOfTimes90DaysLate',\n",
       "       'NumberRealEstateLoansOrLines', 'NumberOfTime60-89DaysPastDueNotWorse',\n",
       "       'NumberOfDependents', 'qcut'],\n",
       "      dtype='object')"
      ]
     },
     "execution_count": 61,
     "metadata": {},
     "output_type": "execute_result"
    }
   ],
   "source": [
    "model_data.columns"
   ]
  },
  {
   "cell_type": "code",
   "execution_count": 62,
   "metadata": {},
   "outputs": [
    {
     "name": "stdout",
     "output_type": "stream",
     "text": [
      "RevolvingUtilizationOfUnsecuredLines\n"
     ]
    },
    {
     "data": {
      "image/png": "[encoded data removed]",
      "text/plain": [
       "<Figure size 432x288 with 1 Axes>"
      ]
     },
     "metadata": {
      "needs_background": "light"
     },
     "output_type": "display_data"
    },
    {
     "name": "stdout",
     "output_type": "stream",
     "text": [
      "age\n"
     ]
    },
    {
     "data": {
      "image/png": "[encoded data removed]",
      "text/plain": [
       "<Figure size 432x288 with 1 Axes>"
      ]
     },
     "metadata": {
      "needs_background": "light"
     },
     "output_type": "display_data"
    },
    {
     "name": "stdout",
     "output_type": "stream",
     "text": [
      "NumberOfTime30-59DaysPastDueNotWorse\n"
     ]
    },
    {
     "data": {
      "image/png": "[encoded data removed]",
      "text/plain": [
       "<Figure size 432x288 with 1 Axes>"
      ]
     },
     "metadata": {
      "needs_background": "light"
     },
     "output_type": "display_data"
    },
    {
     "name": "stdout",
     "output_type": "stream",
     "text": [
      "DebtRatio\n"
     ]
    },
    {
     "data": {
      "image/png": "[encoded data removed]",
      "text/plain": [
       "<Figure size 432x288 with 1 Axes>"
      ]
     },
     "metadata": {
      "needs_background": "light"
     },
     "output_type": "display_data"
    },
    {
     "name": "stdout",
     "output_type": "stream",
     "text": [
      "MonthlyIncome\n"
     ]
    },
    {
     "data": {
      "image/png": "[encoded data removed]",
      "text/plain": [
       "<Figure size 432x288 with 1 Axes>"
      ]
     },
     "metadata": {
      "needs_background": "light"
     },
     "output_type": "display_data"
    },
    {
     "name": "stdout",
     "output_type": "stream",
     "text": [
      "NumberOfOpenCreditLinesAndLoans\n"
     ]
    },
    {
     "data": {
      "image/png": "[encoded data removed]",
      "text/plain": [
       "<Figure size 432x288 with 1 Axes>"
      ]
     },
     "metadata": {
      "needs_background": "light"
     },
     "output_type": "display_data"
    },
    {
     "name": "stdout",
     "output_type": "stream",
     "text": [
      "NumberOfTimes90DaysLate\n"
     ]
    },
    {
     "data": {
      "image/png": "[encoded data removed]",
      "text/plain": [
       "<Figure size 432x288 with 1 Axes>"
      ]
     },
     "metadata": {
      "needs_background": "light"
     },
     "output_type": "display_data"
    },
    {
     "name": "stdout",
     "output_type": "stream",
     "text": [
      "NumberRealEstateLoansOrLines\n"
     ]
    },
    {
     "data": {
      "image/png": "[encoded data removed]",
      "text/plain": [
       "<Figure size 432x288 with 1 Axes>"
      ]
     },
     "metadata": {
      "needs_background": "light"
     },
     "output_type": "display_data"
    },
    {
     "name": "stdout",
     "output_type": "stream",
     "text": [
      "NumberOfTime60-89DaysPastDueNotWorse\n"
     ]
    },
    {
     "data": {
      "image/png": "[encoded data removed]",
      "text/plain": [
       "<Figure size 432x288 with 1 Axes>"
      ]
     },
     "metadata": {
      "needs_background": "light"
     },
     "output_type": "display_data"
    },
    {
     "ename": "UnboundLocalError",
     "evalue": "local variable 'bins_df' referenced before assignment",
     "output_type": "error",
     "traceback": [
      "\u001b[0;31m---------------------------------------------------------------\u001b[0m",
      "\u001b[0;31mUnboundLocalError\u001b[0m             Traceback (most recent call last)",
      "\u001b[0;32m<ipython-input-62-2763d837ef9f>\u001b[0m in \u001b[0;36m<module>\u001b[0;34m\u001b[0m\n\u001b[1;32m      1\u001b[0m \u001b[0;32mfor\u001b[0m \u001b[0mi\u001b[0m \u001b[0;32min\u001b[0m \u001b[0mmodel_data\u001b[0m\u001b[0;34m.\u001b[0m\u001b[0mcolumns\u001b[0m\u001b[0;34m[\u001b[0m\u001b[0;36m1\u001b[0m\u001b[0;34m:\u001b[0m\u001b[0;34m-\u001b[0m\u001b[0;36m1\u001b[0m\u001b[0;34m]\u001b[0m\u001b[0;34m:\u001b[0m\u001b[0;34m\u001b[0m\u001b[0;34m\u001b[0m\u001b[0m\n\u001b[1;32m      2\u001b[0m     \u001b[0mprint\u001b[0m\u001b[0;34m(\u001b[0m\u001b[0mi\u001b[0m\u001b[0;34m)\u001b[0m\u001b[0;34m\u001b[0m\u001b[0;34m\u001b[0m\u001b[0m\n\u001b[0;32m----> 3\u001b[0;31m     \u001b[0mgraphforbestbin\u001b[0m\u001b[0;34m(\u001b[0m\u001b[0mmodel_data\u001b[0m\u001b[0;34m,\u001b[0m \u001b[0mi\u001b[0m\u001b[0;34m,\u001b[0m \u001b[0;34m\"SeriousDlqin2yrs\"\u001b[0m\u001b[0;34m,\u001b[0m \u001b[0mn\u001b[0m\u001b[0;34m=\u001b[0m\u001b[0;36m2\u001b[0m\u001b[0;34m,\u001b[0m \u001b[0mq\u001b[0m\u001b[0;34m=\u001b[0m\u001b[0;36m20\u001b[0m\u001b[0;34m)\u001b[0m\u001b[0;34m\u001b[0m\u001b[0;34m\u001b[0m\u001b[0m\n\u001b[0m",
      "\u001b[0;32m<ipython-input-60-9e4f16e0c411>\u001b[0m in \u001b[0;36mgraphforbestbin\u001b[0;34m(DF, X, Y, n, q, graph)\u001b[0m\n\u001b[1;32m     84\u001b[0m         \u001b[0mplt\u001b[0m\u001b[0;34m.\u001b[0m\u001b[0mshow\u001b[0m\u001b[0;34m(\u001b[0m\u001b[0;34m)\u001b[0m\u001b[0;34m\u001b[0m\u001b[0;34m\u001b[0m\u001b[0m\n\u001b[1;32m     85\u001b[0m \u001b[0;34m\u001b[0m\u001b[0m\n\u001b[0;32m---> 86\u001b[0;31m     \u001b[0;32mreturn\u001b[0m \u001b[0mbins_df\u001b[0m\u001b[0;34m\u001b[0m\u001b[0;34m\u001b[0m\u001b[0m\n\u001b[0m",
      "\u001b[0;31mUnboundLocalError\u001b[0m: local variable 'bins_df' referenced before assignment"
     ]
    }
   ],
   "source": [
    "for i in model_data.columns[1:-1]:\n",
    "    print(i)\n",
    "    graphforbestbin(model_data, i, \"SeriousDlqin2yrs\", n=2, q=20)"
   ]
  },
  {
   "cell_type": "code",
   "execution_count": 63,
   "metadata": {},
   "outputs": [
    {
     "data": {
      "text/plain": [
       "0         0.000000\n",
       "1         0.000000\n",
       "2         3.716057\n",
       "3         0.000000\n",
       "4         0.181999\n",
       "            ...   \n",
       "195003    3.966830\n",
       "195004    2.000000\n",
       "195005    2.768793\n",
       "195006    0.000000\n",
       "195007    0.000000\n",
       "Name: NumberOfDependents, Length: 195008, dtype: float64"
      ]
     },
     "execution_count": 63,
     "metadata": {},
     "output_type": "execute_result"
    }
   ],
   "source": [
    "model_data[\"NumberOfDependents\"]"
   ]
  },
  {
   "cell_type": "markdown",
   "metadata": {},
   "source": [
    "# 不是所有特征都可以走这个分箱流程，因为有的特征无法分出20组\n",
    "# 解法：将可以分箱的特征单独分组，不能自动分箱的自己观察后手写"
   ]
  },
  {
   "cell_type": "code",
   "execution_count": 64,
   "metadata": {},
   "outputs": [],
   "source": [
    "auto_col_bins = {\"RevolvingUtilizationOfUnsecuredLines\":6\n",
    "                 ,\"age\":5\n",
    "                 ,\"DebtRatio\":4\n",
    "                 ,\"MonthlyIncome\":3\n",
    "                 ,\"NumberOfOpenCreditLinesAndLoans\":5\n",
    "                }\n",
    "\n",
    "#不能使用自动分箱的变量\n",
    "\n",
    "hand_bins = {\"NumberOfTime30-59DaysPastDueNotWorse\":[0,1,2,13]\n",
    "             ,\"NumberOfTimes90DaysLate\":[0,1,2,17]\n",
    "             ,\"NumberRealEstateLoansOrLines\":[0,1,2,4,54]\n",
    "             ,\"NumberOfTime60-89DaysPastDueNotWorse\":[0,1,2,8]\n",
    "             ,\"NumberOfDependents\":[0,1,2,3]\n",
    "            }\n",
    "\n",
    "#保证区间覆盖使用 np.inf替换最大值,用-np.inf替换最小值\n",
    "\n",
    "hand_bins = {k:[-np.inf,*v[:-1],np.inf] for k,v in hand_bins.items()}"
   ]
  },
  {
   "cell_type": "code",
   "execution_count": 65,
   "metadata": {},
   "outputs": [
    {
     "data": {
      "text/plain": [
       "{'RevolvingUtilizationOfUnsecuredLines': [-inf,\n",
       "  0.09901053574999999,\n",
       "  0.29757432640000003,\n",
       "  0.465131117,\n",
       "  0.982418665421648,\n",
       "  0.9999998999999999,\n",
       "  inf],\n",
       " 'age': [-inf, 36.0, 54.0, 61.0, 74.0, inf],\n",
       " 'DebtRatio': [-inf,\n",
       "  0.01731254207314617,\n",
       "  0.40169059251329137,\n",
       "  1.4744706086960997,\n",
       "  inf],\n",
       " 'MonthlyIncome': [-inf, 0.1, 5588.269046034386, inf],\n",
       " 'NumberOfOpenCreditLinesAndLoans': [-inf, 1.0, 3.0, 5.0, 17.0, inf],\n",
       " 'NumberOfTime30-59DaysPastDueNotWorse': [-inf, 0, 1, 2, inf],\n",
       " 'NumberOfTimes90DaysLate': [-inf, 0, 1, 2, inf],\n",
       " 'NumberRealEstateLoansOrLines': [-inf, 0, 1, 2, 4, inf],\n",
       " 'NumberOfTime60-89DaysPastDueNotWorse': [-inf, 0, 1, 2, inf],\n",
       " 'NumberOfDependents': [-inf, 0, 1, 2, inf]}"
      ]
     },
     "execution_count": 65,
     "metadata": {},
     "output_type": "execute_result"
    }
   ],
   "source": [
    "# 对所有特征按照选择的箱体个数和手写的分箱范围进行分箱\n",
    "bins_of_col = {}\n",
    "\n",
    "# 生成自动分箱的分箱区间和分箱后的 IV 值\n",
    "\n",
    "for col in auto_col_bins:\n",
    "    bins_df = graphforbestbin(model_data\n",
    "                              ,col\n",
    "                              ,\"SeriousDlqin2yrs\"\n",
    "                              ,n=auto_col_bins[col]\n",
    "                              ,q=20\n",
    "                              ,graph=False\n",
    "                             )\n",
    "    bins_list = sorted(set(bins_df[\"min\"]).union(bins_df[\"max\"]))\n",
    "    # 保证区间覆盖使用 np.inf 替换最大值 -np.inf 替换最小值\n",
    "    bins_list[0], bins_list[-1] = -np.inf, np.inf\n",
    "    bins_of_col[col] = bins_list\n",
    "    \n",
    "# 合并手动分箱数据\n",
    "bins_of_col.update(hand_bins)\n",
    "\n",
    "bins_of_col"
   ]
  },
  {
   "cell_type": "markdown",
   "metadata": {},
   "source": [
    "# 计算各个箱子的 WOE 并映射到数据中"
   ]
  },
  {
   "cell_type": "code",
   "execution_count": 66,
   "metadata": {},
   "outputs": [
    {
     "data": {
      "text/html": [
       "<div>\n",
       "<style scoped>\n",
       "    .dataframe tbody tr th:only-of-type {\n",
       "        vertical-align: middle;\n",
       "    }\n",
       "\n",
       "    .dataframe tbody tr th {\n",
       "        vertical-align: top;\n",
       "    }\n",
       "\n",
       "    .dataframe thead th {\n",
       "        text-align: right;\n",
       "    }\n",
       "</style>\n",
       "<table border=\"1\" class=\"dataframe\">\n",
       "  <thead>\n",
       "    <tr style=\"text-align: right;\">\n",
       "      <th></th>\n",
       "      <th>age</th>\n",
       "      <th>SeriousDlqin2yrs</th>\n",
       "      <th>cut</th>\n",
       "    </tr>\n",
       "  </thead>\n",
       "  <tbody>\n",
       "    <tr>\n",
       "      <th>0</th>\n",
       "      <td>53</td>\n",
       "      <td>0</td>\n",
       "      <td>(36.0, 54.0]</td>\n",
       "    </tr>\n",
       "    <tr>\n",
       "      <th>1</th>\n",
       "      <td>63</td>\n",
       "      <td>0</td>\n",
       "      <td>(61.0, 74.0]</td>\n",
       "    </tr>\n",
       "    <tr>\n",
       "      <th>2</th>\n",
       "      <td>39</td>\n",
       "      <td>1</td>\n",
       "      <td>(36.0, 54.0]</td>\n",
       "    </tr>\n",
       "    <tr>\n",
       "      <th>3</th>\n",
       "      <td>73</td>\n",
       "      <td>0</td>\n",
       "      <td>(61.0, 74.0]</td>\n",
       "    </tr>\n",
       "    <tr>\n",
       "      <th>4</th>\n",
       "      <td>53</td>\n",
       "      <td>1</td>\n",
       "      <td>(36.0, 54.0]</td>\n",
       "    </tr>\n",
       "    <tr>\n",
       "      <th>...</th>\n",
       "      <td>...</td>\n",
       "      <td>...</td>\n",
       "      <td>...</td>\n",
       "    </tr>\n",
       "    <tr>\n",
       "      <th>195003</th>\n",
       "      <td>32</td>\n",
       "      <td>1</td>\n",
       "      <td>(-inf, 36.0]</td>\n",
       "    </tr>\n",
       "    <tr>\n",
       "      <th>195004</th>\n",
       "      <td>50</td>\n",
       "      <td>1</td>\n",
       "      <td>(36.0, 54.0]</td>\n",
       "    </tr>\n",
       "    <tr>\n",
       "      <th>195005</th>\n",
       "      <td>46</td>\n",
       "      <td>1</td>\n",
       "      <td>(36.0, 54.0]</td>\n",
       "    </tr>\n",
       "    <tr>\n",
       "      <th>195006</th>\n",
       "      <td>64</td>\n",
       "      <td>0</td>\n",
       "      <td>(61.0, 74.0]</td>\n",
       "    </tr>\n",
       "    <tr>\n",
       "      <th>195007</th>\n",
       "      <td>53</td>\n",
       "      <td>1</td>\n",
       "      <td>(36.0, 54.0]</td>\n",
       "    </tr>\n",
       "  </tbody>\n",
       "</table>\n",
       "<p>195008 rows × 3 columns</p>\n",
       "</div>"
      ],
      "text/plain": [
       "        age  SeriousDlqin2yrs           cut\n",
       "0        53                 0  (36.0, 54.0]\n",
       "1        63                 0  (61.0, 74.0]\n",
       "2        39                 1  (36.0, 54.0]\n",
       "3        73                 0  (61.0, 74.0]\n",
       "4        53                 1  (36.0, 54.0]\n",
       "...     ...               ...           ...\n",
       "195003   32                 1  (-inf, 36.0]\n",
       "195004   50                 1  (36.0, 54.0]\n",
       "195005   46                 1  (36.0, 54.0]\n",
       "195006   64                 0  (61.0, 74.0]\n",
       "195007   53                 1  (36.0, 54.0]\n",
       "\n",
       "[195008 rows x 3 columns]"
      ]
     },
     "execution_count": 66,
     "metadata": {},
     "output_type": "execute_result"
    }
   ],
   "source": [
    "data = model_data.copy()\n",
    "\n",
    "# pd.cut 根据已知的分箱间隔把数据分箱\n",
    "data = data[[\"age\", \"SeriousDlqin2yrs\"]].copy()\n",
    "data[\"cut\"] = pd.cut(data[\"age\"], [-np.inf, 36.0, 54.0, 61.0, 74.0, np.inf])\n",
    "data"
   ]
  },
  {
   "cell_type": "code",
   "execution_count": 67,
   "metadata": {},
   "outputs": [
    {
     "data": {
      "text/plain": [
       "cut           SeriousDlqin2yrs\n",
       "(-inf, 36.0]  1                   24850\n",
       "              0                   14797\n",
       "(36.0, 54.0]  1                   51443\n",
       "              0                   39070\n",
       "(54.0, 61.0]  0                   15743\n",
       "              1                   12237\n",
       "(61.0, 74.0]  0                   20344\n",
       "              1                    7400\n",
       "(74.0, inf]   0                    7737\n",
       "              1                    1387\n",
       "Name: SeriousDlqin2yrs, dtype: int64"
      ]
     },
     "execution_count": 67,
     "metadata": {},
     "output_type": "execute_result"
    }
   ],
   "source": [
    "# 按照分箱结果取出其中的标签值\n",
    "# 对每个箱中的 1 和 0 计数\n",
    "data.groupby(\"cut\")[\"SeriousDlqin2yrs\"].value_counts()"
   ]
  },
  {
   "cell_type": "code",
   "execution_count": 68,
   "metadata": {},
   "outputs": [
    {
     "data": {
      "text/html": [
       "<div>\n",
       "<style scoped>\n",
       "    .dataframe tbody tr th:only-of-type {\n",
       "        vertical-align: middle;\n",
       "    }\n",
       "\n",
       "    .dataframe tbody tr th {\n",
       "        vertical-align: top;\n",
       "    }\n",
       "\n",
       "    .dataframe thead th {\n",
       "        text-align: right;\n",
       "    }\n",
       "</style>\n",
       "<table border=\"1\" class=\"dataframe\">\n",
       "  <thead>\n",
       "    <tr style=\"text-align: right;\">\n",
       "      <th>SeriousDlqin2yrs</th>\n",
       "      <th>0</th>\n",
       "      <th>1</th>\n",
       "    </tr>\n",
       "    <tr>\n",
       "      <th>cut</th>\n",
       "      <th></th>\n",
       "      <th></th>\n",
       "    </tr>\n",
       "  </thead>\n",
       "  <tbody>\n",
       "    <tr>\n",
       "      <th>(-inf, 36.0]</th>\n",
       "      <td>14797</td>\n",
       "      <td>24850</td>\n",
       "    </tr>\n",
       "    <tr>\n",
       "      <th>(36.0, 54.0]</th>\n",
       "      <td>39070</td>\n",
       "      <td>51443</td>\n",
       "    </tr>\n",
       "    <tr>\n",
       "      <th>(54.0, 61.0]</th>\n",
       "      <td>15743</td>\n",
       "      <td>12237</td>\n",
       "    </tr>\n",
       "    <tr>\n",
       "      <th>(61.0, 74.0]</th>\n",
       "      <td>20344</td>\n",
       "      <td>7400</td>\n",
       "    </tr>\n",
       "    <tr>\n",
       "      <th>(74.0, inf]</th>\n",
       "      <td>7737</td>\n",
       "      <td>1387</td>\n",
       "    </tr>\n",
       "  </tbody>\n",
       "</table>\n",
       "</div>"
      ],
      "text/plain": [
       "SeriousDlqin2yrs      0      1\n",
       "cut                           \n",
       "(-inf, 36.0]      14797  24850\n",
       "(36.0, 54.0]      39070  51443\n",
       "(54.0, 61.0]      15743  12237\n",
       "(61.0, 74.0]      20344   7400\n",
       "(74.0, inf]        7737   1387"
      ]
     },
     "execution_count": 68,
     "metadata": {},
     "output_type": "execute_result"
    }
   ],
   "source": [
    "#使用unstack()来将树状结构变成表状结构\n",
    "data.groupby(\"cut\")[\"SeriousDlqin2yrs\"].value_counts().unstack()"
   ]
  },
  {
   "cell_type": "code",
   "execution_count": 69,
   "metadata": {},
   "outputs": [],
   "source": [
    "bins_df = data.groupby(\"cut\")[\"SeriousDlqin2yrs\"].value_counts().unstack()"
   ]
  },
  {
   "cell_type": "code",
   "execution_count": 70,
   "metadata": {},
   "outputs": [],
   "source": [
    "bins_df[\"woe\"] = np.log((bins_df[0]/bins_df[0].sum())/(bins_df[1]/bins_df[1].sum()))"
   ]
  },
  {
   "cell_type": "code",
   "execution_count": 71,
   "metadata": {},
   "outputs": [
    {
     "data": {
      "text/html": [
       "<div>\n",
       "<style scoped>\n",
       "    .dataframe tbody tr th:only-of-type {\n",
       "        vertical-align: middle;\n",
       "    }\n",
       "\n",
       "    .dataframe tbody tr th {\n",
       "        vertical-align: top;\n",
       "    }\n",
       "\n",
       "    .dataframe thead th {\n",
       "        text-align: right;\n",
       "    }\n",
       "</style>\n",
       "<table border=\"1\" class=\"dataframe\">\n",
       "  <thead>\n",
       "    <tr style=\"text-align: right;\">\n",
       "      <th>SeriousDlqin2yrs</th>\n",
       "      <th>0</th>\n",
       "      <th>1</th>\n",
       "      <th>woe</th>\n",
       "    </tr>\n",
       "    <tr>\n",
       "      <th>cut</th>\n",
       "      <th></th>\n",
       "      <th></th>\n",
       "      <th></th>\n",
       "    </tr>\n",
       "  </thead>\n",
       "  <tbody>\n",
       "    <tr>\n",
       "      <th>(-inf, 36.0]</th>\n",
       "      <td>14797</td>\n",
       "      <td>24850</td>\n",
       "      <td>-0.522269</td>\n",
       "    </tr>\n",
       "    <tr>\n",
       "      <th>(36.0, 54.0]</th>\n",
       "      <td>39070</td>\n",
       "      <td>51443</td>\n",
       "      <td>-0.278955</td>\n",
       "    </tr>\n",
       "    <tr>\n",
       "      <th>(54.0, 61.0]</th>\n",
       "      <td>15743</td>\n",
       "      <td>12237</td>\n",
       "      <td>0.248096</td>\n",
       "    </tr>\n",
       "    <tr>\n",
       "      <th>(61.0, 74.0]</th>\n",
       "      <td>20344</td>\n",
       "      <td>7400</td>\n",
       "      <td>1.007470</td>\n",
       "    </tr>\n",
       "    <tr>\n",
       "      <th>(74.0, inf]</th>\n",
       "      <td>7737</td>\n",
       "      <td>1387</td>\n",
       "      <td>1.715035</td>\n",
       "    </tr>\n",
       "  </tbody>\n",
       "</table>\n",
       "</div>"
      ],
      "text/plain": [
       "SeriousDlqin2yrs      0      1       woe\n",
       "cut                                     \n",
       "(-inf, 36.0]      14797  24850 -0.522269\n",
       "(36.0, 54.0]      39070  51443 -0.278955\n",
       "(54.0, 61.0]      15743  12237  0.248096\n",
       "(61.0, 74.0]      20344   7400  1.007470\n",
       "(74.0, inf]        7737   1387  1.715035"
      ]
     },
     "execution_count": 71,
     "metadata": {},
     "output_type": "execute_result"
    }
   ],
   "source": [
    "bins_df"
   ]
  },
  {
   "cell_type": "code",
   "execution_count": 72,
   "metadata": {},
   "outputs": [],
   "source": [
    "def get_woe(df, col, y, bins):\n",
    "    df = df[[col, y]].copy()\n",
    "    df[\"cut\"] = pd.cut(df[col], bins)\n",
    "    bins_df = df.groupby(\"cut\")[y].value_counts().unstack()\n",
    "    woe = bins_df[\"woe\"] = np.log((bins_df[0]/bins_df[0].sum())/(bins_df[1]/bins_df[1].sum()))\n",
    "    return woe"
   ]
  },
  {
   "cell_type": "code",
   "execution_count": 73,
   "metadata": {},
   "outputs": [
    {
     "data": {
      "text/plain": [
       "{'RevolvingUtilizationOfUnsecuredLines': cut\n",
       " (-inf, 0.099]     2.199833\n",
       " (0.099, 0.298]    0.665610\n",
       " (0.298, 0.465]   -0.121195\n",
       " (0.465, 0.982]   -1.073818\n",
       " (0.982, 1.0]     -0.482082\n",
       " (1.0, inf]       -2.030767\n",
       " dtype: float64, 'age': cut\n",
       " (-inf, 36.0]   -0.522269\n",
       " (36.0, 54.0]   -0.278955\n",
       " (54.0, 61.0]    0.248096\n",
       " (61.0, 74.0]    1.007470\n",
       " (74.0, inf]     1.715035\n",
       " dtype: float64, 'DebtRatio': cut\n",
       " (-inf, 0.0173]     1.499490\n",
       " (0.0173, 0.402]    0.037217\n",
       " (0.402, 1.474]    -0.388177\n",
       " (1.474, inf]       0.174886\n",
       " dtype: float64, 'MonthlyIncome': cut\n",
       " (-inf, 0.1]        1.451433\n",
       " (0.1, 5588.269]   -0.239426\n",
       " (5588.269, inf]    0.232590\n",
       " dtype: float64, 'NumberOfOpenCreditLinesAndLoans': cut\n",
       " (-inf, 1.0]   -0.857931\n",
       " (1.0, 3.0]    -0.327289\n",
       " (3.0, 5.0]    -0.054617\n",
       " (5.0, 17.0]    0.124635\n",
       " (17.0, inf]    0.464888\n",
       " dtype: float64, 'NumberOfTime30-59DaysPastDueNotWorse': cut\n",
       " (-inf, 0.0]    0.352034\n",
       " (0.0, 1.0]    -0.870281\n",
       " (1.0, 2.0]    -1.378052\n",
       " (2.0, inf]    -1.544502\n",
       " dtype: float64, 'NumberOfTimes90DaysLate': cut\n",
       " (-inf, 0.0]    0.237033\n",
       " (0.0, 1.0]    -1.760884\n",
       " (1.0, 2.0]    -2.264263\n",
       " (2.0, inf]    -2.409075\n",
       " dtype: float64, 'NumberRealEstateLoansOrLines': cut\n",
       " (-inf, 0.0]   -0.391810\n",
       " (0.0, 1.0]     0.191596\n",
       " (1.0, 2.0]     0.616967\n",
       " (2.0, 4.0]     0.387389\n",
       " (4.0, inf]    -0.287286\n",
       " dtype: float64, 'NumberOfTime60-89DaysPastDueNotWorse': cut\n",
       " (-inf, 0.0]    0.124837\n",
       " (0.0, 1.0]    -1.388074\n",
       " (1.0, 2.0]    -1.772896\n",
       " (2.0, inf]    -1.801660\n",
       " dtype: float64, 'NumberOfDependents': cut\n",
       " (-inf, 0.0]    0.628970\n",
       " (0.0, 1.0]    -0.580359\n",
       " (1.0, 2.0]    -0.531219\n",
       " (2.0, inf]    -0.479332\n",
       " dtype: float64}"
      ]
     },
     "execution_count": 73,
     "metadata": {},
     "output_type": "execute_result"
    }
   ],
   "source": [
    "# 将所有 WOE 存储到字典中\n",
    "\n",
    "woeall = {}\n",
    "\n",
    "for col in bins_of_col:\n",
    "    woeall[col] = get_woe(model_data, col, \"SeriousDlqin2yrs\", bins_of_col[col])\n",
    "    \n",
    "woeall"
   ]
  },
  {
   "cell_type": "markdown",
   "metadata": {},
   "source": [
    "# 将所有 WOE 映射到原始数据"
   ]
  },
  {
   "cell_type": "code",
   "execution_count": 74,
   "metadata": {},
   "outputs": [],
   "source": [
    "model_woe = pd.DataFrame(index=model_data.index)"
   ]
  },
  {
   "cell_type": "code",
   "execution_count": 75,
   "metadata": {},
   "outputs": [],
   "source": [
    "model_woe[\"age\"] = pd.cut(model_data[\"age\"], bins_of_col[\"age\"]).map(woeall[\"age\"])"
   ]
  },
  {
   "cell_type": "code",
   "execution_count": 76,
   "metadata": {},
   "outputs": [
    {
     "data": {
      "text/html": [
       "<div>\n",
       "<style scoped>\n",
       "    .dataframe tbody tr th:only-of-type {\n",
       "        vertical-align: middle;\n",
       "    }\n",
       "\n",
       "    .dataframe tbody tr th {\n",
       "        vertical-align: top;\n",
       "    }\n",
       "\n",
       "    .dataframe thead th {\n",
       "        text-align: right;\n",
       "    }\n",
       "</style>\n",
       "<table border=\"1\" class=\"dataframe\">\n",
       "  <thead>\n",
       "    <tr style=\"text-align: right;\">\n",
       "      <th></th>\n",
       "      <th>age</th>\n",
       "    </tr>\n",
       "  </thead>\n",
       "  <tbody>\n",
       "    <tr>\n",
       "      <th>0</th>\n",
       "      <td>-0.278955</td>\n",
       "    </tr>\n",
       "    <tr>\n",
       "      <th>1</th>\n",
       "      <td>1.007470</td>\n",
       "    </tr>\n",
       "    <tr>\n",
       "      <th>2</th>\n",
       "      <td>-0.278955</td>\n",
       "    </tr>\n",
       "    <tr>\n",
       "      <th>3</th>\n",
       "      <td>1.007470</td>\n",
       "    </tr>\n",
       "    <tr>\n",
       "      <th>4</th>\n",
       "      <td>-0.278955</td>\n",
       "    </tr>\n",
       "  </tbody>\n",
       "</table>\n",
       "</div>"
      ],
      "text/plain": [
       "        age\n",
       "0 -0.278955\n",
       "1  1.007470\n",
       "2 -0.278955\n",
       "3  1.007470\n",
       "4 -0.278955"
      ]
     },
     "execution_count": 76,
     "metadata": {},
     "output_type": "execute_result"
    }
   ],
   "source": [
    "model_woe.head()"
   ]
  },
  {
   "cell_type": "code",
   "execution_count": 77,
   "metadata": {},
   "outputs": [],
   "source": [
    "for col in bins_of_col:\n",
    "    model_woe[col] = pd.cut(model_data[col], bins_of_col[col]).map(woeall[col])"
   ]
  },
  {
   "cell_type": "code",
   "execution_count": 78,
   "metadata": {},
   "outputs": [
    {
     "data": {
      "text/html": [
       "<div>\n",
       "<style scoped>\n",
       "    .dataframe tbody tr th:only-of-type {\n",
       "        vertical-align: middle;\n",
       "    }\n",
       "\n",
       "    .dataframe tbody tr th {\n",
       "        vertical-align: top;\n",
       "    }\n",
       "\n",
       "    .dataframe thead th {\n",
       "        text-align: right;\n",
       "    }\n",
       "</style>\n",
       "<table border=\"1\" class=\"dataframe\">\n",
       "  <thead>\n",
       "    <tr style=\"text-align: right;\">\n",
       "      <th></th>\n",
       "      <th>age</th>\n",
       "      <th>RevolvingUtilizationOfUnsecuredLines</th>\n",
       "      <th>DebtRatio</th>\n",
       "      <th>MonthlyIncome</th>\n",
       "      <th>NumberOfOpenCreditLinesAndLoans</th>\n",
       "      <th>NumberOfTime30-59DaysPastDueNotWorse</th>\n",
       "      <th>NumberOfTimes90DaysLate</th>\n",
       "      <th>NumberRealEstateLoansOrLines</th>\n",
       "      <th>NumberOfTime60-89DaysPastDueNotWorse</th>\n",
       "      <th>NumberOfDependents</th>\n",
       "    </tr>\n",
       "  </thead>\n",
       "  <tbody>\n",
       "    <tr>\n",
       "      <th>0</th>\n",
       "      <td>-0.278955</td>\n",
       "      <td>2.199833</td>\n",
       "      <td>0.037217</td>\n",
       "      <td>-0.239426</td>\n",
       "      <td>-0.054617</td>\n",
       "      <td>0.352034</td>\n",
       "      <td>0.237033</td>\n",
       "      <td>-0.391810</td>\n",
       "      <td>0.124837</td>\n",
       "      <td>0.628970</td>\n",
       "    </tr>\n",
       "    <tr>\n",
       "      <th>1</th>\n",
       "      <td>1.007470</td>\n",
       "      <td>0.665610</td>\n",
       "      <td>0.037217</td>\n",
       "      <td>-0.239426</td>\n",
       "      <td>-0.054617</td>\n",
       "      <td>0.352034</td>\n",
       "      <td>0.237033</td>\n",
       "      <td>-0.391810</td>\n",
       "      <td>0.124837</td>\n",
       "      <td>0.628970</td>\n",
       "    </tr>\n",
       "    <tr>\n",
       "      <th>2</th>\n",
       "      <td>-0.278955</td>\n",
       "      <td>-2.030767</td>\n",
       "      <td>-0.388177</td>\n",
       "      <td>-0.239426</td>\n",
       "      <td>-0.054617</td>\n",
       "      <td>-0.870281</td>\n",
       "      <td>-1.760884</td>\n",
       "      <td>-0.391810</td>\n",
       "      <td>-1.772896</td>\n",
       "      <td>-0.479332</td>\n",
       "    </tr>\n",
       "    <tr>\n",
       "      <th>3</th>\n",
       "      <td>1.007470</td>\n",
       "      <td>2.199833</td>\n",
       "      <td>-0.388177</td>\n",
       "      <td>-0.239426</td>\n",
       "      <td>0.124635</td>\n",
       "      <td>0.352034</td>\n",
       "      <td>0.237033</td>\n",
       "      <td>0.616967</td>\n",
       "      <td>0.124837</td>\n",
       "      <td>0.628970</td>\n",
       "    </tr>\n",
       "    <tr>\n",
       "      <th>4</th>\n",
       "      <td>-0.278955</td>\n",
       "      <td>-1.073818</td>\n",
       "      <td>-0.388177</td>\n",
       "      <td>0.232590</td>\n",
       "      <td>0.124635</td>\n",
       "      <td>0.352034</td>\n",
       "      <td>0.237033</td>\n",
       "      <td>0.616967</td>\n",
       "      <td>0.124837</td>\n",
       "      <td>-0.580359</td>\n",
       "    </tr>\n",
       "  </tbody>\n",
       "</table>\n",
       "</div>"
      ],
      "text/plain": [
       "        age RevolvingUtilizationOfUnsecuredLines DebtRatio MonthlyIncome  \\\n",
       "0 -0.278955                             2.199833  0.037217     -0.239426   \n",
       "1  1.007470                             0.665610  0.037217     -0.239426   \n",
       "2 -0.278955                            -2.030767 -0.388177     -0.239426   \n",
       "3  1.007470                             2.199833 -0.388177     -0.239426   \n",
       "4 -0.278955                            -1.073818 -0.388177      0.232590   \n",
       "\n",
       "  NumberOfOpenCreditLinesAndLoans NumberOfTime30-59DaysPastDueNotWorse  \\\n",
       "0                       -0.054617                             0.352034   \n",
       "1                       -0.054617                             0.352034   \n",
       "2                       -0.054617                            -0.870281   \n",
       "3                        0.124635                             0.352034   \n",
       "4                        0.124635                             0.352034   \n",
       "\n",
       "  NumberOfTimes90DaysLate NumberRealEstateLoansOrLines  \\\n",
       "0                0.237033                    -0.391810   \n",
       "1                0.237033                    -0.391810   \n",
       "2               -1.760884                    -0.391810   \n",
       "3                0.237033                     0.616967   \n",
       "4                0.237033                     0.616967   \n",
       "\n",
       "  NumberOfTime60-89DaysPastDueNotWorse NumberOfDependents  \n",
       "0                             0.124837           0.628970  \n",
       "1                             0.124837           0.628970  \n",
       "2                            -1.772896          -0.479332  \n",
       "3                             0.124837           0.628970  \n",
       "4                             0.124837          -0.580359  "
      ]
     },
     "execution_count": 78,
     "metadata": {},
     "output_type": "execute_result"
    }
   ],
   "source": [
    "model_woe.head()"
   ]
  },
  {
   "cell_type": "code",
   "execution_count": 79,
   "metadata": {},
   "outputs": [],
   "source": [
    "# 将标签补充到数据中\n",
    "model_woe[\"SeriousDlqin2yrs\"] = model_data[\"SeriousDlqin2yrs\"]"
   ]
  },
  {
   "cell_type": "code",
   "execution_count": 80,
   "metadata": {},
   "outputs": [
    {
     "data": {
      "text/html": [
       "<div>\n",
       "<style scoped>\n",
       "    .dataframe tbody tr th:only-of-type {\n",
       "        vertical-align: middle;\n",
       "    }\n",
       "\n",
       "    .dataframe tbody tr th {\n",
       "        vertical-align: top;\n",
       "    }\n",
       "\n",
       "    .dataframe thead th {\n",
       "        text-align: right;\n",
       "    }\n",
       "</style>\n",
       "<table border=\"1\" class=\"dataframe\">\n",
       "  <thead>\n",
       "    <tr style=\"text-align: right;\">\n",
       "      <th></th>\n",
       "      <th>age</th>\n",
       "      <th>RevolvingUtilizationOfUnsecuredLines</th>\n",
       "      <th>DebtRatio</th>\n",
       "      <th>MonthlyIncome</th>\n",
       "      <th>NumberOfOpenCreditLinesAndLoans</th>\n",
       "      <th>NumberOfTime30-59DaysPastDueNotWorse</th>\n",
       "      <th>NumberOfTimes90DaysLate</th>\n",
       "      <th>NumberRealEstateLoansOrLines</th>\n",
       "      <th>NumberOfTime60-89DaysPastDueNotWorse</th>\n",
       "      <th>NumberOfDependents</th>\n",
       "      <th>SeriousDlqin2yrs</th>\n",
       "    </tr>\n",
       "  </thead>\n",
       "  <tbody>\n",
       "    <tr>\n",
       "      <th>0</th>\n",
       "      <td>-0.278955</td>\n",
       "      <td>2.199833</td>\n",
       "      <td>0.037217</td>\n",
       "      <td>-0.239426</td>\n",
       "      <td>-0.054617</td>\n",
       "      <td>0.352034</td>\n",
       "      <td>0.237033</td>\n",
       "      <td>-0.391810</td>\n",
       "      <td>0.124837</td>\n",
       "      <td>0.628970</td>\n",
       "      <td>0</td>\n",
       "    </tr>\n",
       "    <tr>\n",
       "      <th>1</th>\n",
       "      <td>1.007470</td>\n",
       "      <td>0.665610</td>\n",
       "      <td>0.037217</td>\n",
       "      <td>-0.239426</td>\n",
       "      <td>-0.054617</td>\n",
       "      <td>0.352034</td>\n",
       "      <td>0.237033</td>\n",
       "      <td>-0.391810</td>\n",
       "      <td>0.124837</td>\n",
       "      <td>0.628970</td>\n",
       "      <td>0</td>\n",
       "    </tr>\n",
       "    <tr>\n",
       "      <th>2</th>\n",
       "      <td>-0.278955</td>\n",
       "      <td>-2.030767</td>\n",
       "      <td>-0.388177</td>\n",
       "      <td>-0.239426</td>\n",
       "      <td>-0.054617</td>\n",
       "      <td>-0.870281</td>\n",
       "      <td>-1.760884</td>\n",
       "      <td>-0.391810</td>\n",
       "      <td>-1.772896</td>\n",
       "      <td>-0.479332</td>\n",
       "      <td>1</td>\n",
       "    </tr>\n",
       "    <tr>\n",
       "      <th>3</th>\n",
       "      <td>1.007470</td>\n",
       "      <td>2.199833</td>\n",
       "      <td>-0.388177</td>\n",
       "      <td>-0.239426</td>\n",
       "      <td>0.124635</td>\n",
       "      <td>0.352034</td>\n",
       "      <td>0.237033</td>\n",
       "      <td>0.616967</td>\n",
       "      <td>0.124837</td>\n",
       "      <td>0.628970</td>\n",
       "      <td>0</td>\n",
       "    </tr>\n",
       "    <tr>\n",
       "      <th>4</th>\n",
       "      <td>-0.278955</td>\n",
       "      <td>-1.073818</td>\n",
       "      <td>-0.388177</td>\n",
       "      <td>0.232590</td>\n",
       "      <td>0.124635</td>\n",
       "      <td>0.352034</td>\n",
       "      <td>0.237033</td>\n",
       "      <td>0.616967</td>\n",
       "      <td>0.124837</td>\n",
       "      <td>-0.580359</td>\n",
       "      <td>1</td>\n",
       "    </tr>\n",
       "  </tbody>\n",
       "</table>\n",
       "</div>"
      ],
      "text/plain": [
       "        age RevolvingUtilizationOfUnsecuredLines DebtRatio MonthlyIncome  \\\n",
       "0 -0.278955                             2.199833  0.037217     -0.239426   \n",
       "1  1.007470                             0.665610  0.037217     -0.239426   \n",
       "2 -0.278955                            -2.030767 -0.388177     -0.239426   \n",
       "3  1.007470                             2.199833 -0.388177     -0.239426   \n",
       "4 -0.278955                            -1.073818 -0.388177      0.232590   \n",
       "\n",
       "  NumberOfOpenCreditLinesAndLoans NumberOfTime30-59DaysPastDueNotWorse  \\\n",
       "0                       -0.054617                             0.352034   \n",
       "1                       -0.054617                             0.352034   \n",
       "2                       -0.054617                            -0.870281   \n",
       "3                        0.124635                             0.352034   \n",
       "4                        0.124635                             0.352034   \n",
       "\n",
       "  NumberOfTimes90DaysLate NumberRealEstateLoansOrLines  \\\n",
       "0                0.237033                    -0.391810   \n",
       "1                0.237033                    -0.391810   \n",
       "2               -1.760884                    -0.391810   \n",
       "3                0.237033                     0.616967   \n",
       "4                0.237033                     0.616967   \n",
       "\n",
       "  NumberOfTime60-89DaysPastDueNotWorse NumberOfDependents  SeriousDlqin2yrs  \n",
       "0                             0.124837           0.628970                 0  \n",
       "1                             0.124837           0.628970                 0  \n",
       "2                            -1.772896          -0.479332                 1  \n",
       "3                             0.124837           0.628970                 0  \n",
       "4                             0.124837          -0.580359                 1  "
      ]
     },
     "execution_count": 80,
     "metadata": {},
     "output_type": "execute_result"
    }
   ],
   "source": [
    "# 最终的建模数据(特征矩阵)\n",
    "model_woe.head()"
   ]
  },
  {
   "cell_type": "markdown",
   "metadata": {},
   "source": [
    "# 处理测试集\n",
    "# 将已经计算好的 WOE 映射到测试集"
   ]
  },
  {
   "cell_type": "code",
   "execution_count": 81,
   "metadata": {},
   "outputs": [],
   "source": [
    "test_woe = pd.DataFrame(index=test_data.index)\n",
    "\n",
    "for col in bins_of_col:\n",
    "    test_woe[col] = pd.cut(test_data[col], bins_of_col[col]).map(woeall[col])\n",
    "\n",
    "test_woe[\"SeriousDlqin2yrs\"] = test_data[\"SeriousDlqin2yrs\"]"
   ]
  },
  {
   "cell_type": "markdown",
   "metadata": {},
   "source": [
    "# 建模"
   ]
  },
  {
   "cell_type": "code",
   "execution_count": 82,
   "metadata": {},
   "outputs": [],
   "source": [
    "x = model_woe.iloc[:,:-1]\n",
    "y = model_woe.iloc[:,-1]\n",
    "test_x = test_woe.iloc[:,:-1]\n",
    "test_y = test_woe.iloc[:,-1]"
   ]
  },
  {
   "cell_type": "code",
   "execution_count": 83,
   "metadata": {},
   "outputs": [
    {
     "data": {
      "text/plain": [
       "0.77584474011678"
      ]
     },
     "execution_count": 83,
     "metadata": {},
     "output_type": "execute_result"
    }
   ],
   "source": [
    "from sklearn.linear_model import LogisticRegression as LR\n",
    "\n",
    "lr = LR().fit(x, y)\n",
    "lr.score(test_x, test_y)"
   ]
  },
  {
   "cell_type": "markdown",
   "metadata": {},
   "source": [
    "# 用 C 和 max_iter 调参"
   ]
  },
  {
   "cell_type": "code",
   "execution_count": 84,
   "metadata": {},
   "outputs": [],
   "source": [
    "c_1 = np.linspace(0.01, 1, 20)\n",
    "c_2 = np.linspace(0.01, 0.2, 20)"
   ]
  },
  {
   "cell_type": "code",
   "execution_count": 85,
   "metadata": {},
   "outputs": [
    {
     "data": {
      "image/png": "[encoded data removed]",
      "text/plain": [
       "<Figure size 432x288 with 1 Axes>"
      ]
     },
     "metadata": {
      "needs_background": "light"
     },
     "output_type": "display_data"
    }
   ],
   "source": [
    "score = []\n",
    "for i in c_2:\n",
    "    lr = LR(solver=\"liblinear\", C=i).fit(x, y)\n",
    "    score.append(lr.score(test_x, test_y))\n",
    "plt.figure()\n",
    "plt.plot(c_2, score)\n",
    "plt.show()"
   ]
  },
  {
   "cell_type": "code",
   "execution_count": 86,
   "metadata": {},
   "outputs": [
    {
     "data": {
      "text/plain": [
       "array([5], dtype=int32)"
      ]
     },
     "execution_count": 86,
     "metadata": {},
     "output_type": "execute_result"
    }
   ],
   "source": [
    "lr.n_iter_"
   ]
  },
  {
   "cell_type": "code",
   "execution_count": 87,
   "metadata": {},
   "outputs": [
    {
     "name": "stderr",
     "output_type": "stream",
     "text": [
      "/home/ppp/anaconda3/envs/python-3.6/lib/python3.6/site-packages/sklearn/svm/_base.py:977: ConvergenceWarning: Liblinear failed to converge, increase the number of iterations.\n",
      "  \"the number of iterations.\", ConvergenceWarning)\n",
      "/home/ppp/anaconda3/envs/python-3.6/lib/python3.6/site-packages/sklearn/svm/_base.py:977: ConvergenceWarning: Liblinear failed to converge, increase the number of iterations.\n",
      "  \"the number of iterations.\", ConvergenceWarning)\n",
      "/home/ppp/anaconda3/envs/python-3.6/lib/python3.6/site-packages/sklearn/svm/_base.py:977: ConvergenceWarning: Liblinear failed to converge, increase the number of iterations.\n",
      "  \"the number of iterations.\", ConvergenceWarning)\n",
      "/home/ppp/anaconda3/envs/python-3.6/lib/python3.6/site-packages/sklearn/svm/_base.py:977: ConvergenceWarning: Liblinear failed to converge, increase the number of iterations.\n",
      "  \"the number of iterations.\", ConvergenceWarning)\n",
      "/home/ppp/anaconda3/envs/python-3.6/lib/python3.6/site-packages/sklearn/svm/_base.py:977: ConvergenceWarning: Liblinear failed to converge, increase the number of iterations.\n",
      "  \"the number of iterations.\", ConvergenceWarning)\n"
     ]
    },
    {
     "data": {
      "image/png": "[encoded data removed]",
      "text/plain": [
       "<Figure size 432x288 with 1 Axes>"
      ]
     },
     "metadata": {
      "needs_background": "light"
     },
     "output_type": "display_data"
    }
   ],
   "source": [
    "score = []\n",
    "max_iter_list = range(1, 11)\n",
    "for i in max_iter_list:\n",
    "    lr = LR(solver='liblinear', C=0.025, max_iter=i).fit(x,y)\n",
    "    score.append(lr.score(test_x, test_y))\n",
    "plt.figure()\n",
    "plt.plot(max_iter_list, score)\n",
    "plt.show()"
   ]
  },
  {
   "cell_type": "markdown",
   "metadata": {},
   "source": [
    "# ROC 曲线"
   ]
  },
  {
   "cell_type": "code",
   "execution_count": 88,
   "metadata": {},
   "outputs": [],
   "source": [
    "# pip install scikit-plot\n",
    "import scikitplot as skplt"
   ]
  },
  {
   "cell_type": "code",
   "execution_count": 89,
   "metadata": {},
   "outputs": [
    {
     "data": {
      "text/plain": [
       "<AxesSubplot:title={'center':'ROC Curves'}, xlabel='False Positive Rate', ylabel='True Positive Rate'>"
      ]
     },
     "execution_count": 89,
     "metadata": {},
     "output_type": "execute_result"
    },
    {
     "data": {
      "image/png": "[encoded data removed]",
      "text/plain": [
       "<Figure size 432x432 with 1 Axes>"
      ]
     },
     "metadata": {
      "needs_background": "light"
     },
     "output_type": "display_data"
    }
   ],
   "source": [
    "test_proba_df = pd.DataFrame(lr.predict_proba(test_x))\n",
    "skplt.metrics.plot_roc(test_y, test_proba_df\n",
    "                       ,plot_micro=False\n",
    "                       ,figsize=(6,6)\n",
    "                       ,plot_macro=False\n",
    "                      )"
   ]
  },
  {
   "cell_type": "markdown",
   "metadata": {},
   "source": [
    "# 制作评分卡"
   ]
  },
  {
   "cell_type": "code",
   "execution_count": 90,
   "metadata": {},
   "outputs": [
    {
     "data": {
      "text/plain": [
       "{'RevolvingUtilizationOfUnsecuredLines': cut\n",
       " (-inf, 0.099]     2.199833\n",
       " (0.099, 0.298]    0.665610\n",
       " (0.298, 0.465]   -0.121195\n",
       " (0.465, 0.982]   -1.073818\n",
       " (0.982, 1.0]     -0.482082\n",
       " (1.0, inf]       -2.030767\n",
       " dtype: float64, 'age': cut\n",
       " (-inf, 36.0]   -0.522269\n",
       " (36.0, 54.0]   -0.278955\n",
       " (54.0, 61.0]    0.248096\n",
       " (61.0, 74.0]    1.007470\n",
       " (74.0, inf]     1.715035\n",
       " dtype: float64, 'DebtRatio': cut\n",
       " (-inf, 0.0173]     1.499490\n",
       " (0.0173, 0.402]    0.037217\n",
       " (0.402, 1.474]    -0.388177\n",
       " (1.474, inf]       0.174886\n",
       " dtype: float64, 'MonthlyIncome': cut\n",
       " (-inf, 0.1]        1.451433\n",
       " (0.1, 5588.269]   -0.239426\n",
       " (5588.269, inf]    0.232590\n",
       " dtype: float64, 'NumberOfOpenCreditLinesAndLoans': cut\n",
       " (-inf, 1.0]   -0.857931\n",
       " (1.0, 3.0]    -0.327289\n",
       " (3.0, 5.0]    -0.054617\n",
       " (5.0, 17.0]    0.124635\n",
       " (17.0, inf]    0.464888\n",
       " dtype: float64, 'NumberOfTime30-59DaysPastDueNotWorse': cut\n",
       " (-inf, 0.0]    0.352034\n",
       " (0.0, 1.0]    -0.870281\n",
       " (1.0, 2.0]    -1.378052\n",
       " (2.0, inf]    -1.544502\n",
       " dtype: float64, 'NumberOfTimes90DaysLate': cut\n",
       " (-inf, 0.0]    0.237033\n",
       " (0.0, 1.0]    -1.760884\n",
       " (1.0, 2.0]    -2.264263\n",
       " (2.0, inf]    -2.409075\n",
       " dtype: float64, 'NumberRealEstateLoansOrLines': cut\n",
       " (-inf, 0.0]   -0.391810\n",
       " (0.0, 1.0]     0.191596\n",
       " (1.0, 2.0]     0.616967\n",
       " (2.0, 4.0]     0.387389\n",
       " (4.0, inf]    -0.287286\n",
       " dtype: float64, 'NumberOfTime60-89DaysPastDueNotWorse': cut\n",
       " (-inf, 0.0]    0.124837\n",
       " (0.0, 1.0]    -1.388074\n",
       " (1.0, 2.0]    -1.772896\n",
       " (2.0, inf]    -1.801660\n",
       " dtype: float64, 'NumberOfDependents': cut\n",
       " (-inf, 0.0]    0.628970\n",
       " (0.0, 1.0]    -0.580359\n",
       " (1.0, 2.0]    -0.531219\n",
       " (2.0, inf]    -0.479332\n",
       " dtype: float64}"
      ]
     },
     "execution_count": 90,
     "metadata": {},
     "output_type": "execute_result"
    }
   ],
   "source": [
    "woeall"
   ]
  },
  {
   "cell_type": "code",
   "execution_count": 91,
   "metadata": {},
   "outputs": [
    {
     "data": {
      "text/plain": [
       "(28.85390081777927, 481.8621880878296)"
      ]
     },
     "execution_count": 91,
     "metadata": {},
     "output_type": "execute_result"
    }
   ],
   "source": [
    "B = 20/np.log(2)\n",
    "A = 600 + B*np.log(1/60)\n",
    "B, A"
   ]
  },
  {
   "cell_type": "code",
   "execution_count": 92,
   "metadata": {},
   "outputs": [
    {
     "data": {
      "text/plain": [
       "array([482.01620815])"
      ]
     },
     "execution_count": 92,
     "metadata": {},
     "output_type": "execute_result"
    }
   ],
   "source": [
    "base_score = A - B * lr.intercept_\n",
    "base_score"
   ]
  },
  {
   "cell_type": "code",
   "execution_count": 93,
   "metadata": {},
   "outputs": [
    {
     "data": {
      "text/plain": [
       "array([-0.00533793])"
      ]
     },
     "execution_count": 93,
     "metadata": {},
     "output_type": "execute_result"
    }
   ],
   "source": [
    "lr.intercept_"
   ]
  },
  {
   "cell_type": "code",
   "execution_count": 94,
   "metadata": {},
   "outputs": [
    {
     "data": {
      "text/plain": [
       "cut\n",
       "(-inf, 36.0]    -4.176357\n",
       "(36.0, 54.0]    -2.230683\n",
       "(54.0, 61.0]     1.983914\n",
       "(61.0, 74.0]     8.056298\n",
       "(74.0, inf]     13.714384\n",
       "dtype: float64"
      ]
     },
     "execution_count": 94,
     "metadata": {},
     "output_type": "execute_result"
    }
   ],
   "source": [
    "score_age = woeall[\"age\"] * (-B*lr.coef_[0][0])\n",
    "score_age"
   ]
  },
  {
   "cell_type": "code",
   "execution_count": 95,
   "metadata": {},
   "outputs": [],
   "source": [
    "file = \"ScoreData.csv\""
   ]
  },
  {
   "cell_type": "code",
   "execution_count": 96,
   "metadata": {},
   "outputs": [],
   "source": [
    "with open(file, \"w\") as f:\n",
    "    f.write(\"base_score,{}\\n\".format(base_score))\n",
    "for i, col in enumerate(x.columns):\n",
    "    score = woeall[col] * (-B * lr.coef_[0][i])\n",
    "    score.name = \"Score\"\n",
    "    score.index.name = col\n",
    "    score.to_csv(file, header=True, mode=\"a\")"
   ]
  },
  {
   "cell_type": "code",
   "execution_count": null,
   "metadata": {},
   "outputs": [],
   "source": []
  }
 ],
 "metadata": {
  "kernelspec": {
   "display_name": "Python 3",
   "language": "python",
   "name": "python3"
  },
  "language_info": {
   "codemirror_mode": {
    "name": "ipython",
    "version": 3
   },
   "file_extension": ".py",
   "mimetype": "text/x-python",
   "name": "python",
   "nbconvert_exporter": "python",
   "pygments_lexer": "ipython3",
   "version": "3.6.8"
  }
 },
 "nbformat": 4,
 "nbformat_minor": 4
}
