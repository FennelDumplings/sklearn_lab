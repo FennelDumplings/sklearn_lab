{
 "cells": [
  {
   "cell_type": "code",
   "execution_count": 1,
   "metadata": {},
   "outputs": [],
   "source": [
    "%matplotlib inline\n",
    "\n",
    "import numpy as np\n",
    "import pandas as pd\n",
    "import matplotlib.pyplot as plt\n",
    "from sklearn.datasets import load_boston\n",
    "from sklearn.impute import SimpleImputer\n",
    "from sklearn.ensemble import RandomForestRegressor"
   ]
  },
  {
   "cell_type": "code",
   "execution_count": 2,
   "metadata": {},
   "outputs": [
    {
     "name": "stdout",
     "output_type": "stream",
     "text": [
      "[[6.3200e-03 1.8000e+01 2.3100e+00 0.0000e+00 5.3800e-01 6.5750e+00\n",
      "  6.5200e+01 4.0900e+00 1.0000e+00 2.9600e+02 1.5300e+01 3.9690e+02\n",
      "  4.9800e+00]\n",
      " [2.7310e-02 0.0000e+00 7.0700e+00 0.0000e+00 4.6900e-01 6.4210e+00\n",
      "  7.8900e+01 4.9671e+00 2.0000e+00 2.4200e+02 1.7800e+01 3.9690e+02\n",
      "  9.1400e+00]\n",
      " [2.7290e-02 0.0000e+00 7.0700e+00 0.0000e+00 4.6900e-01 7.1850e+00\n",
      "  6.1100e+01 4.9671e+00 2.0000e+00 2.4200e+02 1.7800e+01 3.9283e+02\n",
      "  4.0300e+00]]\n"
     ]
    }
   ],
   "source": [
    "dataset = load_boston()\n",
    "print(dataset.data[:3])"
   ]
  },
  {
   "cell_type": "code",
   "execution_count": 3,
   "metadata": {},
   "outputs": [
    {
     "name": "stdout",
     "output_type": "stream",
     "text": [
      "(506, 13)\n"
     ]
    }
   ],
   "source": [
    "# 506 * 13 = 6578 个数据\n",
    "print(dataset.data.shape)"
   ]
  },
  {
   "cell_type": "code",
   "execution_count": 4,
   "metadata": {},
   "outputs": [],
   "source": [
    "x_full, y_full = dataset.data, dataset.target\n",
    "n_samples = x_full.shape[0]\n",
    "n_features = x_full.shape[1]"
   ]
  },
  {
   "cell_type": "markdown",
   "metadata": {},
   "source": [
    "# 放入缺失值"
   ]
  },
  {
   "cell_type": "code",
   "execution_count": 5,
   "metadata": {},
   "outputs": [
    {
     "name": "stdout",
     "output_type": "stream",
     "text": [
      "3289\n"
     ]
    }
   ],
   "source": [
    "rng = np.random.RandomState(0)\n",
    "\n",
    "# 缺失值比例\n",
    "# np.floor 下取整, 返回 .0 浮点数\n",
    "missing_rate = 0.5\n",
    "n_missing_samples = int(np.floor(n_samples * n_features * missing_rate))\n",
    "print(n_missing_samples)"
   ]
  },
  {
   "cell_type": "markdown",
   "metadata": {},
   "source": [
    "- 所有数据要随机分布在数据集的各行各列\n",
    "- 一个缺失值需要一个行索引和一个列索引\n",
    "\n",
    "- `rng.randint` 是有重复抽样\n",
    "- `rng.choice(n_samples, n_missing_samples, replace=False)` 随机抽取不重复的随机数"
   ]
  },
  {
   "cell_type": "code",
   "execution_count": 6,
   "metadata": {},
   "outputs": [],
   "source": [
    "missing_features = rng.randint(0, n_features, n_missing_samples)\n",
    "missing_samples = rng.randint(0, n_samples, n_missing_samples)"
   ]
  },
  {
   "cell_type": "code",
   "execution_count": 7,
   "metadata": {},
   "outputs": [
    {
     "data": {
      "text/plain": [
       "(3289, 3289)"
      ]
     },
     "execution_count": 7,
     "metadata": {},
     "output_type": "execute_result"
    }
   ],
   "source": [
    "len(missing_features), len(missing_samples)"
   ]
  },
  {
   "cell_type": "code",
   "execution_count": 8,
   "metadata": {},
   "outputs": [],
   "source": [
    "x_missing = x_full.copy()\n",
    "y_missing = y_full.copy()"
   ]
  },
  {
   "cell_type": "markdown",
   "metadata": {},
   "source": [
    "# 赋缺失值"
   ]
  },
  {
   "cell_type": "code",
   "execution_count": 9,
   "metadata": {},
   "outputs": [],
   "source": [
    "x_missing[missing_samples, missing_features] = np.nan"
   ]
  },
  {
   "cell_type": "code",
   "execution_count": 10,
   "metadata": {},
   "outputs": [
    {
     "data": {
      "text/html": [
       "<div>\n",
       "<style scoped>\n",
       "    .dataframe tbody tr th:only-of-type {\n",
       "        vertical-align: middle;\n",
       "    }\n",
       "\n",
       "    .dataframe tbody tr th {\n",
       "        vertical-align: top;\n",
       "    }\n",
       "\n",
       "    .dataframe thead th {\n",
       "        text-align: right;\n",
       "    }\n",
       "</style>\n",
       "<table border=\"1\" class=\"dataframe\">\n",
       "  <thead>\n",
       "    <tr style=\"text-align: right;\">\n",
       "      <th></th>\n",
       "      <th>0</th>\n",
       "      <th>1</th>\n",
       "      <th>2</th>\n",
       "      <th>3</th>\n",
       "      <th>4</th>\n",
       "      <th>5</th>\n",
       "      <th>6</th>\n",
       "      <th>7</th>\n",
       "      <th>8</th>\n",
       "      <th>9</th>\n",
       "      <th>10</th>\n",
       "      <th>11</th>\n",
       "      <th>12</th>\n",
       "    </tr>\n",
       "  </thead>\n",
       "  <tbody>\n",
       "    <tr>\n",
       "      <th>0</th>\n",
       "      <td>NaN</td>\n",
       "      <td>18.0</td>\n",
       "      <td>NaN</td>\n",
       "      <td>NaN</td>\n",
       "      <td>0.538</td>\n",
       "      <td>NaN</td>\n",
       "      <td>65.2</td>\n",
       "      <td>4.0900</td>\n",
       "      <td>1.0</td>\n",
       "      <td>296.0</td>\n",
       "      <td>NaN</td>\n",
       "      <td>NaN</td>\n",
       "      <td>4.98</td>\n",
       "    </tr>\n",
       "    <tr>\n",
       "      <th>1</th>\n",
       "      <td>0.02731</td>\n",
       "      <td>0.0</td>\n",
       "      <td>NaN</td>\n",
       "      <td>0.0</td>\n",
       "      <td>0.469</td>\n",
       "      <td>NaN</td>\n",
       "      <td>78.9</td>\n",
       "      <td>4.9671</td>\n",
       "      <td>2.0</td>\n",
       "      <td>NaN</td>\n",
       "      <td>NaN</td>\n",
       "      <td>396.90</td>\n",
       "      <td>9.14</td>\n",
       "    </tr>\n",
       "    <tr>\n",
       "      <th>2</th>\n",
       "      <td>0.02729</td>\n",
       "      <td>NaN</td>\n",
       "      <td>7.07</td>\n",
       "      <td>0.0</td>\n",
       "      <td>NaN</td>\n",
       "      <td>7.185</td>\n",
       "      <td>61.1</td>\n",
       "      <td>NaN</td>\n",
       "      <td>2.0</td>\n",
       "      <td>242.0</td>\n",
       "      <td>NaN</td>\n",
       "      <td>NaN</td>\n",
       "      <td>NaN</td>\n",
       "    </tr>\n",
       "    <tr>\n",
       "      <th>3</th>\n",
       "      <td>NaN</td>\n",
       "      <td>NaN</td>\n",
       "      <td>NaN</td>\n",
       "      <td>0.0</td>\n",
       "      <td>0.458</td>\n",
       "      <td>NaN</td>\n",
       "      <td>45.8</td>\n",
       "      <td>NaN</td>\n",
       "      <td>NaN</td>\n",
       "      <td>222.0</td>\n",
       "      <td>18.7</td>\n",
       "      <td>NaN</td>\n",
       "      <td>NaN</td>\n",
       "    </tr>\n",
       "    <tr>\n",
       "      <th>4</th>\n",
       "      <td>NaN</td>\n",
       "      <td>0.0</td>\n",
       "      <td>2.18</td>\n",
       "      <td>0.0</td>\n",
       "      <td>NaN</td>\n",
       "      <td>7.147</td>\n",
       "      <td>NaN</td>\n",
       "      <td>NaN</td>\n",
       "      <td>NaN</td>\n",
       "      <td>NaN</td>\n",
       "      <td>18.7</td>\n",
       "      <td>NaN</td>\n",
       "      <td>5.33</td>\n",
       "    </tr>\n",
       "    <tr>\n",
       "      <th>...</th>\n",
       "      <td>...</td>\n",
       "      <td>...</td>\n",
       "      <td>...</td>\n",
       "      <td>...</td>\n",
       "      <td>...</td>\n",
       "      <td>...</td>\n",
       "      <td>...</td>\n",
       "      <td>...</td>\n",
       "      <td>...</td>\n",
       "      <td>...</td>\n",
       "      <td>...</td>\n",
       "      <td>...</td>\n",
       "      <td>...</td>\n",
       "    </tr>\n",
       "    <tr>\n",
       "      <th>501</th>\n",
       "      <td>NaN</td>\n",
       "      <td>NaN</td>\n",
       "      <td>NaN</td>\n",
       "      <td>0.0</td>\n",
       "      <td>0.573</td>\n",
       "      <td>NaN</td>\n",
       "      <td>69.1</td>\n",
       "      <td>NaN</td>\n",
       "      <td>1.0</td>\n",
       "      <td>NaN</td>\n",
       "      <td>21.0</td>\n",
       "      <td>NaN</td>\n",
       "      <td>9.67</td>\n",
       "    </tr>\n",
       "    <tr>\n",
       "      <th>502</th>\n",
       "      <td>0.04527</td>\n",
       "      <td>0.0</td>\n",
       "      <td>11.93</td>\n",
       "      <td>0.0</td>\n",
       "      <td>0.573</td>\n",
       "      <td>6.120</td>\n",
       "      <td>76.7</td>\n",
       "      <td>2.2875</td>\n",
       "      <td>1.0</td>\n",
       "      <td>273.0</td>\n",
       "      <td>NaN</td>\n",
       "      <td>396.90</td>\n",
       "      <td>9.08</td>\n",
       "    </tr>\n",
       "    <tr>\n",
       "      <th>503</th>\n",
       "      <td>NaN</td>\n",
       "      <td>NaN</td>\n",
       "      <td>11.93</td>\n",
       "      <td>NaN</td>\n",
       "      <td>0.573</td>\n",
       "      <td>6.976</td>\n",
       "      <td>91.0</td>\n",
       "      <td>NaN</td>\n",
       "      <td>NaN</td>\n",
       "      <td>NaN</td>\n",
       "      <td>21.0</td>\n",
       "      <td>NaN</td>\n",
       "      <td>5.64</td>\n",
       "    </tr>\n",
       "    <tr>\n",
       "      <th>504</th>\n",
       "      <td>0.10959</td>\n",
       "      <td>0.0</td>\n",
       "      <td>11.93</td>\n",
       "      <td>NaN</td>\n",
       "      <td>0.573</td>\n",
       "      <td>NaN</td>\n",
       "      <td>89.3</td>\n",
       "      <td>NaN</td>\n",
       "      <td>1.0</td>\n",
       "      <td>NaN</td>\n",
       "      <td>21.0</td>\n",
       "      <td>393.45</td>\n",
       "      <td>6.48</td>\n",
       "    </tr>\n",
       "    <tr>\n",
       "      <th>505</th>\n",
       "      <td>0.04741</td>\n",
       "      <td>0.0</td>\n",
       "      <td>11.93</td>\n",
       "      <td>0.0</td>\n",
       "      <td>0.573</td>\n",
       "      <td>6.030</td>\n",
       "      <td>NaN</td>\n",
       "      <td>NaN</td>\n",
       "      <td>1.0</td>\n",
       "      <td>NaN</td>\n",
       "      <td>NaN</td>\n",
       "      <td>396.90</td>\n",
       "      <td>7.88</td>\n",
       "    </tr>\n",
       "  </tbody>\n",
       "</table>\n",
       "<p>506 rows × 13 columns</p>\n",
       "</div>"
      ],
      "text/plain": [
       "          0     1      2    3      4      5     6       7    8      9     10  \\\n",
       "0        NaN  18.0    NaN  NaN  0.538    NaN  65.2  4.0900  1.0  296.0   NaN   \n",
       "1    0.02731   0.0    NaN  0.0  0.469    NaN  78.9  4.9671  2.0    NaN   NaN   \n",
       "2    0.02729   NaN   7.07  0.0    NaN  7.185  61.1     NaN  2.0  242.0   NaN   \n",
       "3        NaN   NaN    NaN  0.0  0.458    NaN  45.8     NaN  NaN  222.0  18.7   \n",
       "4        NaN   0.0   2.18  0.0    NaN  7.147   NaN     NaN  NaN    NaN  18.7   \n",
       "..       ...   ...    ...  ...    ...    ...   ...     ...  ...    ...   ...   \n",
       "501      NaN   NaN    NaN  0.0  0.573    NaN  69.1     NaN  1.0    NaN  21.0   \n",
       "502  0.04527   0.0  11.93  0.0  0.573  6.120  76.7  2.2875  1.0  273.0   NaN   \n",
       "503      NaN   NaN  11.93  NaN  0.573  6.976  91.0     NaN  NaN    NaN  21.0   \n",
       "504  0.10959   0.0  11.93  NaN  0.573    NaN  89.3     NaN  1.0    NaN  21.0   \n",
       "505  0.04741   0.0  11.93  0.0  0.573  6.030   NaN     NaN  1.0    NaN   NaN   \n",
       "\n",
       "         11    12  \n",
       "0       NaN  4.98  \n",
       "1    396.90  9.14  \n",
       "2       NaN   NaN  \n",
       "3       NaN   NaN  \n",
       "4       NaN  5.33  \n",
       "..      ...   ...  \n",
       "501     NaN  9.67  \n",
       "502  396.90  9.08  \n",
       "503     NaN  5.64  \n",
       "504  393.45  6.48  \n",
       "505  396.90  7.88  \n",
       "\n",
       "[506 rows x 13 columns]"
      ]
     },
     "execution_count": 10,
     "metadata": {},
     "output_type": "execute_result"
    }
   ],
   "source": [
    "pd.DataFrame(x_missing)"
   ]
  },
  {
   "cell_type": "markdown",
   "metadata": {},
   "source": [
    "# 均值填补"
   ]
  },
  {
   "cell_type": "code",
   "execution_count": 11,
   "metadata": {},
   "outputs": [
    {
     "name": "stdout",
     "output_type": "stream",
     "text": [
      "[[3.62757895e+00 1.80000000e+01 1.11634641e+01 6.60066007e-02\n",
      "  5.38000000e-01 6.30592131e+00 6.52000000e+01 4.09000000e+00\n",
      "  1.00000000e+00 2.96000000e+02 1.85211921e+01 3.52741952e+02\n",
      "  4.98000000e+00]\n",
      " [2.73100000e-02 0.00000000e+00 1.11634641e+01 0.00000000e+00\n",
      "  4.69000000e-01 6.30592131e+00 7.89000000e+01 4.96710000e+00\n",
      "  2.00000000e+00 4.05935275e+02 1.85211921e+01 3.96900000e+02\n",
      "  9.14000000e+00]\n",
      " [2.72900000e-02 1.07229508e+01 7.07000000e+00 0.00000000e+00\n",
      "  5.64128289e-01 7.18500000e+00 6.11000000e+01 3.85637087e+00\n",
      "  2.00000000e+00 2.42000000e+02 1.85211921e+01 3.52741952e+02\n",
      "  1.29917666e+01]]\n"
     ]
    }
   ],
   "source": [
    "imp_mean = SimpleImputer(missing_values=np.nan, strategy=\"mean\")\n",
    "x_missing_mean = imp_mean.fit_transform(x_missing)\n",
    "print(x_missing_mean[:3])"
   ]
  },
  {
   "cell_type": "markdown",
   "metadata": {},
   "source": [
    "# 常数值零填补"
   ]
  },
  {
   "cell_type": "code",
   "execution_count": 12,
   "metadata": {},
   "outputs": [],
   "source": [
    "imp_0 = SimpleImputer(missing_values=np.nan, strategy=\"constant\", fill_value=0)\n",
    "x_missing_0 = imp_0.fit_transform(x_missing)"
   ]
  },
  {
   "cell_type": "markdown",
   "metadata": {},
   "source": [
    "# 随机森林填补缺失值\n",
    "- 任何回归都是从特征矩阵中学习，然后求解连续性标签 y 的过程\n",
    "- 回归算法认为特征矩阵和标签之间存在联系，可以从特征预测标签，反过来，也可以从标签预测特征\n",
    "\n",
    "- 对于 N 个特征的数据，特征 T 有缺失值，就把 T 当做标签与其他的 N - 1 个特征和原本的标签组成新的特征矩阵\n",
    "- 对于 T 来说\n",
    "  - 没有缺失的部分就是 YTest，这部分既有特征又有标签\n",
    "  - 有缺失的部分，只有特征没有标签，这是需要预测的部分\n",
    "\n",
    "特征 T 不缺失的值，对应的其它 n - 1 个特征加标签 -> XTrain\n",
    "特征 Y 不缺失的值 -> YTrain\n",
    "\n",
    "特征 T 缺失的值，对应的其它的 n - 1 个特征加标签 -> XTest\n",
    "特征 T 缺失的值，位置，需要预测的 YTest\n",
    "\n",
    "从缺失值数量从小到大遍历特征，填补某个特征时，其它特征中的缺失值先用零代替"
   ]
  },
  {
   "cell_type": "code",
   "execution_count": 13,
   "metadata": {},
   "outputs": [
    {
     "name": "stdout",
     "output_type": "stream",
     "text": [
      "        0     1     2    3      4      5     6       7    8      9   10  \\\n",
      "0      NaN  18.0   NaN  NaN  0.538    NaN  65.2  4.0900  1.0  296.0 NaN   \n",
      "1  0.02731   0.0   NaN  0.0  0.469    NaN  78.9  4.9671  2.0    NaN NaN   \n",
      "2  0.02729   NaN  7.07  0.0    NaN  7.185  61.1     NaN  2.0  242.0 NaN   \n",
      "\n",
      "      11    12  \n",
      "0    NaN  4.98  \n",
      "1  396.9  9.14  \n",
      "2    NaN   NaN  \n"
     ]
    }
   ],
   "source": [
    "x_missing = pd.DataFrame(x_missing)\n",
    "x_missing_reg = x_missing.copy()\n",
    "print(x_missing_reg[:3])"
   ]
  },
  {
   "cell_type": "markdown",
   "metadata": {},
   "source": [
    "- 找出数据集中，缺失值数目从小到大排序的特征顺序\n",
    "- 用 np.argsort 排序 pd 表"
   ]
  },
  {
   "cell_type": "code",
   "execution_count": 14,
   "metadata": {},
   "outputs": [
    {
     "data": {
      "text/plain": [
       "array([ 6, 12,  8,  7,  9,  0,  2,  1,  5,  4,  3, 10, 11])"
      ]
     },
     "execution_count": 14,
     "metadata": {},
     "output_type": "execute_result"
    }
   ],
   "source": [
    "sortindex = np.argsort(x_missing_reg.isnull().sum(axis=0)).values\n",
    "sortindex"
   ]
  },
  {
   "cell_type": "code",
   "execution_count": 15,
   "metadata": {},
   "outputs": [],
   "source": [
    "for i in sortindex:\n",
    "    # 构建新的特征矩阵和新标签\n",
    "    df = x_missing_reg\n",
    "    fillc = df.iloc[:, i] # 新标签\n",
    "    df = pd.concat([df.iloc[:, df.columns != i], pd.DataFrame(y_full)], axis=1) # 新特征    \n",
    "    # 在新特征矩阵中，对含有缺失值的列，用 0 填补\n",
    "    df_0 = SimpleImputer(missing_values=np.nan, strategy=\"constant\", fill_value=0).fit_transform(df)\n",
    "    \n",
    "    # 找出训练集和测试机\n",
    "    YTrain = fillc[fillc.notnull()]\n",
    "    YTest = fillc[fillc.isnull()]\n",
    "    XTrain = df_0[YTrain.index, :]\n",
    "    XTest = df_0[YTest.index, :]\n",
    "    \n",
    "    # 回归\n",
    "    rfc = RandomForestRegressor(n_estimators=100)\n",
    "    rfc = rfc.fit(XTrain, YTrain)\n",
    "    YPredict = rfc.predict(XTest)\n",
    "    \n",
    "    # 填充\n",
    "    x_missing_reg.loc[x_missing_reg.iloc[:, i].isnull(), i] = YPredict"
   ]
  },
  {
   "cell_type": "markdown",
   "metadata": {},
   "source": [
    "# kNN 填缺失值"
   ]
  },
  {
   "cell_type": "markdown",
   "metadata": {},
   "source": [
    "##  使用 `fancyimpute` "
   ]
  },
  {
   "cell_type": "code",
   "execution_count": 16,
   "metadata": {},
   "outputs": [
    {
     "name": "stdout",
     "output_type": "stream",
     "text": [
      "Imputing row 1/506 with 6 missing, elapsed time: 0.066\n",
      "Imputing row 101/506 with 6 missing, elapsed time: 0.075\n",
      "Imputing row 201/506 with 3 missing, elapsed time: 0.083\n",
      "Imputing row 301/506 with 6 missing, elapsed time: 0.094\n",
      "Imputing row 401/506 with 5 missing, elapsed time: 0.101\n",
      "Imputing row 501/506 with 3 missing, elapsed time: 0.110\n"
     ]
    }
   ],
   "source": [
    "from fancyimpute import KNN\n",
    "\n",
    "x_missing_knn = np.array(x_missing.copy()) # 含缺失值的数据\n",
    "\n",
    "x_missing_knn = KNN(k=3).fit_transform(x_missing_knn)"
   ]
  },
  {
   "cell_type": "markdown",
   "metadata": {},
   "source": [
    "# 用填补好的数据进行建模"
   ]
  },
  {
   "cell_type": "code",
   "execution_count": 17,
   "metadata": {},
   "outputs": [],
   "source": [
    "from sklearn.model_selection import cross_val_score\n",
    "\n",
    "X = [x_full, x_missing_0, x_missing_mean, x_missing_reg, x_missing_knn]\n",
    "\n",
    "mse = []\n",
    "std = []\n",
    "\n",
    "for x in X:\n",
    "    estimator = RandomForestRegressor(random_state=0, n_estimators=100)\n",
    "    scores = cross_val_score(estimator, x, y_full, scoring=\"neg_mean_squared_error\", cv=5).mean()\n",
    "    mse.append(scores * -1)"
   ]
  },
  {
   "cell_type": "code",
   "execution_count": 18,
   "metadata": {},
   "outputs": [
    {
     "data": {
      "text/plain": [
       "[('Full data', 21.571667100368845),\n",
       " ('Zero Imputation', 49.626793201980185),\n",
       " ('Mean Imputation', 40.848037216676374),\n",
       " ('Regressor Imputation', 19.065235040438743),\n",
       " ('KNN Imputation', 40.61141850062124)]"
      ]
     },
     "execution_count": 18,
     "metadata": {},
     "output_type": "execute_result"
    }
   ],
   "source": [
    "x_labels = [\"Full data\"\n",
    "            ,\"Zero Imputation\"\n",
    "            ,\"Mean Imputation\"\n",
    "            ,\"Regressor Imputation\"\n",
    "            ,\"KNN Imputation\"\n",
    "           ]\n",
    "[*zip(x_labels, mse)]"
   ]
  },
  {
   "cell_type": "code",
   "execution_count": 19,
   "metadata": {},
   "outputs": [
    {
     "data": {
      "image/png": "[encoded data removed]",
      "text/plain": [
       "<Figure size 864x432 with 1 Axes>"
      ]
     },
     "metadata": {
      "needs_background": "light"
     },
     "output_type": "display_data"
    }
   ],
   "source": [
    "colors = ['r', 'g', 'b', 'orange', \"pink\"]\n",
    "\n",
    "plt.figure(figsize=(12, 6)) # 画出画布\n",
    "ax = plt.subplot(111) # 添加子图 (第一行第一列第一个表)\n",
    "for i in np.arange(len(mse)):\n",
    "    # 条形图： barh 是横过来的\n",
    "    ax.barh(i, mse[i], color=colors[i], alpha=0.6, align=\"center\")\n",
    "ax.set_title(\"Imputation Techniques with boston Data\")\n",
    "ax.set_xlim(left=np.min(mse) * 0.9,\n",
    "           right=np.max(mse) * 1.1) # x 的刻度\n",
    "ax.set_yticks(np.arange(len(mse))) # y 的刻度\n",
    "ax.set_xlabel(\"MSE\")\n",
    "ax.set_yticklabels(x_labels)\n",
    "plt.show()"
   ]
  },
  {
   "cell_type": "code",
   "execution_count": null,
   "metadata": {},
   "outputs": [],
   "source": []
  }
 ],
 "metadata": {
  "kernelspec": {
   "display_name": "Python 3",
   "language": "python",
   "name": "python3"
  },
  "language_info": {
   "codemirror_mode": {
    "name": "ipython",
    "version": 3
   },
   "file_extension": ".py",
   "mimetype": "text/x-python",
   "name": "python",
   "nbconvert_exporter": "python",
   "pygments_lexer": "ipython3",
   "version": "3.6.8"
  }
 },
 "nbformat": 4,
 "nbformat_minor": 4
}
