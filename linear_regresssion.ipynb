{
 "cells": [
  {
   "cell_type": "code",
   "execution_count": 1,
   "metadata": {},
   "outputs": [
    {
     "name": "stderr",
     "output_type": "stream",
     "text": [
      "/home/ppp/anaconda3/envs/python-3.6/lib/python3.6/importlib/_bootstrap.py:219: RuntimeWarning: numpy.ufunc size changed, may indicate binary incompatibility. Expected 192 from C header, got 216 from PyObject\n",
      "  return f(*args, **kwds)\n"
     ]
    }
   ],
   "source": [
    "from sklearn.linear_model import LinearRegression as LR\n",
    "from sklearn.model_selection import train_test_split\n",
    "from sklearn.model_selection import cross_val_score\n",
    "from sklearn.datasets import fetch_california_housing as fsh\n",
    "import pandas as pd"
   ]
  },
  {
   "cell_type": "markdown",
   "metadata": {},
   "source": [
    "# 加利福尼亚房屋价值"
   ]
  },
  {
   "cell_type": "code",
   "execution_count": 3,
   "metadata": {},
   "outputs": [],
   "source": [
    "housevalue = fsh()"
   ]
  },
  {
   "cell_type": "code",
   "execution_count": 4,
   "metadata": {},
   "outputs": [],
   "source": [
    "X = pd.DataFrame(housevalue.data)"
   ]
  },
  {
   "cell_type": "code",
   "execution_count": 6,
   "metadata": {},
   "outputs": [
    {
     "data": {
      "text/html": [
       "<div>\n",
       "<style scoped>\n",
       "    .dataframe tbody tr th:only-of-type {\n",
       "        vertical-align: middle;\n",
       "    }\n",
       "\n",
       "    .dataframe tbody tr th {\n",
       "        vertical-align: top;\n",
       "    }\n",
       "\n",
       "    .dataframe thead th {\n",
       "        text-align: right;\n",
       "    }\n",
       "</style>\n",
       "<table border=\"1\" class=\"dataframe\">\n",
       "  <thead>\n",
       "    <tr style=\"text-align: right;\">\n",
       "      <th></th>\n",
       "      <th>0</th>\n",
       "      <th>1</th>\n",
       "      <th>2</th>\n",
       "      <th>3</th>\n",
       "      <th>4</th>\n",
       "      <th>5</th>\n",
       "      <th>6</th>\n",
       "      <th>7</th>\n",
       "    </tr>\n",
       "  </thead>\n",
       "  <tbody>\n",
       "    <tr>\n",
       "      <th>0</th>\n",
       "      <td>8.3252</td>\n",
       "      <td>41.0</td>\n",
       "      <td>6.984127</td>\n",
       "      <td>1.023810</td>\n",
       "      <td>322.0</td>\n",
       "      <td>2.555556</td>\n",
       "      <td>37.88</td>\n",
       "      <td>-122.23</td>\n",
       "    </tr>\n",
       "    <tr>\n",
       "      <th>1</th>\n",
       "      <td>8.3014</td>\n",
       "      <td>21.0</td>\n",
       "      <td>6.238137</td>\n",
       "      <td>0.971880</td>\n",
       "      <td>2401.0</td>\n",
       "      <td>2.109842</td>\n",
       "      <td>37.86</td>\n",
       "      <td>-122.22</td>\n",
       "    </tr>\n",
       "    <tr>\n",
       "      <th>2</th>\n",
       "      <td>7.2574</td>\n",
       "      <td>52.0</td>\n",
       "      <td>8.288136</td>\n",
       "      <td>1.073446</td>\n",
       "      <td>496.0</td>\n",
       "      <td>2.802260</td>\n",
       "      <td>37.85</td>\n",
       "      <td>-122.24</td>\n",
       "    </tr>\n",
       "    <tr>\n",
       "      <th>3</th>\n",
       "      <td>5.6431</td>\n",
       "      <td>52.0</td>\n",
       "      <td>5.817352</td>\n",
       "      <td>1.073059</td>\n",
       "      <td>558.0</td>\n",
       "      <td>2.547945</td>\n",
       "      <td>37.85</td>\n",
       "      <td>-122.25</td>\n",
       "    </tr>\n",
       "    <tr>\n",
       "      <th>4</th>\n",
       "      <td>3.8462</td>\n",
       "      <td>52.0</td>\n",
       "      <td>6.281853</td>\n",
       "      <td>1.081081</td>\n",
       "      <td>565.0</td>\n",
       "      <td>2.181467</td>\n",
       "      <td>37.85</td>\n",
       "      <td>-122.25</td>\n",
       "    </tr>\n",
       "  </tbody>\n",
       "</table>\n",
       "</div>"
      ],
      "text/plain": [
       "        0     1         2         3       4         5      6       7\n",
       "0  8.3252  41.0  6.984127  1.023810   322.0  2.555556  37.88 -122.23\n",
       "1  8.3014  21.0  6.238137  0.971880  2401.0  2.109842  37.86 -122.22\n",
       "2  7.2574  52.0  8.288136  1.073446   496.0  2.802260  37.85 -122.24\n",
       "3  5.6431  52.0  5.817352  1.073059   558.0  2.547945  37.85 -122.25\n",
       "4  3.8462  52.0  6.281853  1.081081   565.0  2.181467  37.85 -122.25"
      ]
     },
     "execution_count": 6,
     "metadata": {},
     "output_type": "execute_result"
    }
   ],
   "source": [
    "X.head()"
   ]
  },
  {
   "cell_type": "code",
   "execution_count": 7,
   "metadata": {},
   "outputs": [],
   "source": [
    "y = housevalue.target"
   ]
  },
  {
   "cell_type": "code",
   "execution_count": 8,
   "metadata": {},
   "outputs": [
    {
     "data": {
      "text/plain": [
       "array([4.526, 3.585, 3.521, ..., 0.923, 0.847, 0.894])"
      ]
     },
     "execution_count": 8,
     "metadata": {},
     "output_type": "execute_result"
    }
   ],
   "source": [
    "y"
   ]
  },
  {
   "cell_type": "code",
   "execution_count": 9,
   "metadata": {},
   "outputs": [
    {
     "data": {
      "text/plain": [
       "['MedInc',\n",
       " 'HouseAge',\n",
       " 'AveRooms',\n",
       " 'AveBedrms',\n",
       " 'Population',\n",
       " 'AveOccup',\n",
       " 'Latitude',\n",
       " 'Longitude']"
      ]
     },
     "execution_count": 9,
     "metadata": {},
     "output_type": "execute_result"
    }
   ],
   "source": [
    "housevalue.feature_names"
   ]
  },
  {
   "cell_type": "code",
   "execution_count": 10,
   "metadata": {},
   "outputs": [],
   "source": [
    "X.columns = housevalue.feature_names"
   ]
  },
  {
   "cell_type": "code",
   "execution_count": 15,
   "metadata": {},
   "outputs": [
    {
     "data": {
      "text/plain": [
       "(20640, 8)"
      ]
     },
     "execution_count": 15,
     "metadata": {},
     "output_type": "execute_result"
    }
   ],
   "source": [
    "housevalue.data.shape"
   ]
  },
  {
   "cell_type": "code",
   "execution_count": 11,
   "metadata": {},
   "outputs": [
    {
     "data": {
      "text/html": [
       "<div>\n",
       "<style scoped>\n",
       "    .dataframe tbody tr th:only-of-type {\n",
       "        vertical-align: middle;\n",
       "    }\n",
       "\n",
       "    .dataframe tbody tr th {\n",
       "        vertical-align: top;\n",
       "    }\n",
       "\n",
       "    .dataframe thead th {\n",
       "        text-align: right;\n",
       "    }\n",
       "</style>\n",
       "<table border=\"1\" class=\"dataframe\">\n",
       "  <thead>\n",
       "    <tr style=\"text-align: right;\">\n",
       "      <th></th>\n",
       "      <th>MedInc</th>\n",
       "      <th>HouseAge</th>\n",
       "      <th>AveRooms</th>\n",
       "      <th>AveBedrms</th>\n",
       "      <th>Population</th>\n",
       "      <th>AveOccup</th>\n",
       "      <th>Latitude</th>\n",
       "      <th>Longitude</th>\n",
       "    </tr>\n",
       "  </thead>\n",
       "  <tbody>\n",
       "    <tr>\n",
       "      <th>0</th>\n",
       "      <td>8.3252</td>\n",
       "      <td>41.0</td>\n",
       "      <td>6.984127</td>\n",
       "      <td>1.023810</td>\n",
       "      <td>322.0</td>\n",
       "      <td>2.555556</td>\n",
       "      <td>37.88</td>\n",
       "      <td>-122.23</td>\n",
       "    </tr>\n",
       "    <tr>\n",
       "      <th>1</th>\n",
       "      <td>8.3014</td>\n",
       "      <td>21.0</td>\n",
       "      <td>6.238137</td>\n",
       "      <td>0.971880</td>\n",
       "      <td>2401.0</td>\n",
       "      <td>2.109842</td>\n",
       "      <td>37.86</td>\n",
       "      <td>-122.22</td>\n",
       "    </tr>\n",
       "    <tr>\n",
       "      <th>2</th>\n",
       "      <td>7.2574</td>\n",
       "      <td>52.0</td>\n",
       "      <td>8.288136</td>\n",
       "      <td>1.073446</td>\n",
       "      <td>496.0</td>\n",
       "      <td>2.802260</td>\n",
       "      <td>37.85</td>\n",
       "      <td>-122.24</td>\n",
       "    </tr>\n",
       "    <tr>\n",
       "      <th>3</th>\n",
       "      <td>5.6431</td>\n",
       "      <td>52.0</td>\n",
       "      <td>5.817352</td>\n",
       "      <td>1.073059</td>\n",
       "      <td>558.0</td>\n",
       "      <td>2.547945</td>\n",
       "      <td>37.85</td>\n",
       "      <td>-122.25</td>\n",
       "    </tr>\n",
       "    <tr>\n",
       "      <th>4</th>\n",
       "      <td>3.8462</td>\n",
       "      <td>52.0</td>\n",
       "      <td>6.281853</td>\n",
       "      <td>1.081081</td>\n",
       "      <td>565.0</td>\n",
       "      <td>2.181467</td>\n",
       "      <td>37.85</td>\n",
       "      <td>-122.25</td>\n",
       "    </tr>\n",
       "  </tbody>\n",
       "</table>\n",
       "</div>"
      ],
      "text/plain": [
       "   MedInc  HouseAge  AveRooms  AveBedrms  Population  AveOccup  Latitude  \\\n",
       "0  8.3252      41.0  6.984127   1.023810       322.0  2.555556     37.88   \n",
       "1  8.3014      21.0  6.238137   0.971880      2401.0  2.109842     37.86   \n",
       "2  7.2574      52.0  8.288136   1.073446       496.0  2.802260     37.85   \n",
       "3  5.6431      52.0  5.817352   1.073059       558.0  2.547945     37.85   \n",
       "4  3.8462      52.0  6.281853   1.081081       565.0  2.181467     37.85   \n",
       "\n",
       "   Longitude  \n",
       "0    -122.23  \n",
       "1    -122.22  \n",
       "2    -122.24  \n",
       "3    -122.25  \n",
       "4    -122.25  "
      ]
     },
     "execution_count": 11,
     "metadata": {},
     "output_type": "execute_result"
    }
   ],
   "source": [
    "X.head()"
   ]
  },
  {
   "cell_type": "code",
   "execution_count": 12,
   "metadata": {},
   "outputs": [],
   "source": [
    "Xtrain, Xtest, Ytrain, Ytest = train_test_split(X, y, test_size=0.3, random_state=420)"
   ]
  },
  {
   "cell_type": "code",
   "execution_count": 13,
   "metadata": {},
   "outputs": [],
   "source": [
    "# 分集合有随机，这里恢复索引\n",
    "\n",
    "for i in [Xtrain, Xtest]:\n",
    "    i.index = range(i.shape[0])"
   ]
  },
  {
   "cell_type": "code",
   "execution_count": 14,
   "metadata": {},
   "outputs": [
    {
     "data": {
      "text/plain": [
       "(20640, 8)"
      ]
     },
     "execution_count": 14,
     "metadata": {},
     "output_type": "execute_result"
    }
   ],
   "source": [
    "X.shape"
   ]
  },
  {
   "cell_type": "code",
   "execution_count": 16,
   "metadata": {},
   "outputs": [
    {
     "data": {
      "text/plain": [
       "(14448, 8)"
      ]
     },
     "execution_count": 16,
     "metadata": {},
     "output_type": "execute_result"
    }
   ],
   "source": [
    "Xtrain.shape"
   ]
  },
  {
   "cell_type": "code",
   "execution_count": 17,
   "metadata": {},
   "outputs": [],
   "source": [
    "# 建模\n",
    "\n",
    "reg = LR().fit(Xtrain, Ytrain)"
   ]
  },
  {
   "cell_type": "code",
   "execution_count": 18,
   "metadata": {},
   "outputs": [],
   "source": [
    "yhat = reg.predict(Xtest)"
   ]
  },
  {
   "cell_type": "code",
   "execution_count": 19,
   "metadata": {},
   "outputs": [
    {
     "data": {
      "text/plain": [
       "array([1.51384887, 0.46566247, 2.2567733 , ..., 2.11885803, 1.76968187,\n",
       "       0.73219077])"
      ]
     },
     "execution_count": 19,
     "metadata": {},
     "output_type": "execute_result"
    }
   ],
   "source": [
    "yhat"
   ]
  },
  {
   "cell_type": "code",
   "execution_count": 20,
   "metadata": {},
   "outputs": [
    {
     "data": {
      "text/plain": [
       "array([ 4.37358931e-01,  1.02112683e-02, -1.07807216e-01,  6.26433828e-01,\n",
       "        5.21612535e-07, -3.34850965e-03, -4.13095938e-01, -4.26210954e-01])"
      ]
     },
     "execution_count": 20,
     "metadata": {},
     "output_type": "execute_result"
    }
   ],
   "source": [
    "# 训好的模型的属性\n",
    "\n",
    "reg.coef_"
   ]
  },
  {
   "cell_type": "code",
   "execution_count": 21,
   "metadata": {},
   "outputs": [
    {
     "data": {
      "text/plain": [
       "[('MedInc', 0.4373589305968406),\n",
       " ('HouseAge', 0.010211268294493916),\n",
       " ('AveRooms', -0.1078072161731777),\n",
       " ('AveBedrms', 0.6264338275363787),\n",
       " ('Population', 5.216125353122233e-07),\n",
       " ('AveOccup', -0.003348509646333547),\n",
       " ('Latitude', -0.41309593789477145),\n",
       " ('Longitude', -0.4262109536208467)]"
      ]
     },
     "execution_count": 21,
     "metadata": {},
     "output_type": "execute_result"
    }
   ],
   "source": [
    "[*zip(Xtrain.columns, reg.coef_)]"
   ]
  },
  {
   "cell_type": "markdown",
   "metadata": {},
   "source": [
    "# 线性回归的评估"
   ]
  },
  {
   "cell_type": "code",
   "execution_count": 23,
   "metadata": {},
   "outputs": [],
   "source": [
    "# 模型评估\n",
    "\n",
    "from sklearn.metrics import mean_squared_error as MSE"
   ]
  },
  {
   "cell_type": "code",
   "execution_count": 24,
   "metadata": {},
   "outputs": [
    {
     "data": {
      "text/plain": [
       "0.5309012639324571"
      ]
     },
     "execution_count": 24,
     "metadata": {},
     "output_type": "execute_result"
    }
   ],
   "source": [
    "MSE(yhat, Ytest)"
   ]
  },
  {
   "cell_type": "code",
   "execution_count": 25,
   "metadata": {},
   "outputs": [
    {
     "data": {
      "text/plain": [
       "5.00001"
      ]
     },
     "execution_count": 25,
     "metadata": {},
     "output_type": "execute_result"
    }
   ],
   "source": [
    "y.max()"
   ]
  },
  {
   "cell_type": "code",
   "execution_count": 26,
   "metadata": {},
   "outputs": [
    {
     "data": {
      "text/plain": [
       "0.14999"
      ]
     },
     "execution_count": 26,
     "metadata": {},
     "output_type": "execute_result"
    }
   ],
   "source": [
    "y.min()"
   ]
  },
  {
   "cell_type": "code",
   "execution_count": 30,
   "metadata": {},
   "outputs": [
    {
     "data": {
      "text/plain": [
       "array([-0.48922052, -0.43335865, -0.8864377 , -0.39091641, -0.7479731 ,\n",
       "       -0.52980278, -0.28798456, -0.77326441, -0.64305557, -0.3275106 ])"
      ]
     },
     "execution_count": 30,
     "metadata": {},
     "output_type": "execute_result"
    }
   ],
   "source": [
    "# 在决策树和随机森林中都提到过,虽然均方误差永远为正,但是sklearn中的参数scoring下,均方误差作为评判\n",
    "# 标准时,却是计算”负均方误差“(neg_mean_squared_error)。\n",
    "cross_val_score(reg, X, y, cv=10, scoring=\"neg_mean_squared_error\")"
   ]
  },
  {
   "cell_type": "code",
   "execution_count": 31,
   "metadata": {},
   "outputs": [],
   "source": [
    "from sklearn.metrics import r2_score"
   ]
  },
  {
   "cell_type": "code",
   "execution_count": 32,
   "metadata": {},
   "outputs": [
    {
     "data": {
      "text/plain": [
       "0.6043668160178817"
      ]
     },
     "execution_count": 32,
     "metadata": {},
     "output_type": "execute_result"
    }
   ],
   "source": [
    "r2_score(Ytest, yhat)"
   ]
  },
  {
   "cell_type": "code",
   "execution_count": 33,
   "metadata": {},
   "outputs": [
    {
     "data": {
      "text/plain": [
       "0.5110068610524541"
      ]
     },
     "execution_count": 33,
     "metadata": {},
     "output_type": "execute_result"
    }
   ],
   "source": [
    "cross_val_score(reg, X, y, cv=10, scoring=\"r2\").mean()"
   ]
  },
  {
   "cell_type": "code",
   "execution_count": 34,
   "metadata": {},
   "outputs": [
    {
     "data": {
      "text/plain": [
       "0.6043668160178817"
      ]
     },
     "execution_count": 34,
     "metadata": {},
     "output_type": "execute_result"
    }
   ],
   "source": [
    "reg.score(Xtest, Ytest)"
   ]
  },
  {
   "cell_type": "code",
   "execution_count": 35,
   "metadata": {},
   "outputs": [
    {
     "data": {
      "text/plain": [
       "0.6043668160178817"
      ]
     },
     "execution_count": 35,
     "metadata": {},
     "output_type": "execute_result"
    }
   ],
   "source": [
    "r2_score(Ytest, yhat)"
   ]
  },
  {
   "cell_type": "code",
   "execution_count": 36,
   "metadata": {},
   "outputs": [],
   "source": [
    "%matplotlib inline"
   ]
  },
  {
   "cell_type": "code",
   "execution_count": 38,
   "metadata": {},
   "outputs": [],
   "source": [
    "import numpy as np\n",
    "import matplotlib.pyplot as plt"
   ]
  },
  {
   "cell_type": "code",
   "execution_count": 42,
   "metadata": {},
   "outputs": [
    {
     "data": {
      "image/png": "[encoded data removed]",
      "text/plain": [
       "<Figure size 432x288 with 1 Axes>"
      ]
     },
     "metadata": {
      "needs_background": "light"
     },
     "output_type": "display_data"
    }
   ],
   "source": [
    "plt.plot(range(len(Ytest)), sorted(Ytest), c=\"black\", label=\"Data\")\n",
    "plt.plot(range(len(yhat)), sorted(yhat), c=\"red\", label=\"Predict\")\n",
    "plt.legend()\n",
    "plt.show()"
   ]
  },
  {
   "cell_type": "code",
   "execution_count": 43,
   "metadata": {},
   "outputs": [
    {
     "data": {
      "text/plain": [
       "array([-178.77729125,   -5.71277525,  -15.16746093,  -77.01587303,\n",
       "        -66.04337804])"
      ]
     },
     "execution_count": 43,
     "metadata": {},
     "output_type": "execute_result"
    }
   ],
   "source": [
    "rng = np.random.RandomState(42)\n",
    "X = rng.randn(100, 80)\n",
    "y = rng.randn(100)\n",
    "cross_val_score(LR(), X, y, cv=5, scoring=\"r2\")"
   ]
  },
  {
   "cell_type": "markdown",
   "metadata": {},
   "source": [
    "# 处理多重共线性 \n",
    "\n",
    "- 岭回归\n",
    "- LASSO"
   ]
  },
  {
   "cell_type": "code",
   "execution_count": 44,
   "metadata": {},
   "outputs": [],
   "source": [
    "from sklearn.linear_model import Ridge, Lasso"
   ]
  },
  {
   "cell_type": "code",
   "execution_count": 50,
   "metadata": {},
   "outputs": [],
   "source": [
    "X = pd.DataFrame(housevalue.data)\n",
    "y = housevalue.target\n",
    "X.columns = housevalue.feature_names\n",
    "Xtrain, Xtest, Ytrain, Ytest = train_test_split(X, y, test_size=0.3, random_state=420)\n",
    "for i in [Xtrain, Xtest]:\n",
    "    i.index = range(i.shape[0])"
   ]
  },
  {
   "cell_type": "code",
   "execution_count": 51,
   "metadata": {},
   "outputs": [],
   "source": [
    "reg_ridge = Ridge(alpha=1).fit(Xtrain, Ytrain)"
   ]
  },
  {
   "cell_type": "code",
   "execution_count": 52,
   "metadata": {},
   "outputs": [
    {
     "data": {
      "text/plain": [
       "0.6043610352312279"
      ]
     },
     "execution_count": 52,
     "metadata": {},
     "output_type": "execute_result"
    }
   ],
   "source": [
    "# 与线性回归一样\n",
    "reg_ridge.score(Xtest, Ytest)"
   ]
  },
  {
   "cell_type": "code",
   "execution_count": 53,
   "metadata": {},
   "outputs": [
    {
     "data": {
      "image/png": "[encoded data removed]",
      "text/plain": [
       "<Figure size 432x288 with 1 Axes>"
      ]
     },
     "metadata": {
      "needs_background": "light"
     },
     "output_type": "display_data"
    }
   ],
   "source": [
    "# 交叉验证，与线性回归相比，岭回归的结果如何变化\n",
    "\n",
    "alpharange = np.arange(1, 1001, 100)\n",
    "ridge, lr = [], []\n",
    "\n",
    "for alpha in alpharange:\n",
    "    reg_ridge = Ridge(alpha=alpha)\n",
    "    reg_linear = LR()\n",
    "    reg_ridge_score = cross_val_score(reg_ridge, X, y, cv=5, scoring=\"r2\").mean()\n",
    "    reg_linear_score = cross_val_score(reg_linear, X, y, cv=5, scoring=\"r2\").mean()\n",
    "    ridge.append(reg_ridge_score)\n",
    "    lr.append(reg_linear_score)\n",
    "\n",
    "plt.plot(alpharange, ridge, color=\"red\", label=\"Ridge\")\n",
    "plt.plot(alpharange, lr, color=\"orange\", label=\"LR\")\n",
    "plt.title(\"Mean\")\n",
    "plt.legend()\n",
    "plt.show()\n",
    "    "
   ]
  },
  {
   "cell_type": "code",
   "execution_count": 54,
   "metadata": {},
   "outputs": [
    {
     "data": {
      "image/png": "[encoded data removed]",
      "text/plain": [
       "<Figure size 432x288 with 1 Axes>"
      ]
     },
     "metadata": {
      "needs_background": "light"
     },
     "output_type": "display_data"
    }
   ],
   "source": [
    "# 细粒度\n",
    "\n",
    "alpharange = np.arange(1,201,10)\n",
    "\n",
    "ridge, lr = [], []\n",
    "\n",
    "for alpha in alpharange:\n",
    "    reg_ridge = Ridge(alpha=alpha)\n",
    "    reg_linear = LR()\n",
    "    reg_ridge_score = cross_val_score(reg_ridge, X, y, cv=5, scoring=\"r2\").mean()\n",
    "    reg_linear_score = cross_val_score(reg_linear, X, y, cv=5, scoring=\"r2\").mean()\n",
    "    ridge.append(reg_ridge_score)\n",
    "    lr.append(reg_linear_score)\n",
    "\n",
    "plt.plot(alpharange, ridge, color=\"red\", label=\"Ridge\")\n",
    "plt.plot(alpharange, lr, color=\"orange\", label=\"LR\")\n",
    "plt.title(\"Mean\")\n",
    "plt.legend()\n",
    "plt.show()\n",
    "    "
   ]
  },
  {
   "cell_type": "code",
   "execution_count": 55,
   "metadata": {},
   "outputs": [
    {
     "data": {
      "image/png": "[encoded data removed]",
      "text/plain": [
       "<Figure size 432x288 with 1 Axes>"
      ]
     },
     "metadata": {
      "needs_background": "light"
     },
     "output_type": "display_data"
    }
   ],
   "source": [
    "# 模型方差如何变化\n",
    "\n",
    "alpharange = np.arange(1, 1001, 100)\n",
    "ridge, lr = [], []\n",
    "\n",
    "for alpha in alpharange:\n",
    "    reg_ridge = Ridge(alpha=alpha)\n",
    "    reg_linear = LR()\n",
    "    reg_ridge_score = cross_val_score(reg_ridge, X, y, cv=5, scoring=\"r2\").var()\n",
    "    reg_linear_score = cross_val_score(reg_linear, X, y, cv=5, scoring=\"r2\").var()\n",
    "    ridge.append(reg_ridge_score)\n",
    "    lr.append(reg_linear_score)\n",
    "\n",
    "plt.plot(alpharange, ridge, color=\"red\", label=\"Ridge\")\n",
    "plt.plot(alpharange, lr, color=\"orange\", label=\"LR\")\n",
    "plt.title(\"Mean\")\n",
    "plt.legend()\n",
    "plt.show()\n",
    "    "
   ]
  },
  {
   "cell_type": "code",
   "execution_count": 56,
   "metadata": {},
   "outputs": [],
   "source": [
    "# 选最佳 alpha\n",
    "from sklearn.linear_model import RidgeCV"
   ]
  },
  {
   "cell_type": "code",
   "execution_count": 57,
   "metadata": {},
   "outputs": [],
   "source": [
    "Ridge_ = RidgeCV(alphas=np.arange(1, 1001, 100)\n",
    "                 ,store_cv_values=True\n",
    "                ).fit(X, y)"
   ]
  },
  {
   "cell_type": "code",
   "execution_count": 58,
   "metadata": {},
   "outputs": [
    {
     "data": {
      "text/plain": [
       "0.606025176733842"
      ]
     },
     "execution_count": 58,
     "metadata": {},
     "output_type": "execute_result"
    }
   ],
   "source": [
    "Ridge_.score(X, y)"
   ]
  },
  {
   "cell_type": "code",
   "execution_count": 59,
   "metadata": {},
   "outputs": [
    {
     "data": {
      "text/plain": [
       "(20640, 10)"
      ]
     },
     "execution_count": 59,
     "metadata": {},
     "output_type": "execute_result"
    }
   ],
   "source": [
    "Ridge_.cv_values_.shape"
   ]
  },
  {
   "cell_type": "code",
   "execution_count": 60,
   "metadata": {},
   "outputs": [
    {
     "data": {
      "text/plain": [
       "array([0.52823795, 0.52787439, 0.52807763, 0.52855759, 0.52917958,\n",
       "       0.52987689, 0.53061486, 0.53137481, 0.53214638, 0.53292369])"
      ]
     },
     "execution_count": 60,
     "metadata": {},
     "output_type": "execute_result"
    }
   ],
   "source": [
    "Ridge_.cv_values_.mean(axis=0)"
   ]
  },
  {
   "cell_type": "code",
   "execution_count": 61,
   "metadata": {},
   "outputs": [
    {
     "data": {
      "text/plain": [
       "101"
      ]
     },
     "execution_count": 61,
     "metadata": {},
     "output_type": "execute_result"
    }
   ],
   "source": [
    "Ridge_.alpha_"
   ]
  },
  {
   "cell_type": "markdown",
   "metadata": {},
   "source": [
    "# LASSO 做特征选择"
   ]
  },
  {
   "cell_type": "code",
   "execution_count": 63,
   "metadata": {},
   "outputs": [],
   "source": [
    "# LASSO 做特征选择\n",
    "\n",
    "from sklearn.linear_model import Lasso"
   ]
  },
  {
   "cell_type": "code",
   "execution_count": 65,
   "metadata": {},
   "outputs": [
    {
     "data": {
      "text/plain": [
       "[43.73589305968406,\n",
       " 1.0211268294493916,\n",
       " -10.78072161731777,\n",
       " 62.643382753637866,\n",
       " 5.2161253531222327e-05,\n",
       " -0.3348509646333547,\n",
       " -41.30959378947715,\n",
       " -42.621095362084674]"
      ]
     },
     "execution_count": 65,
     "metadata": {},
     "output_type": "execute_result"
    }
   ],
   "source": [
    "reg = LR().fit(Xtrain, Ytrain)\n",
    "(reg.coef_ * 100).tolist()"
   ]
  },
  {
   "cell_type": "code",
   "execution_count": 67,
   "metadata": {},
   "outputs": [
    {
     "data": {
      "text/plain": [
       "[43.73589305968402,\n",
       " 1.0211268294494151,\n",
       " -10.780721617317601,\n",
       " 62.6433827536373,\n",
       " 5.2161253532713064e-05,\n",
       " -0.3348509646333586,\n",
       " -41.30959378947672,\n",
       " -42.62109536208429]"
      ]
     },
     "execution_count": 67,
     "metadata": {},
     "output_type": "execute_result"
    }
   ],
   "source": [
    "ridge_ = Ridge(alpha=0).fit(Xtrain, Ytrain)\n",
    "(ridge_.coef_ * 100).tolist()"
   ]
  },
  {
   "cell_type": "code",
   "execution_count": 70,
   "metadata": {},
   "outputs": [
    {
     "data": {
      "text/plain": [
       "[40.10568371834485,\n",
       " 1.0936292607860136,\n",
       " -3.742376361024449,\n",
       " 26.52403783489718,\n",
       " 0.0003525368511503939,\n",
       " -0.32071293948877994,\n",
       " -40.064830473448424,\n",
       " -40.81754399163315]"
      ]
     },
     "execution_count": 70,
     "metadata": {},
     "output_type": "execute_result"
    }
   ],
   "source": [
    "lasso_ = Lasso(alpha=0.01).fit(Xtrain, Ytrain)\n",
    "(lasso_.coef_ * 100).tolist()"
   ]
  },
  {
   "cell_type": "code",
   "execution_count": 71,
   "metadata": {},
   "outputs": [
    {
     "data": {
      "text/plain": [
       "[39.08851438329683,\n",
       " 1.6054695654279874,\n",
       " -0.0,\n",
       " 0.0,\n",
       " 0.0023777014839091366,\n",
       " -0.30501868956381145,\n",
       " -10.771509301655527,\n",
       " -9.294344477958063]"
      ]
     },
     "execution_count": 71,
     "metadata": {},
     "output_type": "execute_result"
    }
   ],
   "source": [
    "# 0.1 已经有特征被压成 0 了\n",
    "lasso_ = Lasso(alpha=0.1).fit(Xtrain, Ytrain)\n",
    "(lasso_.coef_ * 100).tolist()"
   ]
  },
  {
   "cell_type": "code",
   "execution_count": 72,
   "metadata": {},
   "outputs": [],
   "source": [
    "# 选 Lasso 的参数\n",
    "\n",
    "from sklearn.linear_model import LassoCV"
   ]
  },
  {
   "cell_type": "code",
   "execution_count": 74,
   "metadata": {},
   "outputs": [],
   "source": [
    "# #10**(-10)到10**(-2)次方\n",
    "alpharange = np.logspace(-10, -1, 200, base=10)"
   ]
  },
  {
   "cell_type": "code",
   "execution_count": 75,
   "metadata": {},
   "outputs": [],
   "source": [
    "lasso_ = LassoCV(alphas=alpharange\n",
    "                 ,cv=5\n",
    "                ).fit(Xtrain, Ytrain)"
   ]
  },
  {
   "cell_type": "code",
   "execution_count": 76,
   "metadata": {},
   "outputs": [
    {
     "data": {
      "text/plain": [
       "0.002121451784910632"
      ]
     },
     "execution_count": 76,
     "metadata": {},
     "output_type": "execute_result"
    }
   ],
   "source": [
    "# 选出的最佳正则化参数\n",
    "lasso_.alpha_"
   ]
  },
  {
   "cell_type": "code",
   "execution_count": 77,
   "metadata": {},
   "outputs": [
    {
     "data": {
      "text/plain": [
       "array([[0.59642645, 0.56419151, 0.63214523, 0.58856037, 0.63412587],\n",
       "       [0.58470318, 0.55247005, 0.61970801, 0.57524954, 0.6208534 ],\n",
       "       [0.57514326, 0.54310648, 0.60964517, 0.56437627, 0.61000259],\n",
       "       [0.5673352 , 0.53563454, 0.60150283, 0.5554869 , 0.60111406],\n",
       "       [0.56096864, 0.52969972, 0.59491704, 0.54821437, 0.59384536],\n",
       "       [0.55576884, 0.52499368, 0.58959261, 0.5422518 , 0.58788886],\n",
       "       [0.55151937, 0.52127415, 0.5852829 , 0.53737318, 0.58300315],\n",
       "       [0.54804422, 0.51834557, 0.58180849, 0.53337205, 0.57898444],\n",
       "       [0.54519532, 0.51604623, 0.57900433, 0.53008729, 0.57568767],\n",
       "       [0.54284822, 0.51425716, 0.57673455, 0.52738776, 0.57297492],\n",
       "       [0.54092589, 0.51277455, 0.57492738, 0.52516137, 0.57073985],\n",
       "       [0.53936276, 0.51161018, 0.57349219, 0.52322008, 0.56889069],\n",
       "       [0.53808919, 0.51072185, 0.57235268, 0.52150044, 0.56736727],\n",
       "       [0.53705081, 0.5100503 , 0.57145684, 0.51986239, 0.56610671],\n",
       "       [0.53458681, 0.50808143, 0.56901681, 0.51769053, 0.56506185],\n",
       "       [0.5335039 , 0.50712498, 0.56807975, 0.51610506, 0.56220111],\n",
       "       [0.53260903, 0.50635396, 0.56732541, 0.51476845, 0.55945133],\n",
       "       [0.53186757, 0.50573414, 0.56672264, 0.51363533, 0.5574452 ],\n",
       "       [0.5312505 , 0.50523502, 0.56624023, 0.51253075, 0.55520601],\n",
       "       [0.52939963, 0.50412983, 0.564806  , 0.51023278, 0.55377861],\n",
       "       [0.52752731, 0.50199293, 0.56290315, 0.50832169, 0.55296153],\n",
       "       [0.52597629, 0.50021658, 0.56131597, 0.50673067, 0.5526064 ],\n",
       "       [0.52468933, 0.49873169, 0.55998876, 0.50540339, 0.5525957 ],\n",
       "       [0.52361929, 0.49748805, 0.55887634, 0.50429372, 0.5528374 ],\n",
       "       [0.52272806, 0.49644371, 0.55794196, 0.50336397, 0.55325909],\n",
       "       [0.52198414, 0.49556492, 0.55715514, 0.50258311, 0.55380472],\n",
       "       [0.52136176, 0.49482348, 0.55649082, 0.50192574, 0.55443098],\n",
       "       [0.52084003, 0.49419616, 0.55592864, 0.50137094, 0.55510443],\n",
       "       [0.52040157, 0.49366426, 0.55545159, 0.50090149, 0.55580005],\n",
       "       [0.52003213, 0.49321197, 0.55504561, 0.50050324, 0.55649879],\n",
       "       [0.51972018, 0.49282621, 0.55469932, 0.50016448, 0.55718698],\n",
       "       [0.51945599, 0.49249651, 0.55440302, 0.49987554, 0.5578545 ],\n",
       "       [0.51923174, 0.49221376, 0.55414892, 0.49962844, 0.55849455],\n",
       "       [0.51904081, 0.49197081, 0.55393031, 0.49941653, 0.55910269],\n",
       "       [0.51887789, 0.49176133, 0.55374183, 0.49923433, 0.5596761 ],\n",
       "       [0.51873841, 0.49158038, 0.55357882, 0.49907724, 0.56021337],\n",
       "       [0.51861874, 0.49142353, 0.55343756, 0.49894145, 0.56071433],\n",
       "       [0.51851574, 0.49128737, 0.55331475, 0.49882376, 0.56117929],\n",
       "       [0.51842691, 0.49116875, 0.55320777, 0.49872152, 0.56160937],\n",
       "       [0.51835003, 0.49106523, 0.55311439, 0.49863248, 0.5620059 ],\n",
       "       [0.51828336, 0.49097472, 0.55303263, 0.49855474, 0.56237044],\n",
       "       [0.5182254 , 0.49089534, 0.55296094, 0.49848673, 0.56270489],\n",
       "       [0.51817491, 0.49082561, 0.55289795, 0.4984271 , 0.56301107],\n",
       "       [0.51813079, 0.49076423, 0.55284247, 0.4983747 , 0.56329087],\n",
       "       [0.51809216, 0.49071015, 0.55279354, 0.49832858, 0.56354617],\n",
       "       [0.51805827, 0.49066235, 0.5527503 , 0.4982879 , 0.56377875],\n",
       "       [0.51802847, 0.49062006, 0.55271203, 0.49825199, 0.56399045],\n",
       "       [0.51800225, 0.49058259, 0.55267812, 0.49822013, 0.56418292],\n",
       "       [0.51797909, 0.49054934, 0.55264801, 0.49819194, 0.56435772],\n",
       "       [0.51795863, 0.49051979, 0.55262125, 0.49816693, 0.56451635],\n",
       "       [0.51794051, 0.49049351, 0.55259744, 0.4981447 , 0.56466021],\n",
       "       [0.51792445, 0.49047012, 0.55257624, 0.49812493, 0.56479057],\n",
       "       [0.51791019, 0.49044926, 0.55255732, 0.49810732, 0.56490862],\n",
       "       [0.51789751, 0.49043063, 0.55254044, 0.49809162, 0.5650155 ],\n",
       "       [0.51788623, 0.490414  , 0.55252536, 0.4980776 , 0.56511221],\n",
       "       [0.51787618, 0.49039913, 0.55251188, 0.49806509, 0.56519967],\n",
       "       [0.51786722, 0.49038583, 0.55249982, 0.4980539 , 0.56527874],\n",
       "       [0.51785922, 0.49037393, 0.55248903, 0.49804389, 0.5653502 ],\n",
       "       [0.51785207, 0.49036327, 0.55247935, 0.49803493, 0.56541477],\n",
       "       [0.51784568, 0.49035371, 0.55247068, 0.49802691, 0.56547309],\n",
       "       [0.51783996, 0.49034514, 0.55246291, 0.49801972, 0.56552575],\n",
       "       [0.51783484, 0.49033746, 0.55245593, 0.49801327, 0.5655733 ],\n",
       "       [0.51783025, 0.49033056, 0.55244967, 0.49800748, 0.56561622],\n",
       "       [0.51782614, 0.49032436, 0.55244405, 0.49800229, 0.56565496],\n",
       "       [0.51782245, 0.4903188 , 0.552439  , 0.49799763, 0.56568992],\n",
       "       [0.51781914, 0.4903138 , 0.55243446, 0.49799344, 0.56572145],\n",
       "       [0.51781617, 0.49030931, 0.55243038, 0.49798968, 0.5657499 ],\n",
       "       [0.5178135 , 0.49030527, 0.55242672, 0.4979863 , 0.56577557],\n",
       "       [0.51781111, 0.49030164, 0.55242342, 0.49798326, 0.56579872],\n",
       "       [0.51780895, 0.49029838, 0.55242046, 0.49798053, 0.56581959],\n",
       "       [0.51780702, 0.49029544, 0.55241779, 0.49797807, 0.56583841],\n",
       "       [0.51780528, 0.4902928 , 0.55241539, 0.49797586, 0.56585539],\n",
       "       [0.51780371, 0.49029043, 0.55241324, 0.49797387, 0.56587069],\n",
       "       [0.51780231, 0.49028829, 0.55241129, 0.49797208, 0.56588449],\n",
       "       [0.51780104, 0.49028636, 0.55240955, 0.49797047, 0.56589693],\n",
       "       [0.5177999 , 0.49028463, 0.55240797, 0.49796902, 0.56590815],\n",
       "       [0.51779888, 0.49028307, 0.55240656, 0.49796772, 0.56591826],\n",
       "       [0.51779796, 0.49028166, 0.55240528, 0.49796654, 0.56592737],\n",
       "       [0.51779713, 0.4902804 , 0.55240413, 0.49796549, 0.56593559],\n",
       "       [0.51779638, 0.49027926, 0.5524031 , 0.49796453, 0.56594299],\n",
       "       [0.51779571, 0.49027824, 0.55240217, 0.49796368, 0.56594966],\n",
       "       [0.5177951 , 0.49027731, 0.55240133, 0.49796291, 0.56595568],\n",
       "       [0.51779456, 0.49027648, 0.55240057, 0.49796221, 0.5659611 ],\n",
       "       [0.51779407, 0.49027573, 0.55239989, 0.49796158, 0.56596599],\n",
       "       [0.51779362, 0.49027506, 0.55239928, 0.49796102, 0.56597039],\n",
       "       [0.51779323, 0.49027445, 0.55239873, 0.49796051, 0.56597436],\n",
       "       [0.51779287, 0.4902739 , 0.55239823, 0.49796005, 0.56597794],\n",
       "       [0.51779254, 0.49027341, 0.55239778, 0.49795964, 0.56598116],\n",
       "       [0.51779225, 0.49027296, 0.55239738, 0.49795927, 0.56598407],\n",
       "       [0.51779199, 0.49027256, 0.55239701, 0.49795894, 0.56598668],\n",
       "       [0.51779176, 0.4902722 , 0.55239669, 0.49795864, 0.56598904],\n",
       "       [0.51779154, 0.49027188, 0.55239639, 0.49795836, 0.56599117],\n",
       "       [0.51779135, 0.49027159, 0.55239613, 0.49795812, 0.56599309],\n",
       "       [0.51779118, 0.49027132, 0.55239589, 0.4979579 , 0.56599481],\n",
       "       [0.51779102, 0.49027108, 0.55239567, 0.4979577 , 0.56599637],\n",
       "       [0.51779088, 0.49027087, 0.55239548, 0.49795752, 0.56599777],\n",
       "       [0.51779076, 0.49027068, 0.5523953 , 0.49795736, 0.56599903],\n",
       "       [0.51779064, 0.4902705 , 0.55239514, 0.49795722, 0.56600017],\n",
       "       [0.51779054, 0.49027035, 0.552395  , 0.49795709, 0.5660012 ],\n",
       "       [0.51779045, 0.49027021, 0.55239487, 0.49795697, 0.56600212],\n",
       "       [0.51779037, 0.49027008, 0.55239476, 0.49795686, 0.56600296],\n",
       "       [0.51779029, 0.49026996, 0.55239465, 0.49795677, 0.56600371],\n",
       "       [0.51779022, 0.49026986, 0.55239456, 0.49795668, 0.56600438],\n",
       "       [0.51779016, 0.49026977, 0.55239448, 0.4979566 , 0.56600499],\n",
       "       [0.51779011, 0.49026968, 0.5523944 , 0.49795653, 0.56600554],\n",
       "       [0.51779006, 0.49026961, 0.55239433, 0.49795647, 0.56600604],\n",
       "       [0.51779001, 0.49026954, 0.55239427, 0.49795641, 0.56600648],\n",
       "       [0.51778997, 0.49026948, 0.55239421, 0.49795636, 0.56600689],\n",
       "       [0.51778994, 0.49026942, 0.55239416, 0.49795631, 0.56600725],\n",
       "       [0.5177899 , 0.49026937, 0.55239412, 0.49795627, 0.56600758],\n",
       "       [0.51778988, 0.49026933, 0.55239408, 0.49795624, 0.56600787],\n",
       "       [0.51778985, 0.49026929, 0.55239404, 0.4979562 , 0.56600813],\n",
       "       [0.51778983, 0.49026925, 0.55239401, 0.49795617, 0.56600837],\n",
       "       [0.5177898 , 0.49026922, 0.55239398, 0.49795614, 0.56600859],\n",
       "       [0.51778978, 0.49026919, 0.55239395, 0.49795612, 0.56600878],\n",
       "       [0.51778977, 0.49026916, 0.55239393, 0.4979561 , 0.56600896],\n",
       "       [0.51778975, 0.49026914, 0.5523939 , 0.49795608, 0.56600912],\n",
       "       [0.51778974, 0.49026912, 0.55239388, 0.49795606, 0.56600926],\n",
       "       [0.51778972, 0.4902691 , 0.55239387, 0.49795604, 0.56600938],\n",
       "       [0.51778971, 0.49026908, 0.55239385, 0.49795603, 0.5660095 ],\n",
       "       [0.5177897 , 0.49026907, 0.55239384, 0.49795601, 0.5660096 ],\n",
       "       [0.51778969, 0.49026905, 0.55239382, 0.497956  , 0.5660097 ],\n",
       "       [0.51778968, 0.49026904, 0.55239381, 0.49795599, 0.56600978],\n",
       "       [0.51778968, 0.49026903, 0.5523938 , 0.49795598, 0.56600986],\n",
       "       [0.51778967, 0.49026902, 0.55239379, 0.49795597, 0.56600993],\n",
       "       [0.51778966, 0.49026901, 0.55239378, 0.49795597, 0.56600999],\n",
       "       [0.51778966, 0.490269  , 0.55239378, 0.49795596, 0.56601004],\n",
       "       [0.51778965, 0.49026899, 0.55239377, 0.49795595, 0.56601009],\n",
       "       [0.51778965, 0.49026898, 0.55239376, 0.49795595, 0.56601014],\n",
       "       [0.51778965, 0.49026898, 0.55239376, 0.49795594, 0.56601018],\n",
       "       [0.51778964, 0.49026897, 0.55239375, 0.49795594, 0.56601022],\n",
       "       [0.51778964, 0.49026897, 0.55239375, 0.49795593, 0.56601025],\n",
       "       [0.51778964, 0.49026896, 0.55239374, 0.49795593, 0.56601028],\n",
       "       [0.51778963, 0.49026896, 0.55239374, 0.49795593, 0.56601031],\n",
       "       [0.51778963, 0.49026895, 0.55239374, 0.49795592, 0.56601033],\n",
       "       [0.51778963, 0.49026895, 0.55239373, 0.49795592, 0.56601035],\n",
       "       [0.51778963, 0.49026895, 0.55239373, 0.49795592, 0.56601037],\n",
       "       [0.51778962, 0.49026895, 0.55239373, 0.49795591, 0.56601039],\n",
       "       [0.51778962, 0.49026894, 0.55239373, 0.49795591, 0.5660104 ],\n",
       "       [0.51778962, 0.49026894, 0.55239372, 0.49795591, 0.56601042],\n",
       "       [0.51778962, 0.49026894, 0.55239372, 0.49795591, 0.56601043],\n",
       "       [0.51778962, 0.49026894, 0.55239372, 0.49795591, 0.56601044],\n",
       "       [0.51778962, 0.49026894, 0.55239372, 0.49795591, 0.56601045],\n",
       "       [0.51778962, 0.49026893, 0.55239372, 0.4979559 , 0.56601046],\n",
       "       [0.51778962, 0.49026893, 0.55239372, 0.4979559 , 0.56601047],\n",
       "       [0.51778962, 0.49026893, 0.55239372, 0.4979559 , 0.56601048],\n",
       "       [0.51778961, 0.49026893, 0.55239371, 0.4979559 , 0.56601049],\n",
       "       [0.51778961, 0.49026893, 0.55239371, 0.4979559 , 0.56601049],\n",
       "       [0.51778961, 0.49026893, 0.55239371, 0.4979559 , 0.5660105 ],\n",
       "       [0.51778961, 0.49026893, 0.55239371, 0.4979559 , 0.5660105 ],\n",
       "       [0.51778961, 0.49026893, 0.55239371, 0.4979559 , 0.56601051],\n",
       "       [0.51778961, 0.49026893, 0.55239371, 0.4979559 , 0.56601051],\n",
       "       [0.51778961, 0.49026893, 0.55239371, 0.4979559 , 0.56601052],\n",
       "       [0.51778961, 0.49026893, 0.55239371, 0.4979559 , 0.56601052],\n",
       "       [0.51778961, 0.49026893, 0.55239371, 0.4979559 , 0.56601052],\n",
       "       [0.51778961, 0.49026892, 0.55239371, 0.4979559 , 0.56601053],\n",
       "       [0.51778961, 0.49026892, 0.55239371, 0.4979559 , 0.56601053],\n",
       "       [0.51778961, 0.49026892, 0.55239371, 0.4979559 , 0.56601053],\n",
       "       [0.51778961, 0.49026892, 0.55239371, 0.4979559 , 0.56601053],\n",
       "       [0.51778961, 0.49026892, 0.55239371, 0.4979559 , 0.56601053],\n",
       "       [0.51778961, 0.49026892, 0.55239371, 0.4979559 , 0.56601054],\n",
       "       [0.51778961, 0.49026892, 0.55239371, 0.4979559 , 0.56601054],\n",
       "       [0.51778961, 0.49026892, 0.55239371, 0.4979559 , 0.56601054],\n",
       "       [0.51778961, 0.49026892, 0.55239371, 0.4979559 , 0.56601054],\n",
       "       [0.51778961, 0.49026892, 0.55239371, 0.4979559 , 0.56601054],\n",
       "       [0.51778961, 0.49026892, 0.55239371, 0.4979559 , 0.56601054],\n",
       "       [0.51778961, 0.49026892, 0.55239371, 0.49795589, 0.56601054],\n",
       "       [0.51778961, 0.49026892, 0.55239371, 0.49795589, 0.56601054],\n",
       "       [0.51778961, 0.49026892, 0.55239371, 0.49795589, 0.56601054],\n",
       "       [0.51778961, 0.49026892, 0.55239371, 0.49795589, 0.56601054],\n",
       "       [0.51778961, 0.49026892, 0.55239371, 0.49795589, 0.56601054],\n",
       "       [0.51778961, 0.49026892, 0.55239371, 0.49795589, 0.56601055],\n",
       "       [0.51778961, 0.49026892, 0.55239371, 0.49795589, 0.56601055],\n",
       "       [0.51778961, 0.49026892, 0.55239371, 0.49795589, 0.56601055],\n",
       "       [0.51778961, 0.49026892, 0.55239371, 0.49795589, 0.56601055],\n",
       "       [0.51778961, 0.49026892, 0.55239371, 0.49795589, 0.56601055],\n",
       "       [0.51778961, 0.49026892, 0.55239371, 0.49795589, 0.56601055],\n",
       "       [0.51778961, 0.49026892, 0.55239371, 0.49795589, 0.56601055],\n",
       "       [0.51778961, 0.49026892, 0.55239371, 0.49795589, 0.56601055],\n",
       "       [0.51778961, 0.49026892, 0.55239371, 0.49795589, 0.56601055],\n",
       "       [0.51778961, 0.49026892, 0.55239371, 0.49795589, 0.56601055],\n",
       "       [0.51778961, 0.49026892, 0.55239371, 0.49795589, 0.56601055],\n",
       "       [0.51778961, 0.49026892, 0.55239371, 0.49795589, 0.56601055],\n",
       "       [0.51778961, 0.49026892, 0.55239371, 0.49795589, 0.56601055],\n",
       "       [0.51778961, 0.49026892, 0.55239371, 0.49795589, 0.56601055],\n",
       "       [0.51778961, 0.49026892, 0.55239371, 0.49795589, 0.56601055],\n",
       "       [0.51778961, 0.49026892, 0.55239371, 0.49795589, 0.56601055],\n",
       "       [0.51778961, 0.49026892, 0.55239371, 0.49795589, 0.56601055],\n",
       "       [0.51778961, 0.49026892, 0.55239371, 0.49795589, 0.56601055],\n",
       "       [0.51778961, 0.49026892, 0.55239371, 0.49795589, 0.56601055],\n",
       "       [0.51778961, 0.49026892, 0.55239371, 0.49795589, 0.56601055],\n",
       "       [0.51778961, 0.49026892, 0.55239371, 0.49795589, 0.56601055],\n",
       "       [0.51778961, 0.49026892, 0.55239371, 0.49795589, 0.56601055],\n",
       "       [0.51778961, 0.49026892, 0.55239371, 0.49795589, 0.56601055],\n",
       "       [0.51778961, 0.49026892, 0.55239371, 0.49795589, 0.56601055],\n",
       "       [0.51778961, 0.49026892, 0.55239371, 0.49795589, 0.56601055],\n",
       "       [0.51778961, 0.49026892, 0.55239371, 0.49795589, 0.56601055],\n",
       "       [0.51778961, 0.49026892, 0.55239371, 0.49795589, 0.56601055],\n",
       "       [0.51778961, 0.49026892, 0.55239371, 0.49795589, 0.56601055],\n",
       "       [0.51778961, 0.49026892, 0.55239371, 0.49795589, 0.56601055]])"
      ]
     },
     "execution_count": 77,
     "metadata": {},
     "output_type": "execute_result"
    }
   ],
   "source": [
    "lasso_.mse_path_"
   ]
  },
  {
   "cell_type": "code",
   "execution_count": 78,
   "metadata": {},
   "outputs": [
    {
     "data": {
      "text/plain": [
       "array([0.60308989, 0.59059684, 0.58045476, 0.5722147 , 0.56552903,\n",
       "       0.56009916, 0.55569055, 0.55211096, 0.54920417, 0.54684052,\n",
       "       0.54490581, 0.54331518, 0.54200629, 0.54090541, 0.53888749,\n",
       "       0.53740296, 0.53610164, 0.53508097, 0.5340925 , 0.53246937,\n",
       "       0.53074132, 0.52936918, 0.52828177, 0.52742296, 0.52674736,\n",
       "       0.52621841, 0.52580656, 0.52548804, 0.52524379, 0.52505835,\n",
       "       0.52491943, 0.52481711, 0.52474348, 0.52469223, 0.52465829,\n",
       "       0.52463764, 0.52462712, 0.52462418, 0.52462686, 0.5246336 ,\n",
       "       0.52464318, 0.52465466, 0.52466733, 0.52468061, 0.52469412,\n",
       "       0.52470751, 0.5247206 , 0.5247332 , 0.52474522, 0.52475659,\n",
       "       0.52476727, 0.52477726, 0.52478654, 0.52479514, 0.52480308,\n",
       "       0.52481039, 0.5248171 , 0.52482325, 0.52482888, 0.52483401,\n",
       "       0.5248387 , 0.52484296, 0.52484684, 0.52485036, 0.52485356,\n",
       "       0.52485646, 0.52485909, 0.52486147, 0.52486363, 0.52486558,\n",
       "       0.52486735, 0.52486894, 0.52487039, 0.52487169, 0.52487287,\n",
       "       0.52487393, 0.5248749 , 0.52487576, 0.52487655, 0.52487725,\n",
       "       0.52487789, 0.52487847, 0.52487898, 0.52487945, 0.52487987,\n",
       "       0.52488025, 0.5248806 , 0.52488091, 0.52488119, 0.52488144,\n",
       "       0.52488166, 0.52488187, 0.52488205, 0.52488222, 0.52488237,\n",
       "       0.5248825 , 0.52488263, 0.52488274, 0.52488283, 0.52488292,\n",
       "       0.524883  , 0.52488308, 0.52488314, 0.5248832 , 0.52488325,\n",
       "       0.5248833 , 0.52488334, 0.52488338, 0.52488342, 0.52488345,\n",
       "       0.52488348, 0.5248835 , 0.52488353, 0.52488355, 0.52488357,\n",
       "       0.52488358, 0.5248836 , 0.52488361, 0.52488362, 0.52488363,\n",
       "       0.52488364, 0.52488365, 0.52488366, 0.52488367, 0.52488368,\n",
       "       0.52488368, 0.52488369, 0.52488369, 0.5248837 , 0.5248837 ,\n",
       "       0.5248837 , 0.52488371, 0.52488371, 0.52488371, 0.52488371,\n",
       "       0.52488372, 0.52488372, 0.52488372, 0.52488372, 0.52488372,\n",
       "       0.52488372, 0.52488373, 0.52488373, 0.52488373, 0.52488373,\n",
       "       0.52488373, 0.52488373, 0.52488373, 0.52488373, 0.52488373,\n",
       "       0.52488373, 0.52488373, 0.52488373, 0.52488373, 0.52488373,\n",
       "       0.52488373, 0.52488373, 0.52488373, 0.52488373, 0.52488373,\n",
       "       0.52488373, 0.52488373, 0.52488373, 0.52488373, 0.52488373,\n",
       "       0.52488373, 0.52488374, 0.52488374, 0.52488374, 0.52488374,\n",
       "       0.52488374, 0.52488374, 0.52488374, 0.52488374, 0.52488374,\n",
       "       0.52488374, 0.52488374, 0.52488374, 0.52488374, 0.52488374,\n",
       "       0.52488374, 0.52488374, 0.52488374, 0.52488374, 0.52488374,\n",
       "       0.52488374, 0.52488374, 0.52488374, 0.52488374, 0.52488374,\n",
       "       0.52488374, 0.52488374, 0.52488374, 0.52488374, 0.52488374,\n",
       "       0.52488374, 0.52488374, 0.52488374, 0.52488374, 0.52488374])"
      ]
     },
     "execution_count": 78,
     "metadata": {},
     "output_type": "execute_result"
    }
   ],
   "source": [
    "# 有注意到在岭回归中我们的轴向是axis=0吗? \n",
    "# 因为岭回归是留一交叉验证\n",
    "\n",
    "lasso_.mse_path_.mean(axis=1) "
   ]
  },
  {
   "cell_type": "code",
   "execution_count": 79,
   "metadata": {},
   "outputs": [
    {
     "data": {
      "text/plain": [
       "array([ 4.29690851e-01,  1.03658802e-02, -9.29228997e-02,  5.50000786e-01,\n",
       "        1.16187471e-06, -3.31872927e-03, -4.10391344e-01, -4.22323313e-01])"
      ]
     },
     "execution_count": 79,
     "metadata": {},
     "output_type": "execute_result"
    }
   ],
   "source": [
    "lasso_.coef_"
   ]
  },
  {
   "cell_type": "code",
   "execution_count": 80,
   "metadata": {},
   "outputs": [
    {
     "data": {
      "text/plain": [
       "0.6038837401244812"
      ]
     },
     "execution_count": 80,
     "metadata": {},
     "output_type": "execute_result"
    }
   ],
   "source": [
    "lasso_.score(Xtest, Ytest)"
   ]
  },
  {
   "cell_type": "markdown",
   "metadata": {},
   "source": [
    "# 线性模型在非线性数据上的表现"
   ]
  },
  {
   "cell_type": "code",
   "execution_count": 82,
   "metadata": {},
   "outputs": [],
   "source": [
    "from sklearn.tree import DecisionTreeRegressor\n",
    "\n",
    "rnd = np.random.RandomState(42)\n",
    "X = rnd.uniform(-3, 3, size=100)"
   ]
  },
  {
   "cell_type": "code",
   "execution_count": 83,
   "metadata": {},
   "outputs": [],
   "source": [
    "y = np.sin(X) + rnd.normal(size=len(X)) / 3"
   ]
  },
  {
   "cell_type": "code",
   "execution_count": 84,
   "metadata": {},
   "outputs": [
    {
     "data": {
      "image/png": "[encoded data removed]",
      "text/plain": [
       "<Figure size 432x288 with 1 Axes>"
      ]
     },
     "metadata": {
      "needs_background": "light"
     },
     "output_type": "display_data"
    }
   ],
   "source": [
    "plt.scatter(X, y, marker=\"o\", c=\"k\", s=20)\n",
    "plt.show()"
   ]
  },
  {
   "cell_type": "code",
   "execution_count": 87,
   "metadata": {},
   "outputs": [
    {
     "name": "stdout",
     "output_type": "stream",
     "text": [
      "(100,)\n",
      "(100,)\n",
      "<class 'sklearn.linear_model._base.LinearRegression'>\n"
     ]
    }
   ],
   "source": [
    "print(X.shape)\n",
    "print(y.shape)\n",
    "print(type(LR()))"
   ]
  },
  {
   "cell_type": "code",
   "execution_count": 102,
   "metadata": {},
   "outputs": [],
   "source": [
    "# 输入 fit 的需要是二维\n",
    "\n",
    "X = X.reshape(-1, 1)\n",
    "\n",
    "LinearR = LR().fit(X, y)\n",
    "TreeR = DecisionTreeRegressor(random_state=0).fit(X, y)"
   ]
  },
  {
   "cell_type": "code",
   "execution_count": 103,
   "metadata": {},
   "outputs": [
    {
     "data": {
      "text/plain": [
       "Text(0.5, 0, 'input feature')"
      ]
     },
     "execution_count": 103,
     "metadata": {},
     "output_type": "execute_result"
    },
    {
     "data": {
      "image/png": "[encoded data removed]",
      "text/plain": [
       "<Figure size 432x288 with 1 Axes>"
      ]
     },
     "metadata": {
      "needs_background": "light"
     },
     "output_type": "display_data"
    }
   ],
   "source": [
    "# 放置画布，需要和画图在一个 cell 里\n",
    "fig, ax1 = plt.subplots(1)\n",
    "\n",
    "# 创建测试数据: 一系列分布在横坐标上的点\n",
    "\n",
    "line = np.linspace(-3, 3, 1000, endpoint=False).reshape(-1, 1)\n",
    "\n",
    "# 将测试数据代入 predict 接口，获得模型的拟合效果进行绘制\n",
    "ax1.plot(line, LinearR.predict(line)\n",
    "         ,linewidth=2\n",
    "         ,color=\"green\"\n",
    "         ,label=\"linear regression\"\n",
    "        )\n",
    "ax1.plot(line, TreeR.predict(line)\n",
    "         ,linewidth=2\n",
    "         ,color=\"red\"\n",
    "         ,label=\"decision tree\"\n",
    "        )\n",
    "\n",
    "# 将元数据上的拟合绘制在图像上\n",
    "ax1.plot(X[:, 0], y, \"o\", c=\"k\")\n",
    "\n",
    "ax1.legend(loc=\"best\")\n",
    "ax1.set_ylabel(\"regression output\")\n",
    "ax1.set_xlabel(\"input feature\")\n"
   ]
  },
  {
   "cell_type": "markdown",
   "metadata": {},
   "source": [
    "# 分箱处理非线性数据"
   ]
  },
  {
   "cell_type": "code",
   "execution_count": 95,
   "metadata": {},
   "outputs": [],
   "source": [
    "from sklearn.preprocessing import KBinsDiscretizer"
   ]
  },
  {
   "cell_type": "code",
   "execution_count": 96,
   "metadata": {},
   "outputs": [],
   "source": [
    "enc = KBinsDiscretizer(n_bins=10\n",
    "                       ,encode=\"onehot\"\n",
    "                      )\n",
    "X_binned = enc.fit_transform(X)"
   ]
  },
  {
   "cell_type": "code",
   "execution_count": 97,
   "metadata": {},
   "outputs": [
    {
     "data": {
      "text/plain": [
       "(100, 1)"
      ]
     },
     "execution_count": 97,
     "metadata": {},
     "output_type": "execute_result"
    }
   ],
   "source": [
    "X.shape"
   ]
  },
  {
   "cell_type": "code",
   "execution_count": 98,
   "metadata": {},
   "outputs": [
    {
     "data": {
      "text/plain": [
       "<100x10 sparse matrix of type '<class 'numpy.float64'>'\n",
       "\twith 100 stored elements in Compressed Sparse Row format>"
      ]
     },
     "execution_count": 98,
     "metadata": {},
     "output_type": "execute_result"
    }
   ],
   "source": [
    "X_binned"
   ]
  },
  {
   "cell_type": "code",
   "execution_count": 99,
   "metadata": {},
   "outputs": [
    {
     "data": {
      "text/html": [
       "<div>\n",
       "<style scoped>\n",
       "    .dataframe tbody tr th:only-of-type {\n",
       "        vertical-align: middle;\n",
       "    }\n",
       "\n",
       "    .dataframe tbody tr th {\n",
       "        vertical-align: top;\n",
       "    }\n",
       "\n",
       "    .dataframe thead th {\n",
       "        text-align: right;\n",
       "    }\n",
       "</style>\n",
       "<table border=\"1\" class=\"dataframe\">\n",
       "  <thead>\n",
       "    <tr style=\"text-align: right;\">\n",
       "      <th></th>\n",
       "      <th>0</th>\n",
       "      <th>1</th>\n",
       "      <th>2</th>\n",
       "      <th>3</th>\n",
       "      <th>4</th>\n",
       "      <th>5</th>\n",
       "      <th>6</th>\n",
       "      <th>7</th>\n",
       "      <th>8</th>\n",
       "      <th>9</th>\n",
       "    </tr>\n",
       "  </thead>\n",
       "  <tbody>\n",
       "    <tr>\n",
       "      <th>0</th>\n",
       "      <td>0.0</td>\n",
       "      <td>0.0</td>\n",
       "      <td>0.0</td>\n",
       "      <td>0.0</td>\n",
       "      <td>1.0</td>\n",
       "      <td>0.0</td>\n",
       "      <td>0.0</td>\n",
       "      <td>0.0</td>\n",
       "      <td>0.0</td>\n",
       "      <td>0.0</td>\n",
       "    </tr>\n",
       "    <tr>\n",
       "      <th>1</th>\n",
       "      <td>0.0</td>\n",
       "      <td>0.0</td>\n",
       "      <td>0.0</td>\n",
       "      <td>0.0</td>\n",
       "      <td>0.0</td>\n",
       "      <td>0.0</td>\n",
       "      <td>0.0</td>\n",
       "      <td>0.0</td>\n",
       "      <td>0.0</td>\n",
       "      <td>1.0</td>\n",
       "    </tr>\n",
       "    <tr>\n",
       "      <th>2</th>\n",
       "      <td>0.0</td>\n",
       "      <td>0.0</td>\n",
       "      <td>0.0</td>\n",
       "      <td>0.0</td>\n",
       "      <td>0.0</td>\n",
       "      <td>0.0</td>\n",
       "      <td>0.0</td>\n",
       "      <td>1.0</td>\n",
       "      <td>0.0</td>\n",
       "      <td>0.0</td>\n",
       "    </tr>\n",
       "    <tr>\n",
       "      <th>3</th>\n",
       "      <td>0.0</td>\n",
       "      <td>0.0</td>\n",
       "      <td>0.0</td>\n",
       "      <td>0.0</td>\n",
       "      <td>0.0</td>\n",
       "      <td>0.0</td>\n",
       "      <td>1.0</td>\n",
       "      <td>0.0</td>\n",
       "      <td>0.0</td>\n",
       "      <td>0.0</td>\n",
       "    </tr>\n",
       "    <tr>\n",
       "      <th>4</th>\n",
       "      <td>0.0</td>\n",
       "      <td>0.0</td>\n",
       "      <td>1.0</td>\n",
       "      <td>0.0</td>\n",
       "      <td>0.0</td>\n",
       "      <td>0.0</td>\n",
       "      <td>0.0</td>\n",
       "      <td>0.0</td>\n",
       "      <td>0.0</td>\n",
       "      <td>0.0</td>\n",
       "    </tr>\n",
       "  </tbody>\n",
       "</table>\n",
       "</div>"
      ],
      "text/plain": [
       "     0    1    2    3    4    5    6    7    8    9\n",
       "0  0.0  0.0  0.0  0.0  1.0  0.0  0.0  0.0  0.0  0.0\n",
       "1  0.0  0.0  0.0  0.0  0.0  0.0  0.0  0.0  0.0  1.0\n",
       "2  0.0  0.0  0.0  0.0  0.0  0.0  0.0  1.0  0.0  0.0\n",
       "3  0.0  0.0  0.0  0.0  0.0  0.0  1.0  0.0  0.0  0.0\n",
       "4  0.0  0.0  1.0  0.0  0.0  0.0  0.0  0.0  0.0  0.0"
      ]
     },
     "execution_count": 99,
     "metadata": {},
     "output_type": "execute_result"
    }
   ],
   "source": [
    "# 用 pandas 打开稀疏矩阵\n",
    "\n",
    "import pandas as pd\n",
    "pd.DataFrame(X_binned.toarray()).head()"
   ]
  },
  {
   "cell_type": "code",
   "execution_count": 104,
   "metadata": {},
   "outputs": [],
   "source": [
    "LinearR_ = LR().fit(X_binned, y)"
   ]
  },
  {
   "cell_type": "code",
   "execution_count": 105,
   "metadata": {},
   "outputs": [
    {
     "data": {
      "text/plain": [
       "array([-0.22510103, -0.22510103, -0.22510103, -0.22510103, -0.22510103,\n",
       "       -0.22510103, -0.22510103, -0.22510103, -0.22510103, -0.22510103,\n",
       "       -0.22510103, -0.22510103, -0.22510103, -0.22510103, -0.22510103,\n",
       "       -0.22510103, -0.22510103, -0.22510103, -0.22510103, -0.22510103,\n",
       "       -0.22510103, -0.22510103, -0.22510103, -0.22510103, -0.22510103,\n",
       "       -0.22510103, -0.22510103, -0.22510103, -0.22510103, -0.22510103,\n",
       "       -0.22510103, -0.22510103, -0.22510103, -0.22510103, -0.22510103,\n",
       "       -0.22510103, -0.22510103, -0.22510103, -0.22510103, -0.22510103,\n",
       "       -0.22510103, -0.22510103, -0.22510103, -0.22510103, -0.22510103,\n",
       "       -0.22510103, -0.22510103, -0.22510103, -0.22510103, -0.22510103,\n",
       "       -0.22510103, -0.22510103, -0.22510103, -0.22510103, -0.22510103,\n",
       "       -0.22510103, -0.22510103, -0.22510103, -0.22510103, -0.22510103,\n",
       "       -0.22510103, -0.22510103, -0.22510103, -0.22510103, -0.22510103,\n",
       "       -0.22510103, -0.22510103, -0.22510103, -0.22510103, -0.22510103,\n",
       "       -0.22510103, -0.22510103, -0.22510103, -0.22510103, -0.22510103,\n",
       "       -0.68407735, -0.68407735, -0.68407735, -0.68407735, -0.68407735,\n",
       "       -0.68407735, -0.68407735, -0.68407735, -0.68407735, -0.68407735,\n",
       "       -0.68407735, -0.68407735, -0.68407735, -0.68407735, -0.68407735,\n",
       "       -0.68407735, -0.68407735, -0.68407735, -0.68407735, -0.68407735,\n",
       "       -0.68407735, -0.68407735, -0.68407735, -0.68407735, -0.68407735,\n",
       "       -0.68407735, -0.68407735, -0.68407735, -0.68407735, -0.68407735,\n",
       "       -0.68407735, -0.68407735, -0.68407735, -0.68407735, -0.68407735,\n",
       "       -0.68407735, -0.68407735, -0.68407735, -0.68407735, -0.68407735,\n",
       "       -0.68407735, -0.68407735, -0.68407735, -0.68407735, -0.68407735,\n",
       "       -0.68407735, -0.68407735, -0.68407735, -0.68407735, -0.68407735,\n",
       "       -0.68407735, -0.68407735, -0.68407735, -0.68407735, -0.68407735,\n",
       "       -0.68407735, -0.68407735, -0.68407735, -0.68407735, -0.68407735,\n",
       "       -0.68407735, -0.68407735, -0.68407735, -0.68407735, -0.68407735,\n",
       "       -0.68407735, -0.68407735, -0.68407735, -0.68407735, -0.68407735,\n",
       "       -0.68407735, -0.68407735, -0.68407735, -0.68407735, -0.68407735,\n",
       "       -0.68407735, -0.68407735, -0.68407735, -0.68407735, -0.68407735,\n",
       "       -0.68407735, -0.68407735, -0.84238714, -0.84238714, -0.84238714,\n",
       "       -0.84238714, -0.84238714, -0.84238714, -0.84238714, -0.84238714,\n",
       "       -0.84238714, -0.84238714, -0.84238714, -0.84238714, -0.84238714,\n",
       "       -0.84238714, -0.84238714, -0.84238714, -0.84238714, -0.84238714,\n",
       "       -0.84238714, -0.84238714, -0.84238714, -0.84238714, -0.84238714,\n",
       "       -0.84238714, -0.84238714, -0.84238714, -0.84238714, -0.84238714,\n",
       "       -0.84238714, -0.84238714, -0.84238714, -0.84238714, -0.84238714,\n",
       "       -0.84238714, -0.84238714, -0.84238714, -0.84238714, -0.84238714,\n",
       "       -0.84238714, -0.84238714, -0.84238714, -0.84238714, -0.84238714,\n",
       "       -0.84238714, -0.84238714, -0.84238714, -0.84238714, -0.84238714,\n",
       "       -0.84238714, -0.84238714, -0.84238714, -0.84238714, -0.84238714,\n",
       "       -0.84238714, -0.84238714, -0.84238714, -0.84238714, -0.84238714,\n",
       "       -0.84238714, -0.84238714, -0.84238714, -0.84238714, -0.84238714,\n",
       "       -0.84238714, -0.84238714, -0.84238714, -0.84238714, -0.84238714,\n",
       "       -0.84238714, -0.84238714, -0.84238714, -0.84238714, -0.84238714,\n",
       "       -0.84238714, -0.84238714, -0.84238714, -0.84238714, -0.84238714,\n",
       "       -0.84238714, -0.84238714, -0.84238714, -0.84238714, -0.84238714,\n",
       "       -0.84238714, -0.84238714, -0.84238714, -0.84238714, -0.84238714,\n",
       "       -0.84238714, -0.84238714, -0.84238714, -0.84238714, -0.84238714,\n",
       "       -0.84238714, -0.84238714, -0.84238714, -0.84238714, -0.84238714,\n",
       "       -0.84238714, -0.84238714, -0.84238714, -0.84238714, -0.84238714,\n",
       "       -0.84238714, -0.84238714, -0.84238714, -0.84238714, -0.84238714,\n",
       "       -0.84238714, -0.84238714, -0.84238714, -0.90433112, -0.90433112,\n",
       "       -0.90433112, -0.90433112, -0.90433112, -0.90433112, -0.90433112,\n",
       "       -0.90433112, -0.90433112, -0.90433112, -0.90433112, -0.90433112,\n",
       "       -0.90433112, -0.90433112, -0.90433112, -0.90433112, -0.90433112,\n",
       "       -0.90433112, -0.90433112, -0.90433112, -0.90433112, -0.90433112,\n",
       "       -0.90433112, -0.90433112, -0.90433112, -0.90433112, -0.90433112,\n",
       "       -0.90433112, -0.90433112, -0.90433112, -0.90433112, -0.90433112,\n",
       "       -0.90433112, -0.90433112, -0.90433112, -0.90433112, -0.90433112,\n",
       "       -0.90433112, -0.90433112, -0.90433112, -0.90433112, -0.90433112,\n",
       "       -0.90433112, -0.90433112, -0.90433112, -0.90433112, -0.90433112,\n",
       "       -0.90433112, -0.90433112, -0.90433112, -0.90433112, -0.90433112,\n",
       "       -0.90433112, -0.90433112, -0.90433112, -0.90433112, -0.90433112,\n",
       "       -0.90433112, -0.90433112, -0.90433112, -0.90433112, -0.72176296,\n",
       "       -0.72176296, -0.72176296, -0.72176296, -0.72176296, -0.72176296,\n",
       "       -0.72176296, -0.72176296, -0.72176296, -0.72176296, -0.72176296,\n",
       "       -0.72176296, -0.72176296, -0.72176296, -0.72176296, -0.72176296,\n",
       "       -0.72176296, -0.72176296, -0.72176296, -0.72176296, -0.72176296,\n",
       "       -0.72176296, -0.72176296, -0.72176296, -0.72176296, -0.72176296,\n",
       "       -0.72176296, -0.72176296, -0.72176296, -0.72176296, -0.72176296,\n",
       "       -0.72176296, -0.72176296, -0.72176296, -0.72176296, -0.72176296,\n",
       "       -0.72176296, -0.72176296, -0.72176296, -0.72176296, -0.72176296,\n",
       "       -0.72176296, -0.72176296, -0.72176296, -0.72176296, -0.72176296,\n",
       "       -0.72176296, -0.72176296, -0.72176296, -0.72176296, -0.72176296,\n",
       "       -0.72176296, -0.72176296, -0.72176296, -0.72176296, -0.72176296,\n",
       "       -0.72176296, -0.72176296, -0.72176296, -0.72176296, -0.72176296,\n",
       "       -0.72176296, -0.72176296, -0.72176296, -0.72176296, -0.72176296,\n",
       "       -0.72176296, -0.72176296, -0.72176296, -0.72176296, -0.72176296,\n",
       "       -0.72176296, -0.72176296, -0.72176296, -0.72176296, -0.72176296,\n",
       "       -0.72176296, -0.72176296, -0.72176296, -0.72176296, -0.72176296,\n",
       "       -0.72176296, -0.72176296, -0.72176296, -0.72176296, -0.72176296,\n",
       "       -0.72176296, -0.72176296, -0.72176296, -0.72176296, -0.72176296,\n",
       "       -0.72176296, -0.72176296, -0.72176296, -0.72176296, -0.72176296,\n",
       "       -0.72176296, -0.72176296, -0.72176296, -0.72176296, -0.72176296,\n",
       "       -0.72176296, -0.72176296, -0.72176296, -0.72176296, -0.72176296,\n",
       "       -0.72176296, -0.72176296, -0.72176296, -0.72176296, -0.72176296,\n",
       "       -0.72176296, -0.72176296, -0.72176296, -0.72176296, -0.72176296,\n",
       "       -0.72176296, -0.72176296, -0.72176296, -0.72176296, -0.72176296,\n",
       "       -0.72176296, -0.72176296, -0.72176296, -0.72176296, -0.72176296,\n",
       "       -0.72176296, -0.72176296, -0.72176296, -0.72176296, -0.72176296,\n",
       "       -0.72176296, -0.72176296, -0.72176296, -0.72176296, -0.72176296,\n",
       "        0.01332773,  0.01332773,  0.01332773,  0.01332773,  0.01332773,\n",
       "        0.01332773,  0.01332773,  0.01332773,  0.01332773,  0.01332773,\n",
       "        0.01332773,  0.01332773,  0.01332773,  0.01332773,  0.01332773,\n",
       "        0.01332773,  0.01332773,  0.01332773,  0.01332773,  0.01332773,\n",
       "        0.01332773,  0.01332773,  0.01332773,  0.01332773,  0.01332773,\n",
       "        0.01332773,  0.01332773,  0.01332773,  0.01332773,  0.01332773,\n",
       "        0.01332773,  0.01332773,  0.01332773,  0.01332773,  0.01332773,\n",
       "        0.01332773,  0.01332773,  0.01332773,  0.01332773,  0.01332773,\n",
       "        0.01332773,  0.01332773,  0.01332773,  0.01332773,  0.01332773,\n",
       "        0.01332773,  0.01332773,  0.01332773,  0.01332773,  0.01332773,\n",
       "        0.01332773,  0.01332773,  0.01332773,  0.01332773,  0.01332773,\n",
       "        0.01332773,  0.01332773,  0.01332773,  0.01332773,  0.01332773,\n",
       "        0.01332773,  0.01332773,  0.01332773,  0.01332773,  0.01332773,\n",
       "        0.01332773,  0.01332773,  0.01332773,  0.01332773,  0.01332773,\n",
       "        0.01332773,  0.01332773,  0.01332773,  0.01332773,  0.01332773,\n",
       "        0.01332773,  0.01332773,  0.01332773,  0.01332773,  0.01332773,\n",
       "        0.01332773,  0.01332773,  0.01332773,  0.01332773,  0.01332773,\n",
       "        0.01332773,  0.01332773,  0.01332773,  0.01332773,  0.01332773,\n",
       "        0.01332773,  0.01332773,  0.01332773,  0.01332773,  0.01332773,\n",
       "        0.01332773,  0.01332773,  0.01332773,  0.01332773,  0.01332773,\n",
       "        0.01332773,  0.01332773,  0.01332773,  0.01332773,  0.01332773,\n",
       "        0.01332773,  0.01332773,  0.01332773,  0.01332773,  0.53043458,\n",
       "        0.53043458,  0.53043458,  0.53043458,  0.53043458,  0.53043458,\n",
       "        0.53043458,  0.53043458,  0.53043458,  0.53043458,  0.53043458,\n",
       "        0.53043458,  0.53043458,  0.53043458,  0.53043458,  0.53043458,\n",
       "        0.53043458,  0.53043458,  0.53043458,  0.53043458,  0.53043458,\n",
       "        0.53043458,  0.53043458,  0.53043458,  0.53043458,  0.53043458,\n",
       "        0.53043458,  0.53043458,  0.53043458,  0.53043458,  0.53043458,\n",
       "        0.53043458,  0.53043458,  0.53043458,  0.53043458,  0.53043458,\n",
       "        0.53043458,  0.53043458,  0.53043458,  0.53043458,  0.53043458,\n",
       "        0.53043458,  0.53043458,  0.53043458,  0.53043458,  0.53043458,\n",
       "        0.53043458,  0.53043458,  0.53043458,  0.53043458,  0.53043458,\n",
       "        0.53043458,  0.53043458,  0.53043458,  0.53043458,  0.53043458,\n",
       "        0.53043458,  0.53043458,  0.53043458,  0.53043458,  0.53043458,\n",
       "        0.53043458,  0.53043458,  0.53043458,  0.53043458,  0.53043458,\n",
       "        0.53043458,  0.53043458,  0.53043458,  0.53043458,  0.53043458,\n",
       "        0.53043458,  0.53043458,  0.53043458,  0.53043458,  0.53043458,\n",
       "        0.53043458,  0.53043458,  0.53043458,  0.53043458,  0.53043458,\n",
       "        0.53043458,  0.53043458,  0.53043458,  0.53043458,  0.53043458,\n",
       "        0.53043458,  0.53043458,  0.53043458,  0.53043458,  0.53043458,\n",
       "        0.53043458,  0.53043458,  0.53043458,  0.53043458,  0.53043458,\n",
       "        0.53043458,  0.53043458,  0.53043458,  0.53043458,  0.53043458,\n",
       "        0.53043458,  0.53043458,  0.53043458,  0.53043458,  0.53043458,\n",
       "        0.53043458,  0.53043458,  0.53043458,  0.53043458,  0.53043458,\n",
       "        0.53043458,  0.53043458,  0.53043458,  0.53043458,  0.53043458,\n",
       "        0.53043458,  0.53043458,  0.98570463,  0.98570463,  0.98570463,\n",
       "        0.98570463,  0.98570463,  0.98570463,  0.98570463,  0.98570463,\n",
       "        0.98570463,  0.98570463,  0.98570463,  0.98570463,  0.98570463,\n",
       "        0.98570463,  0.98570463,  0.98570463,  0.98570463,  0.98570463,\n",
       "        0.98570463,  0.98570463,  0.98570463,  0.98570463,  0.98570463,\n",
       "        0.98570463,  0.98570463,  0.98570463,  0.98570463,  0.98570463,\n",
       "        0.98570463,  0.98570463,  0.98570463,  0.98570463,  0.98570463,\n",
       "        0.98570463,  0.98570463,  0.98570463,  0.98570463,  0.98570463,\n",
       "        0.98570463,  0.98570463,  0.98570463,  0.98570463,  0.98570463,\n",
       "        0.98570463,  0.98570463,  0.98570463,  0.98570463,  0.98570463,\n",
       "        0.98570463,  0.98570463,  0.98570463,  0.98570463,  0.98570463,\n",
       "        0.98570463,  0.98570463,  0.98570463,  0.98570463,  0.98570463,\n",
       "        0.98570463,  0.98570463,  0.98570463,  0.98570463,  0.98570463,\n",
       "        0.98570463,  0.98570463,  0.98570463,  0.98570463,  0.98570463,\n",
       "        0.98570463,  0.98570463,  0.98570463,  0.98570463,  0.98570463,\n",
       "        0.98570463,  0.98570463,  0.98570463,  0.98570463,  0.98570463,\n",
       "        0.98570463,  0.98570463,  0.98570463,  0.97481791,  0.97481791,\n",
       "        0.97481791,  0.97481791,  0.97481791,  0.97481791,  0.97481791,\n",
       "        0.97481791,  0.97481791,  0.97481791,  0.97481791,  0.97481791,\n",
       "        0.97481791,  0.97481791,  0.97481791,  0.97481791,  0.97481791,\n",
       "        0.97481791,  0.97481791,  0.97481791,  0.97481791,  0.97481791,\n",
       "        0.97481791,  0.97481791,  0.97481791,  0.97481791,  0.97481791,\n",
       "        0.97481791,  0.97481791,  0.97481791,  0.97481791,  0.97481791,\n",
       "        0.97481791,  0.97481791,  0.97481791,  0.97481791,  0.97481791,\n",
       "        0.97481791,  0.97481791,  0.97481791,  0.97481791,  0.97481791,\n",
       "        0.97481791,  0.97481791,  0.97481791,  0.97481791,  0.97481791,\n",
       "        0.97481791,  0.97481791,  0.97481791,  0.97481791,  0.97481791,\n",
       "        0.97481791,  0.97481791,  0.97481791,  0.97481791,  0.97481791,\n",
       "        0.97481791,  0.97481791,  0.97481791,  0.97481791,  0.97481791,\n",
       "        0.97481791,  0.97481791,  0.97481791,  0.97481791,  0.97481791,\n",
       "        0.97481791,  0.97481791,  0.97481791,  0.97481791,  0.97481791,\n",
       "        0.97481791,  0.97481791,  0.97481791,  0.97481791,  0.97481791,\n",
       "        0.97481791,  0.97481791,  0.97481791,  0.97481791,  0.97481791,\n",
       "        0.97481791,  0.97481791,  0.97481791,  0.97481791,  0.97481791,\n",
       "        0.97481791,  0.97481791,  0.97481791,  0.97481791,  0.97481791,\n",
       "        0.97481791,  0.97481791,  0.97481791,  0.97481791,  0.97481791,\n",
       "        0.97481791,  0.97481791,  0.97481791,  0.97481791,  0.97481791,\n",
       "        0.97481791,  0.97481791,  0.97481791,  0.97481791,  0.97481791,\n",
       "        0.97481791,  0.97481791,  0.97481791,  0.97481791,  0.97481791,\n",
       "        0.97481791,  0.97481791,  0.97481791,  0.38539229,  0.38539229,\n",
       "        0.38539229,  0.38539229,  0.38539229,  0.38539229,  0.38539229,\n",
       "        0.38539229,  0.38539229,  0.38539229,  0.38539229,  0.38539229,\n",
       "        0.38539229,  0.38539229,  0.38539229,  0.38539229,  0.38539229,\n",
       "        0.38539229,  0.38539229,  0.38539229,  0.38539229,  0.38539229,\n",
       "        0.38539229,  0.38539229,  0.38539229,  0.38539229,  0.38539229,\n",
       "        0.38539229,  0.38539229,  0.38539229,  0.38539229,  0.38539229,\n",
       "        0.38539229,  0.38539229,  0.38539229,  0.38539229,  0.38539229,\n",
       "        0.38539229,  0.38539229,  0.38539229,  0.38539229,  0.38539229,\n",
       "        0.38539229,  0.38539229,  0.38539229,  0.38539229,  0.38539229,\n",
       "        0.38539229,  0.38539229,  0.38539229,  0.38539229,  0.38539229,\n",
       "        0.38539229,  0.38539229,  0.38539229,  0.38539229,  0.38539229,\n",
       "        0.38539229,  0.38539229,  0.38539229,  0.38539229,  0.38539229,\n",
       "        0.38539229,  0.38539229,  0.38539229,  0.38539229,  0.38539229,\n",
       "        0.38539229,  0.38539229,  0.38539229,  0.38539229,  0.38539229,\n",
       "        0.38539229,  0.38539229,  0.38539229,  0.38539229,  0.38539229,\n",
       "        0.38539229,  0.38539229,  0.38539229,  0.38539229,  0.38539229,\n",
       "        0.38539229,  0.38539229,  0.38539229,  0.38539229,  0.38539229,\n",
       "        0.38539229,  0.38539229,  0.38539229,  0.38539229,  0.38539229,\n",
       "        0.38539229,  0.38539229,  0.38539229,  0.38539229,  0.38539229,\n",
       "        0.38539229,  0.38539229,  0.38539229,  0.38539229,  0.38539229,\n",
       "        0.38539229,  0.38539229,  0.38539229,  0.38539229,  0.38539229,\n",
       "        0.38539229,  0.38539229,  0.38539229,  0.38539229,  0.38539229])"
      ]
     },
     "execution_count": 105,
     "metadata": {},
     "output_type": "execute_result"
    }
   ],
   "source": [
    "# 测试集 line 也要相同地分箱\n",
    "\n",
    "line_binned = enc.transform(line)"
   ]
  },
  {
   "cell_type": "code",
   "execution_count": 106,
   "metadata": {},
   "outputs": [
    {
     "data": {
      "text/plain": [
       "(1000,)"
      ]
     },
     "execution_count": 106,
     "metadata": {},
     "output_type": "execute_result"
    }
   ],
   "source": [
    "LinearR_.predict(line_binned).shape"
   ]
  },
  {
   "cell_type": "code",
   "execution_count": 110,
   "metadata": {},
   "outputs": [],
   "source": [
    "TreeR_ = DecisionTreeRegressor(random_state=0).fit(X_binned, y)"
   ]
  },
  {
   "cell_type": "code",
   "execution_count": 113,
   "metadata": {},
   "outputs": [
    {
     "data": {
      "image/png": "[encoded data removed]",
      "text/plain": [
       "<Figure size 720x288 with 2 Axes>"
      ]
     },
     "metadata": {
      "needs_background": "light"
     },
     "output_type": "display_data"
    }
   ],
   "source": [
    "# 绘图\n",
    "\n",
    "fig, (ax1, ax2) = plt.subplots(ncols=2\n",
    "                               ,sharey=True # 两种图共享 y 轴刻度\n",
    "                               ,figsize=(10, 4)\n",
    "                              )\n",
    "\n",
    "ax1.plot(line, LinearR.predict(line)\n",
    "         ,linewidth=2\n",
    "         ,color=\"green\"\n",
    "         ,label=\"linear regression\"\n",
    "        )\n",
    "ax1.plot(line, TreeR.predict(line)\n",
    "         ,linewidth=2\n",
    "         ,color=\"red\"\n",
    "         ,label=\"tree regression\"\n",
    "        )\n",
    "ax1.plot(X[:, 0], y, \"o\", c=\"k\")\n",
    "ax1.legend(loc=\"best\")\n",
    "ax1.set_xlabel(\"input fiture\")\n",
    "ax1.set_ylabel(\"regression output\")\n",
    "\n",
    "ax2.plot(line\n",
    "         ,LinearR_.predict(line_binned)\n",
    "         ,linewidth=2\n",
    "         ,color=\"green\"\n",
    "         ,linestyle=\"-\"\n",
    "         ,label=\"linear regression\"\n",
    "        )\n",
    "ax2.plot(line\n",
    "         ,TreeR_.predict(line_binned)\n",
    "         ,linewidth=2\n",
    "         ,color=\"red\"\n",
    "         ,linestyle=\":\"\n",
    "         ,label=\"tree regression\"\n",
    "        )\n",
    "\n",
    "# 绘制和箱宽一致的竖线\n",
    "ax2.vlines(enc.bin_edges_[0]\n",
    "            ,*plt.gca().get_ylim() # y 的上限和下限\n",
    "            ,linewidth=1\n",
    "            ,alpha=0.2\n",
    "           )\n",
    "\n",
    "ax2.plot(X[:, 0], y, \"o\", c=\"k\")\n",
    "\n",
    "ax2.legend(loc=\"best\")\n",
    "ax2.set_title(\"result after discretization\")\n",
    "plt.tight_layout()\n",
    "plt.show()"
   ]
  },
  {
   "cell_type": "code",
   "execution_count": 117,
   "metadata": {},
   "outputs": [
    {
     "name": "stdout",
     "output_type": "stream",
     "text": [
      "0.8649069759304868\n"
     ]
    },
    {
     "data": {
      "image/png": "[encoded data removed]",
      "text/plain": [
       "<Figure size 360x288 with 1 Axes>"
      ]
     },
     "metadata": {
      "needs_background": "light"
     },
     "output_type": "display_data"
    }
   ],
   "source": [
    "# 箱数减少为 5\n",
    "enc = KBinsDiscretizer(n_bins=5,encode=\"onehot\")\n",
    "X_binned = enc.fit_transform(X)\n",
    "line_binned = enc.transform(line)\n",
    "\n",
    "fig, ax2 = plt.subplots(1, figsize=(5, 4))\n",
    "\n",
    "LinearR_ = LR().fit(X_binned, y)\n",
    "print(LinearR_.score(line_binned, np.sin(line)))\n",
    "TreeR_ = DecisionTreeRegressor(random_state=0).fit(X_binned, y)\n",
    "\n",
    "ax2.plot(line\n",
    "         ,LinearR_.predict(line_binned)\n",
    "         ,linewidth=2\n",
    "         ,color=\"green\"\n",
    "         ,linestyle=\"-\"\n",
    "         ,label=\"linear regression\"\n",
    "        )\n",
    "ax2.plot(line\n",
    "         ,TreeR_.predict(line_binned)\n",
    "         ,linewidth=2\n",
    "         ,color=\"red\"\n",
    "         ,linestyle=\":\"\n",
    "         ,label=\"tree regression\"\n",
    "        )\n",
    "\n",
    "# 绘制和箱宽一致的竖线\n",
    "ax2.vlines(enc.bin_edges_[0]\n",
    "            ,*plt.gca().get_ylim() # y 的上限和下限\n",
    "            ,linewidth=1\n",
    "            ,alpha=0.2\n",
    "           )\n",
    "\n",
    "ax2.plot(X[:, 0], y, \"o\", c=\"k\")\n",
    "\n",
    "ax2.legend(loc=\"best\")\n",
    "ax2.set_title(\"result after discretization\")\n",
    "plt.tight_layout()\n",
    "plt.show()"
   ]
  },
  {
   "cell_type": "code",
   "execution_count": 121,
   "metadata": {},
   "outputs": [
    {
     "data": {
      "image/png": "[encoded data removed]",
      "text/plain": [
       "<Figure size 432x360 with 1 Axes>"
      ]
     },
     "metadata": {
      "needs_background": "light"
     },
     "output_type": "display_data"
    }
   ],
   "source": [
    "# 交叉验证选箱数\n",
    "\n",
    "from sklearn.model_selection import cross_val_score\n",
    "\n",
    "pred, score, var = [], [], []\n",
    "binsrange = [2, 5, 10, 15, 20, 30]\n",
    "\n",
    "for i in binsrange:\n",
    "    # 实例化分箱类\n",
    "    enc = KBinsDiscretizer(n_bins=i, encode=\"onehot\")\n",
    "    # 转换数据\n",
    "    X_binned = enc.fit_transform(X)\n",
    "    line_binned = enc.transform(line)\n",
    "    # 建模\n",
    "    LinearR_ = LR()\n",
    "    cvresult = cross_val_score(LinearR_, X_binned, y, cv=5)\n",
    "    score.append(cvresult.mean())\n",
    "    var.append(cvresult.var())\n",
    "    pred.append(LinearR_.fit(X_binned, y).score(line_binned, np.sin(line)))\n",
    "    \n",
    "plt.figure(figsize=(6, 5))\n",
    "plt.plot(binsrange, pred, c=\"orange\", label=\"test\") # 测试数据\n",
    "plt.plot(binsrange, score, c=\"k\", label=\"full data\") # 全数据上交叉验证结果均值\n",
    "# 围绕在均值两边的方差\n",
    "plt.plot(binsrange, score + np.array(var) * 0.5, c=\"red\", linestyle=\"--\", label=\"var\") \n",
    "plt.plot(binsrange, score - np.array(var) * 0.5, c=\"red\", linestyle=\"--\")\n",
    "plt.legend()\n",
    "plt.show()"
   ]
  },
  {
   "cell_type": "markdown",
   "metadata": {},
   "source": [
    "# 多项式回归"
   ]
  },
  {
   "cell_type": "code",
   "execution_count": 122,
   "metadata": {},
   "outputs": [],
   "source": [
    "from sklearn.preprocessing import PolynomialFeatures"
   ]
  },
  {
   "cell_type": "code",
   "execution_count": 123,
   "metadata": {},
   "outputs": [
    {
     "data": {
      "text/plain": [
       "array([[1],\n",
       "       [2],\n",
       "       [3]])"
      ]
     },
     "execution_count": 123,
     "metadata": {},
     "output_type": "execute_result"
    }
   ],
   "source": [
    "# 原始数据一维\n",
    "X1 = np.arange(1, 4).reshape(-1, 1)\n",
    "X1"
   ]
  },
  {
   "cell_type": "code",
   "execution_count": 124,
   "metadata": {},
   "outputs": [],
   "source": [
    "# 二次多项式\n",
    "\n",
    "poly = PolynomialFeatures(degree=2)"
   ]
  },
  {
   "cell_type": "code",
   "execution_count": 125,
   "metadata": {},
   "outputs": [],
   "source": [
    "X1_ = poly.fit_transform(X1)"
   ]
  },
  {
   "cell_type": "code",
   "execution_count": 126,
   "metadata": {},
   "outputs": [
    {
     "data": {
      "text/plain": [
       "array([[1., 1., 1.],\n",
       "       [1., 2., 4.],\n",
       "       [1., 3., 9.]])"
      ]
     },
     "execution_count": 126,
     "metadata": {},
     "output_type": "execute_result"
    }
   ],
   "source": [
    "X1_"
   ]
  },
  {
   "cell_type": "code",
   "execution_count": 127,
   "metadata": {},
   "outputs": [],
   "source": [
    "# 三次多项式\n",
    "poly = PolynomialFeatures(degree=3)"
   ]
  },
  {
   "cell_type": "code",
   "execution_count": 128,
   "metadata": {},
   "outputs": [],
   "source": [
    "X1_3 = poly.fit_transform(X1)"
   ]
  },
  {
   "cell_type": "code",
   "execution_count": 129,
   "metadata": {},
   "outputs": [
    {
     "data": {
      "text/plain": [
       "array([[ 1.,  1.,  1.,  1.],\n",
       "       [ 1.,  2.,  4.,  8.],\n",
       "       [ 1.,  3.,  9., 27.]])"
      ]
     },
     "execution_count": 129,
     "metadata": {},
     "output_type": "execute_result"
    }
   ],
   "source": [
    "X1_3"
   ]
  },
  {
   "cell_type": "code",
   "execution_count": 135,
   "metadata": {},
   "outputs": [
    {
     "data": {
      "text/plain": [
       "array([[ 1.,  1.,  1.],\n",
       "       [ 2.,  4.,  8.],\n",
       "       [ 3.,  9., 27.]])"
      ]
     },
     "execution_count": 135,
     "metadata": {},
     "output_type": "execute_result"
    }
   ],
   "source": [
    "PolynomialFeatures(degree=3, include_bias=False).fit_transform(X1)"
   ]
  },
  {
   "cell_type": "code",
   "execution_count": 136,
   "metadata": {},
   "outputs": [
    {
     "data": {
      "text/plain": [
       "(3, 4)"
      ]
     },
     "execution_count": 136,
     "metadata": {},
     "output_type": "execute_result"
    }
   ],
   "source": [
    "xxx = PolynomialFeatures(degree=3).fit_transform(X1)\n",
    "xxx.shape"
   ]
  },
  {
   "cell_type": "code",
   "execution_count": 137,
   "metadata": {},
   "outputs": [
    {
     "data": {
      "text/plain": [
       "array([ 0.49671415, -0.1382643 ,  0.64768854])"
      ]
     },
     "execution_count": 137,
     "metadata": {},
     "output_type": "execute_result"
    }
   ],
   "source": [
    "rnd = np.random.RandomState(42) #设置随机数种子\n",
    "y = rnd.randn(3)\n",
    "y"
   ]
  },
  {
   "cell_type": "code",
   "execution_count": 138,
   "metadata": {},
   "outputs": [
    {
     "data": {
      "text/plain": [
       "array([ 1.36002321e-15, -3.51045297e-01, -6.06987134e-01,  2.19575463e-01])"
      ]
     },
     "execution_count": 138,
     "metadata": {},
     "output_type": "execute_result"
    }
   ],
   "source": [
    "# 产生了多少个系数\n",
    "LR().fit(xxx, y).coef_"
   ]
  },
  {
   "cell_type": "code",
   "execution_count": 139,
   "metadata": {},
   "outputs": [
    {
     "data": {
      "text/plain": [
       "1.2351711202036895"
      ]
     },
     "execution_count": 139,
     "metadata": {},
     "output_type": "execute_result"
    }
   ],
   "source": [
    "LR().fit(xxx, y).intercept_"
   ]
  },
  {
   "cell_type": "code",
   "execution_count": 140,
   "metadata": {},
   "outputs": [
    {
     "data": {
      "text/plain": [
       "array([ 1.00596411,  0.06916756, -0.83619415,  0.25777663])"
      ]
     },
     "execution_count": 140,
     "metadata": {},
     "output_type": "execute_result"
    }
   ],
   "source": [
    "LR(fit_intercept=False).fit(xxx, y).coef_"
   ]
  },
  {
   "cell_type": "code",
   "execution_count": 141,
   "metadata": {},
   "outputs": [
    {
     "data": {
      "text/plain": [
       "0.0"
      ]
     },
     "execution_count": 141,
     "metadata": {},
     "output_type": "execute_result"
    }
   ],
   "source": [
    "LR(fit_intercept=False).fit(xxx, y).intercept_"
   ]
  },
  {
   "cell_type": "code",
   "execution_count": 142,
   "metadata": {},
   "outputs": [
    {
     "data": {
      "text/plain": [
       "array([[0, 1],\n",
       "       [2, 3],\n",
       "       [4, 5]])"
      ]
     },
     "execution_count": 142,
     "metadata": {},
     "output_type": "execute_result"
    }
   ],
   "source": [
    "# 二维特征的情况\n",
    "\n",
    "X2 = np.arange(6).reshape(3, 2)\n",
    "X2"
   ]
  },
  {
   "cell_type": "code",
   "execution_count": 144,
   "metadata": {},
   "outputs": [
    {
     "data": {
      "text/plain": [
       "array([[ 1.,  0.,  1.,  0.,  0.,  1.],\n",
       "       [ 1.,  2.,  3.,  4.,  6.,  9.],\n",
       "       [ 1.,  4.,  5., 16., 20., 25.]])"
      ]
     },
     "execution_count": 144,
     "metadata": {},
     "output_type": "execute_result"
    }
   ],
   "source": [
    "PolynomialFeatures(degree=2).fit_transform(X2)"
   ]
  },
  {
   "cell_type": "code",
   "execution_count": 145,
   "metadata": {},
   "outputs": [
    {
     "data": {
      "text/plain": [
       "array([[ 1.,  0.,  1.,  0.],\n",
       "       [ 1.,  2.,  3.,  6.],\n",
       "       [ 1.,  4.,  5., 20.]])"
      ]
     },
     "execution_count": 145,
     "metadata": {},
     "output_type": "execute_result"
    }
   ],
   "source": [
    "# 只生成交互项\n",
    "PolynomialFeatures(degree=2, interaction_only=True).fit_transform(X2)"
   ]
  },
  {
   "cell_type": "markdown",
   "metadata": {},
   "source": [
    "# 多项式回归处理非线性问题"
   ]
  },
  {
   "cell_type": "code",
   "execution_count": 146,
   "metadata": {},
   "outputs": [],
   "source": [
    "np.random.RandomState(42)\n",
    "X = rnd.uniform(-3, 3, size=100)\n",
    "y = np.sin(X) + rnd.normal(size=len(X)) / 3"
   ]
  },
  {
   "cell_type": "code",
   "execution_count": 147,
   "metadata": {},
   "outputs": [],
   "source": [
    "X = X.reshape(-1, 1)"
   ]
  },
  {
   "cell_type": "code",
   "execution_count": 148,
   "metadata": {},
   "outputs": [],
   "source": [
    "line = np.linspace(-3, 3, 1000, endpoint=False).reshape(-1, 1)"
   ]
  },
  {
   "cell_type": "code",
   "execution_count": 149,
   "metadata": {},
   "outputs": [],
   "source": [
    "LinearR = LR().fit(X, y)"
   ]
  },
  {
   "cell_type": "code",
   "execution_count": 150,
   "metadata": {},
   "outputs": [
    {
     "data": {
      "text/plain": [
       "0.6116049215467445"
      ]
     },
     "execution_count": 150,
     "metadata": {},
     "output_type": "execute_result"
    }
   ],
   "source": [
    "LinearR.score(X, y)"
   ]
  },
  {
   "cell_type": "code",
   "execution_count": 151,
   "metadata": {},
   "outputs": [
    {
     "data": {
      "text/plain": [
       "0.6826835831058071"
      ]
     },
     "execution_count": 151,
     "metadata": {},
     "output_type": "execute_result"
    }
   ],
   "source": [
    "LinearR.score(line, np.sin(line))"
   ]
  },
  {
   "cell_type": "code",
   "execution_count": 152,
   "metadata": {},
   "outputs": [],
   "source": [
    "# 5 次多项式拟合\n",
    "d = 5\n",
    "\n",
    "poly = PolynomialFeatures(degree=5)\n",
    "X_ = poly.fit_transform(X)\n",
    "line_ = poly.fit_transform(line)"
   ]
  },
  {
   "cell_type": "code",
   "execution_count": 153,
   "metadata": {},
   "outputs": [],
   "source": [
    "LinearR_ = LR().fit(X_, y)"
   ]
  },
  {
   "cell_type": "code",
   "execution_count": 154,
   "metadata": {},
   "outputs": [
    {
     "data": {
      "text/plain": [
       "0.8577085541714713"
      ]
     },
     "execution_count": 154,
     "metadata": {},
     "output_type": "execute_result"
    }
   ],
   "source": [
    "LinearR_.score(X_, y)"
   ]
  },
  {
   "cell_type": "code",
   "execution_count": 156,
   "metadata": {},
   "outputs": [
    {
     "data": {
      "text/plain": [
       "0.9881634624332679"
      ]
     },
     "execution_count": 156,
     "metadata": {},
     "output_type": "execute_result"
    }
   ],
   "source": [
    "LinearR_.score(line_, np.sin(line))"
   ]
  },
  {
   "cell_type": "code",
   "execution_count": 162,
   "metadata": {},
   "outputs": [
    {
     "data": {
      "image/png": "[encoded data removed]",
      "text/plain": [
       "<Figure size 432x288 with 1 Axes>"
      ]
     },
     "metadata": {
      "needs_background": "light"
     },
     "output_type": "display_data"
    }
   ],
   "source": [
    "# 可视化\n",
    "\n",
    "d = 6\n",
    "\n",
    "poly = PolynomialFeatures(degree=d)\n",
    "X_ = poly.fit_transform(X)\n",
    "line_ = poly.fit_transform(line)\n",
    "LinearR_ = LR().fit(X_, y)\n",
    "\n",
    "fig, ax1 = plt.subplots(1)\n",
    "\n",
    "ax1.plot(line, LinearR.predict(line), linewidth=2, color=\"green\", label=\"linear regression\")\n",
    "ax1.plot(line, LinearR_.predict(line_), linewidth=2, color=\"red\", label=\"polynomial regression\")\n",
    "\n",
    "ax1.plot(X[:, 0], y, \"o\", c=\"k\")\n",
    "\n",
    "ax1.legend(loc=\"best\")\n",
    "ax1.set_ylabel(\"regression output\")\n",
    "ax1.set_xlabel(\"input feature\")\n",
    "ax1.set_title(\"Linear Regression ordinary vs poly\")\n",
    "\n",
    "plt.tight_layout()\n",
    "plt.show()"
   ]
  },
  {
   "cell_type": "code",
   "execution_count": 163,
   "metadata": {},
   "outputs": [
    {
     "data": {
      "text/plain": [
       "array([[0, 1, 2],\n",
       "       [3, 4, 5],\n",
       "       [6, 7, 8]])"
      ]
     },
     "execution_count": 163,
     "metadata": {},
     "output_type": "execute_result"
    }
   ],
   "source": [
    "# 多项式回归的可解释性\n",
    "\n",
    "X = np.arange(9).reshape(3, 3)\n",
    "X"
   ]
  },
  {
   "cell_type": "code",
   "execution_count": 164,
   "metadata": {},
   "outputs": [],
   "source": [
    "poly = PolynomialFeatures(degree=5).fit(X)"
   ]
  },
  {
   "cell_type": "code",
   "execution_count": 165,
   "metadata": {},
   "outputs": [
    {
     "data": {
      "text/plain": [
       "['1',\n",
       " 'x0',\n",
       " 'x1',\n",
       " 'x2',\n",
       " 'x0^2',\n",
       " 'x0 x1',\n",
       " 'x0 x2',\n",
       " 'x1^2',\n",
       " 'x1 x2',\n",
       " 'x2^2',\n",
       " 'x0^3',\n",
       " 'x0^2 x1',\n",
       " 'x0^2 x2',\n",
       " 'x0 x1^2',\n",
       " 'x0 x1 x2',\n",
       " 'x0 x2^2',\n",
       " 'x1^3',\n",
       " 'x1^2 x2',\n",
       " 'x1 x2^2',\n",
       " 'x2^3',\n",
       " 'x0^4',\n",
       " 'x0^3 x1',\n",
       " 'x0^3 x2',\n",
       " 'x0^2 x1^2',\n",
       " 'x0^2 x1 x2',\n",
       " 'x0^2 x2^2',\n",
       " 'x0 x1^3',\n",
       " 'x0 x1^2 x2',\n",
       " 'x0 x1 x2^2',\n",
       " 'x0 x2^3',\n",
       " 'x1^4',\n",
       " 'x1^3 x2',\n",
       " 'x1^2 x2^2',\n",
       " 'x1 x2^3',\n",
       " 'x2^4',\n",
       " 'x0^5',\n",
       " 'x0^4 x1',\n",
       " 'x0^4 x2',\n",
       " 'x0^3 x1^2',\n",
       " 'x0^3 x1 x2',\n",
       " 'x0^3 x2^2',\n",
       " 'x0^2 x1^3',\n",
       " 'x0^2 x1^2 x2',\n",
       " 'x0^2 x1 x2^2',\n",
       " 'x0^2 x2^3',\n",
       " 'x0 x1^4',\n",
       " 'x0 x1^3 x2',\n",
       " 'x0 x1^2 x2^2',\n",
       " 'x0 x1 x2^3',\n",
       " 'x0 x2^4',\n",
       " 'x1^5',\n",
       " 'x1^4 x2',\n",
       " 'x1^3 x2^2',\n",
       " 'x1^2 x2^3',\n",
       " 'x1 x2^4',\n",
       " 'x2^5']"
      ]
     },
     "execution_count": 165,
     "metadata": {},
     "output_type": "execute_result"
    }
   ],
   "source": [
    "poly.get_feature_names()"
   ]
  },
  {
   "cell_type": "code",
   "execution_count": 181,
   "metadata": {},
   "outputs": [],
   "source": [
    "X = pd.DataFrame(housevalue.data)\n",
    "y = housevalue.target"
   ]
  },
  {
   "cell_type": "code",
   "execution_count": 182,
   "metadata": {},
   "outputs": [
    {
     "data": {
      "text/plain": [
       "['MedInc',\n",
       " 'HouseAge',\n",
       " 'AveRooms',\n",
       " 'AveBedrms',\n",
       " 'Population',\n",
       " 'AveOccup',\n",
       " 'Latitude',\n",
       " 'Longitude']"
      ]
     },
     "execution_count": 182,
     "metadata": {},
     "output_type": "execute_result"
    }
   ],
   "source": [
    "housevalue.feature_names"
   ]
  },
  {
   "cell_type": "code",
   "execution_count": 183,
   "metadata": {},
   "outputs": [
    {
     "data": {
      "text/plain": [
       "Index(['住户收入中位数', '房屋使用年代中位数', '平均房间数目', '平均卧室数目', '街区人口', '平均入住率', '街区的纬度',\n",
       "       '街区的经度'],\n",
       "      dtype='object')"
      ]
     },
     "execution_count": 183,
     "metadata": {},
     "output_type": "execute_result"
    }
   ],
   "source": [
    "X.columns = [\"住户收入中位数\",\"房屋使用年代中位数\",\"平均房间数目\"\n",
    "             ,\"平均卧室数目\",\"街区人口\",\"平均入住率\",\"街区的纬度\",\"街区的经度\"]\n",
    "X.columns"
   ]
  },
  {
   "cell_type": "code",
   "execution_count": 184,
   "metadata": {},
   "outputs": [
    {
     "data": {
      "text/html": [
       "<div>\n",
       "<style scoped>\n",
       "    .dataframe tbody tr th:only-of-type {\n",
       "        vertical-align: middle;\n",
       "    }\n",
       "\n",
       "    .dataframe tbody tr th {\n",
       "        vertical-align: top;\n",
       "    }\n",
       "\n",
       "    .dataframe thead th {\n",
       "        text-align: right;\n",
       "    }\n",
       "</style>\n",
       "<table border=\"1\" class=\"dataframe\">\n",
       "  <thead>\n",
       "    <tr style=\"text-align: right;\">\n",
       "      <th></th>\n",
       "      <th>住户收入中位数</th>\n",
       "      <th>房屋使用年代中位数</th>\n",
       "      <th>平均房间数目</th>\n",
       "      <th>平均卧室数目</th>\n",
       "      <th>街区人口</th>\n",
       "      <th>平均入住率</th>\n",
       "      <th>街区的纬度</th>\n",
       "      <th>街区的经度</th>\n",
       "    </tr>\n",
       "  </thead>\n",
       "  <tbody>\n",
       "    <tr>\n",
       "      <th>0</th>\n",
       "      <td>8.3252</td>\n",
       "      <td>41.0</td>\n",
       "      <td>6.984127</td>\n",
       "      <td>1.023810</td>\n",
       "      <td>322.0</td>\n",
       "      <td>2.555556</td>\n",
       "      <td>37.88</td>\n",
       "      <td>-122.23</td>\n",
       "    </tr>\n",
       "    <tr>\n",
       "      <th>1</th>\n",
       "      <td>8.3014</td>\n",
       "      <td>21.0</td>\n",
       "      <td>6.238137</td>\n",
       "      <td>0.971880</td>\n",
       "      <td>2401.0</td>\n",
       "      <td>2.109842</td>\n",
       "      <td>37.86</td>\n",
       "      <td>-122.22</td>\n",
       "    </tr>\n",
       "    <tr>\n",
       "      <th>2</th>\n",
       "      <td>7.2574</td>\n",
       "      <td>52.0</td>\n",
       "      <td>8.288136</td>\n",
       "      <td>1.073446</td>\n",
       "      <td>496.0</td>\n",
       "      <td>2.802260</td>\n",
       "      <td>37.85</td>\n",
       "      <td>-122.24</td>\n",
       "    </tr>\n",
       "    <tr>\n",
       "      <th>3</th>\n",
       "      <td>5.6431</td>\n",
       "      <td>52.0</td>\n",
       "      <td>5.817352</td>\n",
       "      <td>1.073059</td>\n",
       "      <td>558.0</td>\n",
       "      <td>2.547945</td>\n",
       "      <td>37.85</td>\n",
       "      <td>-122.25</td>\n",
       "    </tr>\n",
       "    <tr>\n",
       "      <th>4</th>\n",
       "      <td>3.8462</td>\n",
       "      <td>52.0</td>\n",
       "      <td>6.281853</td>\n",
       "      <td>1.081081</td>\n",
       "      <td>565.0</td>\n",
       "      <td>2.181467</td>\n",
       "      <td>37.85</td>\n",
       "      <td>-122.25</td>\n",
       "    </tr>\n",
       "  </tbody>\n",
       "</table>\n",
       "</div>"
      ],
      "text/plain": [
       "   住户收入中位数  房屋使用年代中位数    平均房间数目    平均卧室数目    街区人口     平均入住率  街区的纬度   街区的经度\n",
       "0   8.3252       41.0  6.984127  1.023810   322.0  2.555556  37.88 -122.23\n",
       "1   8.3014       21.0  6.238137  0.971880  2401.0  2.109842  37.86 -122.22\n",
       "2   7.2574       52.0  8.288136  1.073446   496.0  2.802260  37.85 -122.24\n",
       "3   5.6431       52.0  5.817352  1.073059   558.0  2.547945  37.85 -122.25\n",
       "4   3.8462       52.0  6.281853  1.081081   565.0  2.181467  37.85 -122.25"
      ]
     },
     "execution_count": 184,
     "metadata": {},
     "output_type": "execute_result"
    }
   ],
   "source": [
    "X.head()"
   ]
  },
  {
   "cell_type": "code",
   "execution_count": 185,
   "metadata": {},
   "outputs": [],
   "source": [
    "poly = PolynomialFeatures(degree=2).fit(X,y)"
   ]
  },
  {
   "cell_type": "code",
   "execution_count": 186,
   "metadata": {},
   "outputs": [
    {
     "data": {
      "text/plain": [
       "['1',\n",
       " '住户收入中位数',\n",
       " '房屋使用年代中位数',\n",
       " '平均房间数目',\n",
       " '平均卧室数目',\n",
       " '街区人口',\n",
       " '平均入住率',\n",
       " '街区的纬度',\n",
       " '街区的经度',\n",
       " '住户收入中位数^2',\n",
       " '住户收入中位数 房屋使用年代中位数',\n",
       " '住户收入中位数 平均房间数目',\n",
       " '住户收入中位数 平均卧室数目',\n",
       " '住户收入中位数 街区人口',\n",
       " '住户收入中位数 平均入住率',\n",
       " '住户收入中位数 街区的纬度',\n",
       " '住户收入中位数 街区的经度',\n",
       " '房屋使用年代中位数^2',\n",
       " '房屋使用年代中位数 平均房间数目',\n",
       " '房屋使用年代中位数 平均卧室数目',\n",
       " '房屋使用年代中位数 街区人口',\n",
       " '房屋使用年代中位数 平均入住率',\n",
       " '房屋使用年代中位数 街区的纬度',\n",
       " '房屋使用年代中位数 街区的经度',\n",
       " '平均房间数目^2',\n",
       " '平均房间数目 平均卧室数目',\n",
       " '平均房间数目 街区人口',\n",
       " '平均房间数目 平均入住率',\n",
       " '平均房间数目 街区的纬度',\n",
       " '平均房间数目 街区的经度',\n",
       " '平均卧室数目^2',\n",
       " '平均卧室数目 街区人口',\n",
       " '平均卧室数目 平均入住率',\n",
       " '平均卧室数目 街区的纬度',\n",
       " '平均卧室数目 街区的经度',\n",
       " '街区人口^2',\n",
       " '街区人口 平均入住率',\n",
       " '街区人口 街区的纬度',\n",
       " '街区人口 街区的经度',\n",
       " '平均入住率^2',\n",
       " '平均入住率 街区的纬度',\n",
       " '平均入住率 街区的经度',\n",
       " '街区的纬度^2',\n",
       " '街区的纬度 街区的经度',\n",
       " '街区的经度^2']"
      ]
     },
     "execution_count": 186,
     "metadata": {},
     "output_type": "execute_result"
    }
   ],
   "source": [
    "poly.get_feature_names(X.columns)"
   ]
  },
  {
   "cell_type": "code",
   "execution_count": 187,
   "metadata": {},
   "outputs": [],
   "source": [
    "X_ = poly.transform(X)"
   ]
  },
  {
   "cell_type": "code",
   "execution_count": 188,
   "metadata": {},
   "outputs": [
    {
     "data": {
      "text/plain": [
       "[('1', 5.9195538644919796e-08),\n",
       " ('住户收入中位数', -11.243025714497596),\n",
       " ('房屋使用年代中位数', -0.8488985521763941),\n",
       " ('平均房间数目', 6.4410594078331895),\n",
       " ('平均卧室数目', -31.591331024586665),\n",
       " ('街区人口', 0.00040609072082741204),\n",
       " ('平均入住率', 1.0038623269919846),\n",
       " ('街区的纬度', 8.70568191718724),\n",
       " ('街区的经度', 5.880632760599423),\n",
       " ('住户收入中位数^2', -0.031308126361799526),\n",
       " ('住户收入中位数 房屋使用年代中位数', 0.0018599481873361814),\n",
       " ('住户收入中位数 平均房间数目', 0.0433020475128291),\n",
       " ('住户收入中位数 平均卧室数目', -0.18614228960857865),\n",
       " ('住户收入中位数 街区人口', 5.728312818152744e-05),\n",
       " ('住户收入中位数 平均入住率', -0.0025901946738786045),\n",
       " ('住户收入中位数 街区的纬度', -0.15250571590733897),\n",
       " ('住户收入中位数 街区的经度', -0.14424294455015796),\n",
       " ('房屋使用年代中位数^2', 0.0002117253023116225),\n",
       " ('房屋使用年代中位数 平均房间数目', -0.0012621898666516458),\n",
       " ('房屋使用年代中位数 平均卧室数目', 0.010611504443537928),\n",
       " ('房屋使用年代中位数 街区人口', 2.818851771461938e-06),\n",
       " ('房屋使用年代中位数 平均入住率', -0.0018171694526602094),\n",
       " ('房屋使用年代中位数 街区的纬度', -0.010069037289191623),\n",
       " ('房屋使用年代中位数 街区的经度', -0.009999501778545252),\n",
       " ('平均房间数目^2', 0.007269477300922367),\n",
       " ('平均房间数目 平均卧室数目', -0.0689064341190309),\n",
       " ('平均房间数目 街区人口', -6.8236552461808e-05),\n",
       " ('平均房间数目 平均入住率', 0.026887883949662388),\n",
       " ('平均房间数目 街区的纬度', 0.08750899395865966),\n",
       " ('平均房间数目 街区的经度', 0.08228903973670991),\n",
       " ('平均卧室数目^2', 0.1601809460734909),\n",
       " ('平均卧室数目 街区人口', 0.0005142639302596997),\n",
       " ('平均卧室数目 平均入住率', -0.08719114009879594),\n",
       " ('平均卧室数目 街区的纬度', -0.4370430327726923),\n",
       " ('平均卧室数目 街区的经度', -0.40415061139724323),\n",
       " ('街区人口^2', 2.7377922542792243e-09),\n",
       " ('街区人口 平均入住率', 1.9142674024886127e-05),\n",
       " ('街区人口 街区的纬度', 2.2952985819848032e-05),\n",
       " ('街区人口 街区的经度', 1.465677581551016e-05),\n",
       " ('平均入住率^2', 8.715610984450669e-05),\n",
       " ('平均入住率 街区的纬度', 0.021334459225117668),\n",
       " ('平均入住率 街区的经度', 0.016241293797757926),\n",
       " ('街区的纬度^2', 0.06188673571271988),\n",
       " ('街区的纬度 街区的经度', 0.10810717333006313),\n",
       " ('街区的经度^2', 0.03990773507114761)]"
      ]
     },
     "execution_count": 188,
     "metadata": {},
     "output_type": "execute_result"
    }
   ],
   "source": [
    "reg = LR().fit(X_, y)\n",
    "\n",
    "coef = reg.coef_\n",
    "\n",
    "[*zip(poly.get_feature_names(X.columns), reg.coef_)]"
   ]
  },
  {
   "cell_type": "code",
   "execution_count": 189,
   "metadata": {},
   "outputs": [
    {
     "data": {
      "text/html": [
       "<div>\n",
       "<style scoped>\n",
       "    .dataframe tbody tr th:only-of-type {\n",
       "        vertical-align: middle;\n",
       "    }\n",
       "\n",
       "    .dataframe tbody tr th {\n",
       "        vertical-align: top;\n",
       "    }\n",
       "\n",
       "    .dataframe thead th {\n",
       "        text-align: right;\n",
       "    }\n",
       "</style>\n",
       "<table border=\"1\" class=\"dataframe\">\n",
       "  <thead>\n",
       "    <tr style=\"text-align: right;\">\n",
       "      <th></th>\n",
       "      <th>feature</th>\n",
       "      <th>coef</th>\n",
       "    </tr>\n",
       "  </thead>\n",
       "  <tbody>\n",
       "    <tr>\n",
       "      <th>4</th>\n",
       "      <td>平均卧室数目</td>\n",
       "      <td>-31.5913</td>\n",
       "    </tr>\n",
       "    <tr>\n",
       "      <th>1</th>\n",
       "      <td>住户收入中位数</td>\n",
       "      <td>-11.243</td>\n",
       "    </tr>\n",
       "    <tr>\n",
       "      <th>2</th>\n",
       "      <td>房屋使用年代中位数</td>\n",
       "      <td>-0.848899</td>\n",
       "    </tr>\n",
       "    <tr>\n",
       "      <th>33</th>\n",
       "      <td>平均卧室数目 街区的纬度</td>\n",
       "      <td>-0.437043</td>\n",
       "    </tr>\n",
       "    <tr>\n",
       "      <th>34</th>\n",
       "      <td>平均卧室数目 街区的经度</td>\n",
       "      <td>-0.404151</td>\n",
       "    </tr>\n",
       "    <tr>\n",
       "      <th>12</th>\n",
       "      <td>住户收入中位数 平均卧室数目</td>\n",
       "      <td>-0.186142</td>\n",
       "    </tr>\n",
       "    <tr>\n",
       "      <th>15</th>\n",
       "      <td>住户收入中位数 街区的纬度</td>\n",
       "      <td>-0.152506</td>\n",
       "    </tr>\n",
       "    <tr>\n",
       "      <th>16</th>\n",
       "      <td>住户收入中位数 街区的经度</td>\n",
       "      <td>-0.144243</td>\n",
       "    </tr>\n",
       "    <tr>\n",
       "      <th>32</th>\n",
       "      <td>平均卧室数目 平均入住率</td>\n",
       "      <td>-0.0871911</td>\n",
       "    </tr>\n",
       "    <tr>\n",
       "      <th>25</th>\n",
       "      <td>平均房间数目 平均卧室数目</td>\n",
       "      <td>-0.0689064</td>\n",
       "    </tr>\n",
       "    <tr>\n",
       "      <th>9</th>\n",
       "      <td>住户收入中位数^2</td>\n",
       "      <td>-0.0313081</td>\n",
       "    </tr>\n",
       "    <tr>\n",
       "      <th>22</th>\n",
       "      <td>房屋使用年代中位数 街区的纬度</td>\n",
       "      <td>-0.010069</td>\n",
       "    </tr>\n",
       "    <tr>\n",
       "      <th>23</th>\n",
       "      <td>房屋使用年代中位数 街区的经度</td>\n",
       "      <td>-0.0099995</td>\n",
       "    </tr>\n",
       "    <tr>\n",
       "      <th>14</th>\n",
       "      <td>住户收入中位数 平均入住率</td>\n",
       "      <td>-0.00259019</td>\n",
       "    </tr>\n",
       "    <tr>\n",
       "      <th>21</th>\n",
       "      <td>房屋使用年代中位数 平均入住率</td>\n",
       "      <td>-0.00181717</td>\n",
       "    </tr>\n",
       "    <tr>\n",
       "      <th>18</th>\n",
       "      <td>房屋使用年代中位数 平均房间数目</td>\n",
       "      <td>-0.00126219</td>\n",
       "    </tr>\n",
       "    <tr>\n",
       "      <th>26</th>\n",
       "      <td>平均房间数目 街区人口</td>\n",
       "      <td>-6.82366e-05</td>\n",
       "    </tr>\n",
       "    <tr>\n",
       "      <th>35</th>\n",
       "      <td>街区人口^2</td>\n",
       "      <td>2.73779e-09</td>\n",
       "    </tr>\n",
       "    <tr>\n",
       "      <th>0</th>\n",
       "      <td>1</td>\n",
       "      <td>5.91955e-08</td>\n",
       "    </tr>\n",
       "    <tr>\n",
       "      <th>20</th>\n",
       "      <td>房屋使用年代中位数 街区人口</td>\n",
       "      <td>2.81885e-06</td>\n",
       "    </tr>\n",
       "    <tr>\n",
       "      <th>38</th>\n",
       "      <td>街区人口 街区的经度</td>\n",
       "      <td>1.46568e-05</td>\n",
       "    </tr>\n",
       "    <tr>\n",
       "      <th>36</th>\n",
       "      <td>街区人口 平均入住率</td>\n",
       "      <td>1.91427e-05</td>\n",
       "    </tr>\n",
       "    <tr>\n",
       "      <th>37</th>\n",
       "      <td>街区人口 街区的纬度</td>\n",
       "      <td>2.2953e-05</td>\n",
       "    </tr>\n",
       "    <tr>\n",
       "      <th>13</th>\n",
       "      <td>住户收入中位数 街区人口</td>\n",
       "      <td>5.72831e-05</td>\n",
       "    </tr>\n",
       "    <tr>\n",
       "      <th>39</th>\n",
       "      <td>平均入住率^2</td>\n",
       "      <td>8.71561e-05</td>\n",
       "    </tr>\n",
       "    <tr>\n",
       "      <th>17</th>\n",
       "      <td>房屋使用年代中位数^2</td>\n",
       "      <td>0.000211725</td>\n",
       "    </tr>\n",
       "    <tr>\n",
       "      <th>5</th>\n",
       "      <td>街区人口</td>\n",
       "      <td>0.000406091</td>\n",
       "    </tr>\n",
       "    <tr>\n",
       "      <th>31</th>\n",
       "      <td>平均卧室数目 街区人口</td>\n",
       "      <td>0.000514264</td>\n",
       "    </tr>\n",
       "    <tr>\n",
       "      <th>10</th>\n",
       "      <td>住户收入中位数 房屋使用年代中位数</td>\n",
       "      <td>0.00185995</td>\n",
       "    </tr>\n",
       "    <tr>\n",
       "      <th>24</th>\n",
       "      <td>平均房间数目^2</td>\n",
       "      <td>0.00726948</td>\n",
       "    </tr>\n",
       "    <tr>\n",
       "      <th>19</th>\n",
       "      <td>房屋使用年代中位数 平均卧室数目</td>\n",
       "      <td>0.0106115</td>\n",
       "    </tr>\n",
       "    <tr>\n",
       "      <th>41</th>\n",
       "      <td>平均入住率 街区的经度</td>\n",
       "      <td>0.0162413</td>\n",
       "    </tr>\n",
       "    <tr>\n",
       "      <th>40</th>\n",
       "      <td>平均入住率 街区的纬度</td>\n",
       "      <td>0.0213345</td>\n",
       "    </tr>\n",
       "    <tr>\n",
       "      <th>27</th>\n",
       "      <td>平均房间数目 平均入住率</td>\n",
       "      <td>0.0268879</td>\n",
       "    </tr>\n",
       "    <tr>\n",
       "      <th>44</th>\n",
       "      <td>街区的经度^2</td>\n",
       "      <td>0.0399077</td>\n",
       "    </tr>\n",
       "    <tr>\n",
       "      <th>11</th>\n",
       "      <td>住户收入中位数 平均房间数目</td>\n",
       "      <td>0.043302</td>\n",
       "    </tr>\n",
       "    <tr>\n",
       "      <th>42</th>\n",
       "      <td>街区的纬度^2</td>\n",
       "      <td>0.0618867</td>\n",
       "    </tr>\n",
       "    <tr>\n",
       "      <th>29</th>\n",
       "      <td>平均房间数目 街区的经度</td>\n",
       "      <td>0.082289</td>\n",
       "    </tr>\n",
       "    <tr>\n",
       "      <th>28</th>\n",
       "      <td>平均房间数目 街区的纬度</td>\n",
       "      <td>0.087509</td>\n",
       "    </tr>\n",
       "    <tr>\n",
       "      <th>43</th>\n",
       "      <td>街区的纬度 街区的经度</td>\n",
       "      <td>0.108107</td>\n",
       "    </tr>\n",
       "    <tr>\n",
       "      <th>30</th>\n",
       "      <td>平均卧室数目^2</td>\n",
       "      <td>0.160181</td>\n",
       "    </tr>\n",
       "    <tr>\n",
       "      <th>6</th>\n",
       "      <td>平均入住率</td>\n",
       "      <td>1.00386</td>\n",
       "    </tr>\n",
       "    <tr>\n",
       "      <th>8</th>\n",
       "      <td>街区的经度</td>\n",
       "      <td>5.88063</td>\n",
       "    </tr>\n",
       "    <tr>\n",
       "      <th>3</th>\n",
       "      <td>平均房间数目</td>\n",
       "      <td>6.44106</td>\n",
       "    </tr>\n",
       "    <tr>\n",
       "      <th>7</th>\n",
       "      <td>街区的纬度</td>\n",
       "      <td>8.70568</td>\n",
       "    </tr>\n",
       "  </tbody>\n",
       "</table>\n",
       "</div>"
      ],
      "text/plain": [
       "              feature         coef\n",
       "4              平均卧室数目     -31.5913\n",
       "1             住户收入中位数      -11.243\n",
       "2           房屋使用年代中位数    -0.848899\n",
       "33       平均卧室数目 街区的纬度    -0.437043\n",
       "34       平均卧室数目 街区的经度    -0.404151\n",
       "12     住户收入中位数 平均卧室数目    -0.186142\n",
       "15      住户收入中位数 街区的纬度    -0.152506\n",
       "16      住户收入中位数 街区的经度    -0.144243\n",
       "32       平均卧室数目 平均入住率   -0.0871911\n",
       "25      平均房间数目 平均卧室数目   -0.0689064\n",
       "9           住户收入中位数^2   -0.0313081\n",
       "22    房屋使用年代中位数 街区的纬度    -0.010069\n",
       "23    房屋使用年代中位数 街区的经度   -0.0099995\n",
       "14      住户收入中位数 平均入住率  -0.00259019\n",
       "21    房屋使用年代中位数 平均入住率  -0.00181717\n",
       "18   房屋使用年代中位数 平均房间数目  -0.00126219\n",
       "26        平均房间数目 街区人口 -6.82366e-05\n",
       "35             街区人口^2  2.73779e-09\n",
       "0                   1  5.91955e-08\n",
       "20     房屋使用年代中位数 街区人口  2.81885e-06\n",
       "38         街区人口 街区的经度  1.46568e-05\n",
       "36         街区人口 平均入住率  1.91427e-05\n",
       "37         街区人口 街区的纬度   2.2953e-05\n",
       "13       住户收入中位数 街区人口  5.72831e-05\n",
       "39            平均入住率^2  8.71561e-05\n",
       "17        房屋使用年代中位数^2  0.000211725\n",
       "5                街区人口  0.000406091\n",
       "31        平均卧室数目 街区人口  0.000514264\n",
       "10  住户收入中位数 房屋使用年代中位数   0.00185995\n",
       "24           平均房间数目^2   0.00726948\n",
       "19   房屋使用年代中位数 平均卧室数目    0.0106115\n",
       "41        平均入住率 街区的经度    0.0162413\n",
       "40        平均入住率 街区的纬度    0.0213345\n",
       "27       平均房间数目 平均入住率    0.0268879\n",
       "44            街区的经度^2    0.0399077\n",
       "11     住户收入中位数 平均房间数目     0.043302\n",
       "42            街区的纬度^2    0.0618867\n",
       "29       平均房间数目 街区的经度     0.082289\n",
       "28       平均房间数目 街区的纬度     0.087509\n",
       "43        街区的纬度 街区的经度     0.108107\n",
       "30           平均卧室数目^2     0.160181\n",
       "6               平均入住率      1.00386\n",
       "8               街区的经度      5.88063\n",
       "3              平均房间数目      6.44106\n",
       "7               街区的纬度      8.70568"
      ]
     },
     "execution_count": 189,
     "metadata": {},
     "output_type": "execute_result"
    }
   ],
   "source": [
    "coeff = pd.DataFrame([poly.get_feature_names(X.columns), reg.coef_]).T\n",
    "coeff.columns = [\"feature\", \"coef\"]\n",
    "\n",
    "coeff.sort_values(by=\"coef\")"
   ]
  },
  {
   "cell_type": "code",
   "execution_count": 190,
   "metadata": {},
   "outputs": [],
   "source": [
    "# 用多项式回归对模型表现的提升\n",
    "\n",
    "poly = PolynomialFeatures(degree=4).fit(X, y)\n",
    "X_ = poly.transform(X)"
   ]
  },
  {
   "cell_type": "code",
   "execution_count": 191,
   "metadata": {},
   "outputs": [
    {
     "data": {
      "text/plain": [
       "0.606232685199805"
      ]
     },
     "execution_count": 191,
     "metadata": {},
     "output_type": "execute_result"
    }
   ],
   "source": [
    "reg = LR().fit(X, y)\n",
    "reg.score(X, y)"
   ]
  },
  {
   "cell_type": "code",
   "execution_count": 193,
   "metadata": {},
   "outputs": [
    {
     "data": {
      "text/plain": [
       "0.7452068736655493"
      ]
     },
     "execution_count": 193,
     "metadata": {},
     "output_type": "execute_result"
    }
   ],
   "source": [
    "reg_ = LR().fit(X_, y)\n",
    "reg_.score(X_, y)"
   ]
  },
  {
   "cell_type": "code",
   "execution_count": 196,
   "metadata": {},
   "outputs": [
    {
     "data": {
      "text/html": [
       "<div>\n",
       "<style scoped>\n",
       "    .dataframe tbody tr th:only-of-type {\n",
       "        vertical-align: middle;\n",
       "    }\n",
       "\n",
       "    .dataframe tbody tr th {\n",
       "        vertical-align: top;\n",
       "    }\n",
       "\n",
       "    .dataframe thead th {\n",
       "        text-align: right;\n",
       "    }\n",
       "</style>\n",
       "<table border=\"1\" class=\"dataframe\">\n",
       "  <thead>\n",
       "    <tr style=\"text-align: right;\">\n",
       "      <th></th>\n",
       "      <th>feature</th>\n",
       "      <th>coef</th>\n",
       "    </tr>\n",
       "  </thead>\n",
       "  <tbody>\n",
       "    <tr>\n",
       "      <th>491</th>\n",
       "      <td>街区的纬度^3 街区的经度</td>\n",
       "      <td>-0.0107648</td>\n",
       "    </tr>\n",
       "    <tr>\n",
       "      <th>490</th>\n",
       "      <td>街区的纬度^4</td>\n",
       "      <td>-0.00870925</td>\n",
       "    </tr>\n",
       "    <tr>\n",
       "      <th>492</th>\n",
       "      <td>街区的纬度^2 街区的经度^2</td>\n",
       "      <td>-0.00498437</td>\n",
       "    </tr>\n",
       "    <tr>\n",
       "      <th>377</th>\n",
       "      <td>平均房间数目^2 平均卧室数目 平均入住率</td>\n",
       "      <td>-0.00376389</td>\n",
       "    </tr>\n",
       "    <tr>\n",
       "      <th>421</th>\n",
       "      <td>平均房间数目 街区的纬度^3</td>\n",
       "      <td>-0.00257284</td>\n",
       "    </tr>\n",
       "    <tr>\n",
       "      <th>...</th>\n",
       "      <td>...</td>\n",
       "      <td>...</td>\n",
       "    </tr>\n",
       "    <tr>\n",
       "      <th>38</th>\n",
       "      <td>街区人口 街区的经度</td>\n",
       "      <td>0.00208894</td>\n",
       "    </tr>\n",
       "    <tr>\n",
       "      <th>183</th>\n",
       "      <td>住户收入中位数^2 平均房间数目 平均入住率</td>\n",
       "      <td>0.0021025</td>\n",
       "    </tr>\n",
       "    <tr>\n",
       "      <th>319</th>\n",
       "      <td>房屋使用年代中位数 平均房间数目 平均卧室数目^2</td>\n",
       "      <td>0.00248276</td>\n",
       "    </tr>\n",
       "    <tr>\n",
       "      <th>168</th>\n",
       "      <td>住户收入中位数^3 平均卧室数目</td>\n",
       "      <td>0.0028625</td>\n",
       "    </tr>\n",
       "    <tr>\n",
       "      <th>343</th>\n",
       "      <td>房屋使用年代中位数 平均卧室数目 平均入住率^2</td>\n",
       "      <td>0.00414749</td>\n",
       "    </tr>\n",
       "  </tbody>\n",
       "</table>\n",
       "<p>495 rows × 2 columns</p>\n",
       "</div>"
      ],
      "text/plain": [
       "                       feature        coef\n",
       "491              街区的纬度^3 街区的经度  -0.0107648\n",
       "490                    街区的纬度^4 -0.00870925\n",
       "492            街区的纬度^2 街区的经度^2 -0.00498437\n",
       "377      平均房间数目^2 平均卧室数目 平均入住率 -0.00376389\n",
       "421             平均房间数目 街区的纬度^3 -0.00257284\n",
       "..                         ...         ...\n",
       "38                  街区人口 街区的经度  0.00208894\n",
       "183     住户收入中位数^2 平均房间数目 平均入住率   0.0021025\n",
       "319  房屋使用年代中位数 平均房间数目 平均卧室数目^2  0.00248276\n",
       "168           住户收入中位数^3 平均卧室数目   0.0028625\n",
       "343   房屋使用年代中位数 平均卧室数目 平均入住率^2  0.00414749\n",
       "\n",
       "[495 rows x 2 columns]"
      ]
     },
     "execution_count": 196,
     "metadata": {},
     "output_type": "execute_result"
    }
   ],
   "source": [
    "coeff = pd.DataFrame([poly.get_feature_names(X.columns), reg_.coef_]).T\n",
    "coeff.columns = [\"feature\", \"coef\"]\n",
    "\n",
    "coeff.sort_values(by=\"coef\")"
   ]
  },
  {
   "cell_type": "code",
   "execution_count": 199,
   "metadata": {},
   "outputs": [
    {
     "data": {
      "text/plain": [
       "0.9740733898217372"
      ]
     },
     "execution_count": 199,
     "metadata": {},
     "output_type": "execute_result"
    }
   ],
   "source": [
    "# 使用其它模型\n",
    "\n",
    "from sklearn.ensemble import RandomForestRegressor as RFR\n",
    "\n",
    "rfr = RFR(n_estimators=100).fit(X, y)\n",
    "rfr.score(X, y)"
   ]
  },
  {
   "cell_type": "code",
   "execution_count": null,
   "metadata": {},
   "outputs": [],
   "source": []
  },
  {
   "cell_type": "code",
   "execution_count": null,
   "metadata": {},
   "outputs": [],
   "source": []
  }
 ],
 "metadata": {
  "kernelspec": {
   "display_name": "Python 3",
   "language": "python",
   "name": "python3"
  },
  "language_info": {
   "codemirror_mode": {
    "name": "ipython",
    "version": 3
   },
   "file_extension": ".py",
   "mimetype": "text/x-python",
   "name": "python",
   "nbconvert_exporter": "python",
   "pygments_lexer": "ipython3",
   "version": "3.6.8"
  }
 },
 "nbformat": 4,
 "nbformat_minor": 4
}
