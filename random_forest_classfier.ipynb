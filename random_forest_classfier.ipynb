{
 "cells": [
  {
   "cell_type": "code",
   "execution_count": 31,
   "metadata": {},
   "outputs": [],
   "source": [
    "%matplotlib inline"
   ]
  },
  {
   "cell_type": "code",
   "execution_count": 32,
   "metadata": {},
   "outputs": [],
   "source": [
    "from sklearn.tree import DecisionTreeClassifier\n",
    "from sklearn.ensemble import RandomForestClassifier\n",
    "from sklearn.datasets import load_wine"
   ]
  },
  {
   "cell_type": "code",
   "execution_count": 33,
   "metadata": {},
   "outputs": [],
   "source": [
    "wine = load_wine()"
   ]
  },
  {
   "cell_type": "code",
   "execution_count": 34,
   "metadata": {},
   "outputs": [
    {
     "data": {
      "text/plain": [
       "array([[1.423e+01, 1.710e+00, 2.430e+00, ..., 1.040e+00, 3.920e+00,\n",
       "        1.065e+03],\n",
       "       [1.320e+01, 1.780e+00, 2.140e+00, ..., 1.050e+00, 3.400e+00,\n",
       "        1.050e+03],\n",
       "       [1.316e+01, 2.360e+00, 2.670e+00, ..., 1.030e+00, 3.170e+00,\n",
       "        1.185e+03],\n",
       "       ...,\n",
       "       [1.327e+01, 4.280e+00, 2.260e+00, ..., 5.900e-01, 1.560e+00,\n",
       "        8.350e+02],\n",
       "       [1.317e+01, 2.590e+00, 2.370e+00, ..., 6.000e-01, 1.620e+00,\n",
       "        8.400e+02],\n",
       "       [1.413e+01, 4.100e+00, 2.740e+00, ..., 6.100e-01, 1.600e+00,\n",
       "        5.600e+02]])"
      ]
     },
     "execution_count": 34,
     "metadata": {},
     "output_type": "execute_result"
    }
   ],
   "source": [
    "wine.data"
   ]
  },
  {
   "cell_type": "code",
   "execution_count": 35,
   "metadata": {},
   "outputs": [
    {
     "data": {
      "text/plain": [
       "array([0, 0, 0, 0, 0, 0, 0, 0, 0, 0, 0, 0, 0, 0, 0, 0, 0, 0, 0, 0, 0, 0,\n",
       "       0, 0, 0, 0, 0, 0, 0, 0, 0, 0, 0, 0, 0, 0, 0, 0, 0, 0, 0, 0, 0, 0,\n",
       "       0, 0, 0, 0, 0, 0, 0, 0, 0, 0, 0, 0, 0, 0, 0, 1, 1, 1, 1, 1, 1, 1,\n",
       "       1, 1, 1, 1, 1, 1, 1, 1, 1, 1, 1, 1, 1, 1, 1, 1, 1, 1, 1, 1, 1, 1,\n",
       "       1, 1, 1, 1, 1, 1, 1, 1, 1, 1, 1, 1, 1, 1, 1, 1, 1, 1, 1, 1, 1, 1,\n",
       "       1, 1, 1, 1, 1, 1, 1, 1, 1, 1, 1, 1, 1, 1, 1, 1, 1, 1, 1, 1, 2, 2,\n",
       "       2, 2, 2, 2, 2, 2, 2, 2, 2, 2, 2, 2, 2, 2, 2, 2, 2, 2, 2, 2, 2, 2,\n",
       "       2, 2, 2, 2, 2, 2, 2, 2, 2, 2, 2, 2, 2, 2, 2, 2, 2, 2, 2, 2, 2, 2,\n",
       "       2, 2])"
      ]
     },
     "execution_count": 35,
     "metadata": {},
     "output_type": "execute_result"
    }
   ],
   "source": [
    "wine.target"
   ]
  },
  {
   "cell_type": "code",
   "execution_count": 36,
   "metadata": {},
   "outputs": [],
   "source": [
    "from sklearn.model_selection import train_test_split"
   ]
  },
  {
   "cell_type": "code",
   "execution_count": 37,
   "metadata": {},
   "outputs": [],
   "source": [
    "XTrain, XTest, YTrain, YTest = train_test_split(wine.data, wine.target, test_size=0.3)"
   ]
  },
  {
   "cell_type": "code",
   "execution_count": 38,
   "metadata": {},
   "outputs": [],
   "source": [
    "clf = DecisionTreeClassifier(random_state=0)\n",
    "rfc = RandomForestClassifier(random_state=0)\n",
    "clf = clf.fit(XTrain, YTrain)\n",
    "rfc = rfc.fit(XTrain, YTrain)"
   ]
  },
  {
   "cell_type": "code",
   "execution_count": 39,
   "metadata": {},
   "outputs": [],
   "source": [
    "score_c = clf.score(XTest, YTest)\n",
    "score_r = rfc.score(XTest, YTest)"
   ]
  },
  {
   "cell_type": "code",
   "execution_count": 40,
   "metadata": {},
   "outputs": [
    {
     "name": "stdout",
     "output_type": "stream",
     "text": [
      "Single Tree: 0.9629629629629629 Random Forest: 0.9814814814814815\n"
     ]
    }
   ],
   "source": [
    "print(\"Single Tree: {}\".format(score_c), \"Random Forest: {}\".format(score_r))"
   ]
  },
  {
   "cell_type": "code",
   "execution_count": 41,
   "metadata": {},
   "outputs": [],
   "source": [
    "from sklearn.model_selection import cross_val_score\n",
    "import matplotlib.pyplot as plt"
   ]
  },
  {
   "cell_type": "code",
   "execution_count": 42,
   "metadata": {},
   "outputs": [],
   "source": [
    "rfc = RandomForestClassifier(n_estimators=25)\n",
    "rfc_s = cross_val_score(rfc, wine.data, wine.target, cv=10)"
   ]
  },
  {
   "cell_type": "code",
   "execution_count": 43,
   "metadata": {},
   "outputs": [],
   "source": [
    "clf = DecisionTreeClassifier()\n",
    "clf_s = cross_val_score(clf, wine.data, wine.target, cv=10)"
   ]
  },
  {
   "cell_type": "code",
   "execution_count": 44,
   "metadata": {},
   "outputs": [
    {
     "data": {
      "image/png": "[encoded data removed]",
      "text/plain": [
       "<Figure size 432x288 with 1 Axes>"
      ]
     },
     "metadata": {
      "needs_background": "light"
     },
     "output_type": "display_data"
    }
   ],
   "source": [
    "plt.plot(range(1, 11), rfc_s, label=\"RandomForest\")\n",
    "plt.plot(range(1, 11), clf_s, label=\"Decision Tree\")\n",
    "plt.legend()\n",
    "plt.show()"
   ]
  },
  {
   "cell_type": "code",
   "execution_count": 45,
   "metadata": {},
   "outputs": [
    {
     "data": {
      "image/png": "[encoded data removed]",
      "text/plain": [
       "<Figure size 432x288 with 1 Axes>"
      ]
     },
     "metadata": {
      "needs_background": "light"
     },
     "output_type": "display_data"
    }
   ],
   "source": [
    "# 10 组交叉验证\n",
    "rfc_l = []\n",
    "clf_l = []\n",
    "\n",
    "for i in range(10):\n",
    "    clf = DecisionTreeClassifier()\n",
    "    clf_s = cross_val_score(clf, wine.data, wine.target, cv=10).mean()\n",
    "    clf_l.append(clf_s)\n",
    "    rfc = RandomForestClassifier(n_estimators=25)\n",
    "    rfc_s = cross_val_score(rfc, wine.data, wine.target, cv=10).mean()\n",
    "    rfc_l.append(rfc_s)\n",
    "    \n",
    "plt.plot(range(1, 11), rfc_l, label=\"RandomForest\")\n",
    "plt.plot(range(1, 11), clf_l, label=\"Decision Tree\")\n",
    "plt.legend()\n",
    "plt.show()"
   ]
  },
  {
   "cell_type": "code",
   "execution_count": 47,
   "metadata": {},
   "outputs": [
    {
     "name": "stdout",
     "output_type": "stream",
     "text": [
      "0.9944444444444445 12\n"
     ]
    },
    {
     "data": {
      "image/png": "[encoded data removed]",
      "text/plain": [
       "<Figure size 1440x360 with 1 Axes>"
      ]
     },
     "metadata": {
      "needs_background": "light"
     },
     "output_type": "display_data"
    }
   ],
   "source": [
    "# n_estimators 的学习曲线\n",
    "superpa = []\n",
    "for i in range(200):\n",
    "    rfc = RandomForestClassifier(n_estimators=i+1, n_jobs=-1)\n",
    "    rfc_s = cross_val_score(rfc, wine.data, wine.target, cv=10).mean()\n",
    "    superpa.append(rfc_s)\n",
    "print(max(superpa), superpa.index(max(superpa)))\n",
    "plt.figure(figsize=[20, 5])\n",
    "plt.plot(range(1, 201), superpa)\n",
    "plt.show()"
   ]
  },
  {
   "cell_type": "code",
   "execution_count": 48,
   "metadata": {},
   "outputs": [],
   "source": [
    "# 袋外数据测试\n",
    "rfc = RandomForestClassifier(n_estimators=12, oob_score=True)\n",
    "rfc = rfc.fit(wine.data, wine.target)"
   ]
  },
  {
   "cell_type": "code",
   "execution_count": 49,
   "metadata": {},
   "outputs": [
    {
     "data": {
      "text/plain": [
       "0.9606741573033708"
      ]
     },
     "execution_count": 49,
     "metadata": {},
     "output_type": "execute_result"
    }
   ],
   "source": [
    "rfc.oob_score_"
   ]
  },
  {
   "cell_type": "code",
   "execution_count": 51,
   "metadata": {},
   "outputs": [
    {
     "data": {
      "text/plain": [
       "0.9444444444444444"
      ]
     },
     "execution_count": 51,
     "metadata": {},
     "output_type": "execute_result"
    }
   ],
   "source": [
    "rfc = RandomForestClassifier(n_estimators=12)\n",
    "rfc = rfc.fit(XTrain, YTrain)\n",
    "rfc.score(XTest,YTest)"
   ]
  },
  {
   "cell_type": "code",
   "execution_count": 53,
   "metadata": {},
   "outputs": [
    {
     "data": {
      "text/plain": [
       "array([0.05333488, 0.02403233, 0.02110744, 0.06699744, 0.03839684,\n",
       "       0.00419952, 0.08808277, 0.01156836, 0.01346121, 0.17772419,\n",
       "       0.15568537, 0.20060579, 0.14480386])"
      ]
     },
     "execution_count": 53,
     "metadata": {},
     "output_type": "execute_result"
    }
   ],
   "source": [
    "rfc.feature_importances_"
   ]
  },
  {
   "cell_type": "code",
   "execution_count": 54,
   "metadata": {},
   "outputs": [
    {
     "data": {
      "text/plain": [
       "array([[ 4,  1,  3, 15,  7,  8, 10,  5, 13, 17, 11,  6],\n",
       "       [ 6,  1,  6, 15,  5,  5,  4,  3, 13, 17, 11,  6],\n",
       "       [ 3,  7, 11,  4,  4,  2,  5,  3,  5,  5,  5,  3],\n",
       "       [ 4,  1,  6,  6,  3,  5,  3,  3, 13, 17, 11, 15],\n",
       "       [ 9, 11,  3, 17, 17,  8, 10,  7, 16, 12, 11,  8],\n",
       "       [14,  1,  3, 13,  7,  8, 19,  5, 22,  5,  5,  3],\n",
       "       [ 4,  1,  3, 15,  7, 10, 10,  5, 13, 17, 11,  6],\n",
       "       [14,  5, 14, 19, 18, 15, 19, 16, 24, 15, 15, 16],\n",
       "       [14,  5, 14, 20, 18, 15, 19, 16, 24, 15, 15, 16],\n",
       "       [14,  4, 14, 19, 13, 15, 19, 14, 24, 15, 15, 14],\n",
       "       [14, 11, 14, 19,  4,  4,  4,  3, 24,  5, 15,  8],\n",
       "       [14,  5, 14, 19, 18, 15, 19, 16, 24, 15, 15, 16],\n",
       "       [ 3,  7, 11, 13,  4,  2,  5,  3,  5,  5,  5,  3],\n",
       "       [ 9,  1,  3,  6,  7,  8, 10,  5,  9,  5, 11,  6],\n",
       "       [14,  7, 11, 13,  4,  2,  5,  3, 24,  5,  5,  3],\n",
       "       [ 9,  7, 11,  9, 17,  8, 10, 11,  5,  5,  5,  3],\n",
       "       [14,  5, 14, 19, 18, 15, 19, 14, 24, 15, 15, 16],\n",
       "       [14,  5, 14, 19, 18, 14, 19, 16, 24, 15, 15, 14],\n",
       "       [14,  1,  3, 15,  7,  8, 19,  5, 22, 17, 11,  6],\n",
       "       [14,  5, 14, 19, 18, 15, 19, 16, 24, 15, 15, 16],\n",
       "       [ 9, 13,  3, 15, 12,  8, 15, 16, 18, 17, 11,  6],\n",
       "       [14,  5, 14, 19, 18, 15, 19, 16, 24, 15, 15, 16],\n",
       "       [14,  5, 14, 19, 18, 15, 19, 16, 24, 15, 15,  9],\n",
       "       [ 6,  7, 11, 13,  4,  2,  5,  3,  5,  5,  5,  3],\n",
       "       [14, 11, 14, 19, 18, 19, 19, 16, 24, 22, 15, 16],\n",
       "       [14, 14, 14, 19, 18, 24, 19, 16, 24, 22, 18, 16],\n",
       "       [14,  5, 14, 19, 18, 15, 19, 16, 24, 15, 15, 16],\n",
       "       [14,  5, 14, 19, 18,  8, 19, 15, 24, 15, 15,  9],\n",
       "       [ 9, 13, 11, 17, 12,  8, 10, 10, 13,  5, 17,  6],\n",
       "       [14,  5, 14, 19, 18, 15, 19, 16, 24, 12,  9, 16],\n",
       "       [ 6,  7, 11, 13,  4,  2,  5,  3,  5,  5,  5,  3],\n",
       "       [14, 14, 14, 19, 18, 24, 19, 16, 24, 15, 15, 16],\n",
       "       [14,  7, 11, 13,  4,  2,  5,  3, 24,  5,  5,  3],\n",
       "       [14, 14, 14, 19, 18, 24, 19, 16, 24, 22, 15, 16],\n",
       "       [ 4,  1,  3, 15,  7,  8, 10,  5, 13, 17, 11,  6],\n",
       "       [13, 11, 11, 17, 16,  8, 10, 10, 16,  5,  5,  8],\n",
       "       [14,  5, 14, 19, 18, 15, 19, 16, 24, 15, 15, 16],\n",
       "       [ 6,  7, 11,  6,  4,  2,  5,  3,  5,  5,  5,  3],\n",
       "       [12,  7, 11, 13, 18,  8, 10, 10,  5,  5,  5,  3],\n",
       "       [14,  5, 14, 19, 18, 15, 19, 16, 24, 15, 15, 16],\n",
       "       [ 6,  7, 11, 13,  4,  2,  5,  3,  5,  5,  5,  3],\n",
       "       [ 9, 13, 11, 17, 16,  8, 10, 10, 10,  5,  5,  8],\n",
       "       [14,  1,  6, 19, 13, 24, 19, 16, 24, 17, 11, 16],\n",
       "       [ 9, 10, 13,  6, 12,  8, 10,  7, 13, 17, 13,  6],\n",
       "       [ 6,  7, 11, 13,  4,  2,  5,  3,  5,  5,  5,  3],\n",
       "       [ 6,  7, 11, 13,  5,  2,  5,  3,  5,  5,  5,  8],\n",
       "       [14, 14, 14, 19, 12, 18, 19, 16, 22, 15, 15,  6],\n",
       "       [14,  5, 14, 19, 18, 15, 19, 16, 24, 15, 15, 16],\n",
       "       [14,  5, 14, 19, 18, 15, 19, 16, 24, 15, 15,  9],\n",
       "       [ 4,  1,  3,  6,  7,  8, 10,  5,  9, 17, 11,  6],\n",
       "       [ 3,  4, 11, 12, 12,  8, 10, 10,  5,  3,  5,  3],\n",
       "       [ 9, 10, 13,  6, 12, 18, 13,  7, 13, 15, 13, 15],\n",
       "       [ 9, 10, 11, 17, 12,  8, 10, 11, 13,  5, 17,  6],\n",
       "       [ 4,  1,  3,  9, 12,  8, 10, 16,  9,  5, 11,  6]])"
      ]
     },
     "execution_count": 54,
     "metadata": {},
     "output_type": "execute_result"
    }
   ],
   "source": [
    "rfc.apply(XTest)"
   ]
  },
  {
   "cell_type": "code",
   "execution_count": 55,
   "metadata": {},
   "outputs": [
    {
     "data": {
      "text/plain": [
       "array([1, 1, 2, 1, 1, 1, 1, 0, 0, 0, 0, 0, 2, 1, 2, 2, 0, 0, 1, 0, 1, 0,\n",
       "       0, 2, 0, 0, 0, 0, 1, 0, 2, 0, 2, 0, 1, 2, 0, 2, 2, 0, 2, 2, 0, 1,\n",
       "       2, 2, 0, 0, 0, 1, 1, 1, 1, 1])"
      ]
     },
     "execution_count": 55,
     "metadata": {},
     "output_type": "execute_result"
    }
   ],
   "source": [
    "rfc.predict(XTest)"
   ]
  },
  {
   "cell_type": "code",
   "execution_count": 56,
   "metadata": {},
   "outputs": [
    {
     "data": {
      "text/plain": [
       "array([[0.        , 1.        , 0.        ],\n",
       "       [0.        , 0.75      , 0.25      ],\n",
       "       [0.        , 0.        , 1.        ],\n",
       "       [0.        , 0.91666667, 0.08333333],\n",
       "       [0.16666667, 0.66666667, 0.16666667],\n",
       "       [0.25      , 0.41666667, 0.33333333],\n",
       "       [0.        , 0.91666667, 0.08333333],\n",
       "       [1.        , 0.        , 0.        ],\n",
       "       [0.91666667, 0.08333333, 0.        ],\n",
       "       [0.91666667, 0.08333333, 0.        ],\n",
       "       [0.5       , 0.08333333, 0.41666667],\n",
       "       [1.        , 0.        , 0.        ],\n",
       "       [0.        , 0.        , 1.        ],\n",
       "       [0.        , 0.91666667, 0.08333333],\n",
       "       [0.16666667, 0.        , 0.83333333],\n",
       "       [0.        , 0.41666667, 0.58333333],\n",
       "       [1.        , 0.        , 0.        ],\n",
       "       [0.91666667, 0.08333333, 0.        ],\n",
       "       [0.25      , 0.75      , 0.        ],\n",
       "       [1.        , 0.        , 0.        ],\n",
       "       [0.16666667, 0.75      , 0.08333333],\n",
       "       [1.        , 0.        , 0.        ],\n",
       "       [1.        , 0.        , 0.        ],\n",
       "       [0.        , 0.        , 1.        ],\n",
       "       [1.        , 0.        , 0.        ],\n",
       "       [0.91666667, 0.08333333, 0.        ],\n",
       "       [1.        , 0.        , 0.        ],\n",
       "       [0.83333333, 0.16666667, 0.        ],\n",
       "       [0.        , 0.5       , 0.5       ],\n",
       "       [0.83333333, 0.16666667, 0.        ],\n",
       "       [0.        , 0.        , 1.        ],\n",
       "       [1.        , 0.        , 0.        ],\n",
       "       [0.16666667, 0.        , 0.83333333],\n",
       "       [1.        , 0.        , 0.        ],\n",
       "       [0.        , 1.        , 0.        ],\n",
       "       [0.25      , 0.33333333, 0.41666667],\n",
       "       [1.        , 0.        , 0.        ],\n",
       "       [0.        , 0.08333333, 0.91666667],\n",
       "       [0.16666667, 0.16666667, 0.66666667],\n",
       "       [1.        , 0.        , 0.        ],\n",
       "       [0.        , 0.        , 1.        ],\n",
       "       [0.        , 0.41666667, 0.58333333],\n",
       "       [0.66666667, 0.33333333, 0.        ],\n",
       "       [0.        , 1.        , 0.        ],\n",
       "       [0.        , 0.        , 1.        ],\n",
       "       [0.        , 0.16666667, 0.83333333],\n",
       "       [0.75      , 0.25      , 0.        ],\n",
       "       [1.        , 0.        , 0.        ],\n",
       "       [1.        , 0.        , 0.        ],\n",
       "       [0.        , 1.        , 0.        ],\n",
       "       [0.        , 0.5       , 0.5       ],\n",
       "       [0.08333333, 0.91666667, 0.        ],\n",
       "       [0.        , 0.66666667, 0.33333333],\n",
       "       [0.08333333, 0.83333333, 0.08333333]])"
      ]
     },
     "execution_count": 56,
     "metadata": {},
     "output_type": "execute_result"
    }
   ],
   "source": [
    "rfc.predict_proba(XTest)"
   ]
  },
  {
   "cell_type": "code",
   "execution_count": 59,
   "metadata": {},
   "outputs": [],
   "source": [
    "# 基分类器准确率\n",
    "import numpy as np\n",
    "from scipy.special import comb\n",
    "\n",
    "x = np.linspace(0, 1, 20)\n",
    "y = []\n",
    "for epsilon in np.linspace(0, 1, 20):\n",
    "    E = np.array([comb(25, i) * (epsilon ** i) * ((1 - epsilon) ** (25 - i)) for i in range(13, 26)]).sum()\n",
    "    y.append(E)"
   ]
  },
  {
   "cell_type": "code",
   "execution_count": 60,
   "metadata": {},
   "outputs": [
    {
     "data": {
      "image/png": "[encoded data removed]",
      "text/plain": [
       "<Figure size 432x288 with 1 Axes>"
      ]
     },
     "metadata": {
      "needs_background": "light"
     },
     "output_type": "display_data"
    }
   ],
   "source": [
    "# 基分类器准确率小于 0.5 时候，bagging 反而变差\n",
    "plt.plot(x, y, \"o-\", label=\"when estimator are different\")\n",
    "plt.plot(x, x, \"--\", color=\"red\", label=\"if all estimatore are same\")\n",
    "plt.xlabel(\"individual estimator error\")\n",
    "plt.ylabel(\"randomforest error\")\n",
    "plt.legend()\n",
    "plt.show()"
   ]
  },
  {
   "cell_type": "code",
   "execution_count": null,
   "metadata": {},
   "outputs": [],
   "source": []
  }
 ],
 "metadata": {
  "kernelspec": {
   "display_name": "Python 3",
   "language": "python",
   "name": "python3"
  },
  "language_info": {
   "codemirror_mode": {
    "name": "ipython",
    "version": 3
   },
   "file_extension": ".py",
   "mimetype": "text/x-python",
   "name": "python",
   "nbconvert_exporter": "python",
   "pygments_lexer": "ipython3",
   "version": "3.9.1"
  }
 },
 "nbformat": 4,
 "nbformat_minor": 4
}
